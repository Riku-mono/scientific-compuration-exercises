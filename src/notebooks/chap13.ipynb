{
 "cells": [
  {
   "cell_type": "markdown",
   "metadata": {},
   "source": [
    "# 第13章 推薦順位に基づく正確性\n",
    "\n",
    "https://recsyslab.github.io/recsys-python/ja/chap13.html"
   ]
  },
  {
   "cell_type": "markdown",
   "metadata": {},
   "source": [
    "# テストデータと推薦リスト\n",
    "\n",
    "次の評価値行列$\\boldsymbol{R}^{\\mathit{test}}$はテストデータである。$\\boldsymbol{R}$の$(u, i)$成分はユーザ$u$がアイテム$i$に与えた評価値$r_{u,i}$を表す。ただし、$-$で示した要素はテストデータの対象ではないことを表す。また、$\\boldsymbol{R}^{\\mathit{test}}$に含まれる成分の集合を$R^{\\mathit{test}}$と表す。\n",
    "\n",
    "$$\n",
    "\\boldsymbol{R}^{\\mathit{test}} = \\left[\n",
    " \\begin{array}{rrrrrrrrrr}\n",
    "  5 & 4 & 3 & - & 5 & 4 & 2 & 2 & - & - \\\\\n",
    "  3 & 3 & 3 & 3 & 2 & - & 4 & - & 5 & - \\\\\n",
    "  4 & - & 3 & 5 & 4 & 3 & - & 3 & - & - \\\\\n",
    " \\end{array}\n",
    "\\right]\n",
    "$$\n",
    "\n",
    "次の行列$\\hat{\\boldsymbol{R}}^{A}$は、推薦システムAによる推薦リストである。$\\hat{\\boldsymbol{R}}^{A}$の$(u, i)$成分は、それぞれユーザ$u$向けの推薦システムA、推薦システムBによる推薦リストにおける順位を表す。\n",
    "\n",
    "$$\n",
    "\\hat{\\boldsymbol{R}}^{A} = \\left[\n",
    " \\begin{array}{rrrrrrrrrr}\n",
    "  1 & - & 3 & - & 4 & 2 & 5 & - & - & - \\\\\n",
    "  4 & 1 & - & 3 & - & - & 5 & - & 2 & - \\\\\n",
    "  - & - & 5 & 3 & 4 & 2 & - & 1 & - & - \\\\\n",
    " \\end{array}\n",
    "\\right]\n",
    "$$"
   ]
  },
  {
   "cell_type": "markdown",
   "metadata": {},
   "source": [
    "## 準備\n",
    "\n",
    "次のコードを書きなさい。"
   ]
  },
  {
   "cell_type": "code",
   "execution_count": 20,
   "metadata": {},
   "outputs": [],
   "source": [
    "import math\n",
    "import numpy as np\n",
    "np.set_printoptions(precision=3)\n",
    "\n",
    "# 上位K件\n",
    "TOP_K = 5\n",
    "# 対数の底\n",
    "ALPHA = 2\n",
    "\n",
    "# テストデータ\n",
    "R = np.array([\n",
    "              [5, 4,      3, np.nan, 5, 4,      2,      2,      np.nan, np.nan],\n",
    "              [3, 3,      3, 3,      2, np.nan, 4,      np.nan, 5,      np.nan],\n",
    "              [4, np.nan, 3, 5,      4, 3,      np.nan, 3,      np.nan, np.nan],\n",
    "])\n",
    "U = np.arange(R.shape[0])\n",
    "I = np.arange(R.shape[1])\n",
    "Iu = [I[~np.isnan(R)[u,:]] for u in U]\n",
    "\n",
    "# 推薦システムAによる推薦リスト\n",
    "RA = np.array([\n",
    "               [1,      np.nan, 3,      np.nan, 4,      2,      5,      np.nan, np.nan, np.nan],\n",
    "               [4,      1,      np.nan, 3,      np.nan, np.nan, 5,      np.nan, 2,      np.nan],\n",
    "               [np.nan, np.nan, 5,      3,      4,      2,      np.nan, 1,      np.nan, np.nan],\n",
    "])\n",
    "\n",
    "def confusion_matrix(u, RS, K):\n",
    "    \"\"\"\n",
    "    ユーザu向け推薦リストRSの上位K件における混同行列の各値を返す。\n",
    "\n",
    "    Parameters\n",
    "    ----------\n",
    "    u : int\n",
    "        ユーザuのID\n",
    "    RS : ndarray\n",
    "        推薦リストRS\n",
    "    K : int\n",
    "        上位K件\n",
    "\n",
    "    Returns\n",
    "    -------\n",
    "    int\n",
    "        TP\n",
    "    int\n",
    "        FN\n",
    "    int\n",
    "        FP\n",
    "    int\n",
    "        TN\n",
    "    \"\"\"\n",
    "    like = R[u,Iu[u]]>=4\n",
    "    recommended = RS[u,Iu[u]]<=K\n",
    "    TP = np.count_nonzero(np.logical_and(like, recommended))\n",
    "    FN = np.count_nonzero(np.logical_and(like, ~recommended))\n",
    "    FP = np.count_nonzero(np.logical_and(~like, recommended))\n",
    "    TN = np.count_nonzero(np.logical_and(~like, ~recommended))\n",
    "    return TP, FN, FP, TN"
   ]
  },
  {
   "cell_type": "markdown",
   "metadata": {},
   "source": [
    "# 平均逆順位\n",
    "\n",
    "平均逆順位$\\mathit{MRR}$は次式で定義される。\n",
    "\n",
    "$$\n",
    "\\mathit{MRR} = \\frac{1}{\\mid U \\mid} \\sum_{u \\in U} \\frac{1}{k_{u}}\n",
    "$$\n",
    "\n",
    "ここで、$k_{u}$はユーザ$u$向けの推薦リストにおいて最初にユーザ$u$が好きなアイテムが見つかったときの順位を表す。ここでは、評価値が4以上のアイテムを好きなアイテムとみなす。\n",
    "\n",
    "### コード\n",
    "\n",
    "\n",
    "```python\n",
    "u = 0\n",
    "【    問01    】\n",
    "print('like = \\n{}'.format(like))\n",
    "【    問02    】\n",
    "print('ku = {}'.format(ku))\n",
    "【    問03    】\n",
    "print('MRR = {:.3f}'.format(MRR))\n",
    "```\n",
    "\n",
    "### 結果\n",
    "\n",
    "\n",
    "```bash\n",
    "like = \n",
    "[[ True  True False False  True  True False False False False]\n",
    " [False False False False False False  True False  True False]\n",
    " [ True False False  True  True False False False False False]]\n",
    "ku = [1. 2. 3.]\n",
    "MRR = 0.611\n",
    "```\n",
    "\n",
    "このとき、次の問いに答えなさい。\n"
   ]
  },
  {
   "cell_type": "markdown",
   "metadata": {},
   "source": [
    "## 01 好きなアイテムか否かの判定\n",
    "\n",
    "`R`において、評価値が4以上の要素には`True`を、4未満の要素には`False`を入れたブール値配列を生成するコードを書きなさい。得られたブール値配列を`like`とすること。"
   ]
  },
  {
   "cell_type": "markdown",
   "metadata": {},
   "source": [
    "## 02 最初に好きなアイテムが見つかったときの順位\n",
    "\n",
    "各ユーザ向けの推薦リストにおいて最初にそのユーザが好きなアイテムが見つかったときの順位$k_{u}$を`ndarray`としてまとめて求めるコードを書きなさい。得られた`ndarray`を`ku`とすること。"
   ]
  },
  {
   "cell_type": "markdown",
   "metadata": {},
   "source": [
    "## 03 MRR\n",
    "\n",
    "$\\mathit{MRR}$を求めるコードを書きなさい。得られた値を`MRR`とすること。"
   ]
  },
  {
   "cell_type": "code",
   "execution_count": 21,
   "metadata": {},
   "outputs": [
    {
     "name": "stdout",
     "output_type": "stream",
     "text": [
      "like = \n",
      "[[ True  True False False  True  True False False False False]\n",
      " [False False False False False False  True False  True False]\n",
      " [ True False False  True  True False False False False False]]\n",
      "ku = [1. 2. 3.]\n",
      "MRR = 0.611\n"
     ]
    }
   ],
   "source": [
    "u = 0\n",
    "like = R>=4\n",
    "print('like = \\n{}'.format(like))\n",
    "ku = np.array([np.nanmin(RA[u,like[u]]) for u in U])\n",
    "print('ku = {}'.format(ku))\n",
    "MRR = (1/ U.size) * np.sum([1/ku[u] for u in U])\n",
    "print('MRR = {:.3f}'.format(MRR))"
   ]
  },
  {
   "cell_type": "markdown",
   "metadata": {},
   "source": [
    "# 平均適合率\n",
    "\n",
    "第$K$位までのユーザ$u$向けの推薦リストの平均適合率$\\mathit{AP}_{u}$は次式で定義される。\n",
    "\n",
    "$$\n",
    "\\mathit{AP}_{u} = \\frac{1}{\\sum_{k=1}^{K} \\mathit{rel}_k} \\sum_{k=1}^{K} \\mathit{rel}_k \\cdot \\mathit{precision}@k\n",
    "$$\n",
    "\n",
    "ここで、$\\mathit{precision}@k$は順位$k$における適合率を表す。$\\mathit{rel}_k$は次式で定義される。\n",
    "\n",
    "$$\n",
    "\\mathit{rel}_k =\n",
    "    \\begin{cases}\n",
    "        1 & (\\text{第$k$位が好きなアイテムであるとき}) \\\\\n",
    "        0 & (\\text{otherwise})\n",
    "    \\end{cases}\n",
    "$$\n",
    "\n",
    "また、すべてのユーザの平均適合率を平均した$\\mathit{MAP}$は次式で定義される。\n",
    "\n",
    "$$\n",
    "\\mathit{MAP} = \\frac{1}{\\mid U \\mid} \\sum_{u \\in U} \\mathit{AP}_{u}\n",
    "$$\n",
    "\n",
    "### コード\n",
    "\n",
    "```python\n",
    "# 各順位における適合率\n",
    "precisions = []\n",
    "for u in U:\n",
    "    precisions_u = []\n",
    "    for k in range(1, Iu[u].size+1):\n",
    "        TP, FN, FP, TN = confusion_matrix(u, RA, k)\n",
    "        precision_uk = TP / (TP + FP)\n",
    "        precisions_u.append(precision_uk)\n",
    "    precisions.append(precisions_u)\n",
    "print('precisions = \\n{}'.format(precisions))\n",
    "\n",
    "【    問04    】\n",
    "print('ranked_R = \\n{}'.format(ranked_R))\n",
    "【    問05    】\n",
    "print('ranked_like = \\n{}'.format(ranked_like))\n",
    "【    問06    】\n",
    "print('rel = \\n{}'.format(rel))\n",
    "【    問07    】\n",
    "print('APu = {}'.format(APu))\n",
    "【    問08    】\n",
    "print('MAP = {:.3f}'.format(MAP))\n",
    "```\n",
    "\n",
    "### 結果\n",
    "\n",
    "```bash\n",
    "precisions = \n",
    "[[1.0, 1.0, 0.6666666666666666, 0.75, 0.6, 0.6, 0.6], [0.0, 0.5, 0.3333333333333333, 0.25, 0.4, 0.4, 0.4], [0.0, 0.0, 0.3333333333333333, 0.5, 0.4, 0.4]]\n",
    "ranked_R = \n",
    "[[ 5.  4.  3.  5.  2.  4. nan  2. nan nan]\n",
    " [ 3.  5.  3.  3.  4.  3.  2. nan nan nan]\n",
    " [ 3.  3.  5.  4.  3.  4. nan nan nan nan]]\n",
    "ranked_like = \n",
    "[[ True  True False  True False  True False False False False]\n",
    " [False  True False False  True False False False False False]\n",
    " [False False  True  True False  True False False False False]]\n",
    "rel = \n",
    "[[1 1 0 1 0 1 0 0 0 0]\n",
    " [0 1 0 0 1 0 0 0 0 0]\n",
    " [0 0 1 1 0 1 0 0 0 0]]\n",
    "APu = [0.917 0.45  0.417]\n",
    "MAP = 0.594\n",
    "```\n",
    "\n",
    "このとき、次の問いに答えなさい。"
   ]
  },
  {
   "cell_type": "markdown",
   "metadata": {},
   "source": [
    "## 04 評価値行列の並べ替え\n",
    "\n",
    "`RA`に示された順位にしたがって、`R`の各行をユーザごとの推薦順位の昇順に並べ替えた`ndarray`を生成するコードを書きなさい。生成した`ndarray`を`ranked_R`とすること。"
   ]
  },
  {
   "cell_type": "markdown",
   "metadata": {},
   "source": [
    "## 05 好きなアイテムか否かの判定\n",
    "\n",
    "`ranked_R`において、評価値が4以上の要素には`True`を、4未満の要素には`False`を入れたブール値配列を生成するコードを書きなさい。得られたブール値配列を`ranked_like`とすること。"
   ]
  },
  {
   "cell_type": "markdown",
   "metadata": {},
   "source": [
    "## 06 好きなアイテムか否かの判定\n",
    "\n",
    "`ranked_like`において、`True`の要素には`1`を、`False`の要素には`0`を入れた`ndarray`を生成するコードを書きなさい。生成した`ndarray`を`rel`とすること。"
   ]
  },
  {
   "cell_type": "markdown",
   "metadata": {},
   "source": [
    "## 07 各ユーザのAP\n",
    "\n",
    "上位`TOP_K`件の推薦リストについて各ユーザの$\\mathit{AP}_{u}$を`ndarray`としてまとめて求めるコードを書きなさい。得られた`ndarray`を`APu`とすること。"
   ]
  },
  {
   "cell_type": "markdown",
   "metadata": {},
   "source": [
    "## 08 MAP\n",
    "\n",
    "上位`TOP_K`件の推薦リストについて$\\mathit{MAP}$を求めるコードを書きなさい。得られた値を`MAP`とすること。"
   ]
  },
  {
   "cell_type": "code",
   "execution_count": 22,
   "metadata": {},
   "outputs": [
    {
     "name": "stdout",
     "output_type": "stream",
     "text": [
      "precisions = \n",
      "[[1.0, 1.0, 0.6666666666666666, 0.75, 0.6, 0.6, 0.6], [0.0, 0.5, 0.3333333333333333, 0.25, 0.4, 0.4, 0.4], [0.0, 0.0, 0.3333333333333333, 0.5, 0.4, 0.4]]\n",
      "ranked_R = \n",
      "[[ 5.  4.  3.  5.  2.  4. nan  2. nan nan]\n",
      " [ 3.  5.  3.  3.  4.  3.  2. nan nan nan]\n",
      " [ 3.  3.  5.  4.  3.  4. nan nan nan nan]]\n",
      "ranked_like = \n",
      "[[ True  True False  True False  True False False False False]\n",
      " [False  True False False  True False False False False False]\n",
      " [False False  True  True False  True False False False False]]\n",
      "rel = \n",
      "[[1 1 0 1 0 1 0 0 0 0]\n",
      " [0 1 0 0 1 0 0 0 0 0]\n",
      " [0 0 1 1 0 1 0 0 0 0]]\n",
      "APu = [0.917 0.45  0.417]\n",
      "MAP = 0.594\n"
     ]
    }
   ],
   "source": [
    "# 各順位における適合率\n",
    "precisions = []\n",
    "for u in U:\n",
    "    precisions_u = []\n",
    "    for k in range(1, Iu[u].size+1):\n",
    "        TP, FN, FP, TN = confusion_matrix(u, RA, k)\n",
    "        precision_uk = TP / (TP + FP)\n",
    "        precisions_u.append(precision_uk)\n",
    "    precisions.append(precisions_u)\n",
    "print('precisions = \\n{}'.format(precisions))\n",
    "\n",
    "indices = np.argsort(RA)\n",
    "ranked_R = np.array([R[u,indices[u]] for u in U])\n",
    "print('ranked_R = \\n{}'.format(ranked_R))\n",
    "ranked_like = ranked_R>=4\n",
    "print('ranked_like = \\n{}'.format(ranked_like))\n",
    "rel = np.array([list(map(int, ranked_like[u])) for u in U])\n",
    "print('rel = \\n{}'.format(rel))\n",
    "APu = np.array([(1 / np.sum([rel[u,k] for k in range(0, TOP_K)])) * np.sum([rel[u,k] * precisions[u][k] for k in range(0, TOP_K)]) for u in U])\n",
    "print('APu = {}'.format(APu))\n",
    "MAP = (1 / U.size) * np.sum(APu)\n",
    "print('MAP = {:.3f}'.format(MAP))"
   ]
  },
  {
   "cell_type": "markdown",
   "metadata": {},
   "source": [
    "# DCG\n",
    "\n",
    "ユーザ$u$向けの推薦リストの$\\mathit{DCG}_{u}$は次式で定義される。\n",
    "\n",
    "$$\n",
    "\\mathit{DCG}_{u} = \\sum_{i \\in I_{u}^{\\mathit{rec}}, k_{i} \\leq K} \\frac{r_{u,i}}{\\max (1, \\log_{\\alpha} k_{i})}\n",
    "$$\n",
    "\n",
    "ここで、$I_{u}^{\\mathit{rec}}$はユーザ$u$向けの推薦リストに含まれるアイテム集合である。$k_{i}$は推薦リストにおけるアイテム$i$の順位を表す。$\\alpha$は対数の底であり、ここでは、$\\alpha = 2$とする。\n",
    "\n",
    "ユーザ$u$向けの推薦リストの$\\mathit{nDCG}_{u}$は次式で定義される。\n",
    "\n",
    "$$\n",
    "\\mathit{nDCG}_{u} = \\frac{\\mathit{DCG}_{u}}{\\mathit{IDCG}_{u}}\n",
    "$$\n",
    "\n",
    "ここで、$\\mathit{IDCG}_{u}$は、ユーザ$u$のテストデータを理想的な順位（評価値が高い順）に並べ替えた推薦リストのDCGを表す。すべてのユーザのnDCGの平均値を$\\mathit{nDCG}$とすると、次式で定義される。\n",
    "\n",
    "$$\n",
    "\\mathit{nDCG} = \\frac{1}{\\mid U \\mid} \\sum_{u \\in U} \\mathit{nDCG}_{u}\n",
    "$$\n",
    "\n",
    "### コード\n",
    "\n",
    "```python\n",
    "Iu_rec = [I[~np.isnan(RA[u])] for u in U]\n",
    "【    問09    】\n",
    "print('DCGu = {}'.format(DCGu))\n",
    "\n",
    "【    問10    】\n",
    "print('RI = \\n{}'.format(RI))\n",
    "【    問11    】\n",
    "print('Iu_recI = \\n{}'.format(Iu_recI))\n",
    "【    問12    】\n",
    "print('IDCGu = {}'.format(IDCGu))\n",
    "【    問13    】\n",
    "print('nDCGu = {}'.format(nDCGu))\n",
    "【    問14    】\n",
    "print('nDCG = {:.3f}'.format(nDCG))\n",
    "```\n",
    "\n",
    "### 結果\n",
    "\n",
    "```bash\n",
    "DCGu = [14.254 13.115 12.447]\n",
    "RI = \n",
    "[[ 1  3  5  8  2  4  6  7  9 10]\n",
    " [ 3  4  5  6  7  8  2  9  1 10]\n",
    " [ 2  7  4  1  3  5  8  6  9 10]]\n",
    "Iu_recI = \n",
    "[[0 1 2 4 5]\n",
    " [0 1 2 6 8]\n",
    " [0 2 3 4 5]]\n",
    "IDCGu = [15.816 13.685 14.316]\n",
    "nDCGu = [0.901 0.958 0.869]\n",
    "nDCG = 0.910\n",
    "```\n",
    "\n",
    "このとき、次の問いに答えなさい。"
   ]
  },
  {
   "cell_type": "markdown",
   "metadata": {},
   "source": [
    "## 09 各ユーザのDCG\n",
    "\n",
    "各ユーザの$\\mathit{DCG}_{u}$を`ndarray`としてまとめて求めるコードを書きなさい。ただし、$\\alpha$は`ALPHA`とする。得られた`ndarray`を`DCGu`とすること。"
   ]
  },
  {
   "cell_type": "markdown",
   "metadata": {},
   "source": [
    "## 10 理想的な推薦順位\n",
    "\n",
    "`R`において、各ユーザにとっての理想的な推薦順位を`ndarray`として生成するコードを書きなさい。生成した`ndarray`を`RI`とすること。"
   ]
  },
  {
   "cell_type": "markdown",
   "metadata": {},
   "source": [
    "## 11 理想的な推薦リスト\n",
    "\n",
    "`RI`から上位`TOP_K`以内のアイテム集合を各ユーザにとっての理想的な推薦リストとする。このとき各ユーザにとっての理想的な推薦リストを`ndarray`として生成するコードを書きなさい。生成した`ndarray`を`Iu_recI`とすること。"
   ]
  },
  {
   "cell_type": "markdown",
   "metadata": {},
   "source": [
    "## 12 各ユーザのIDCG\n",
    "\n",
    "各ユーザの$\\mathit{IDCG}_{u}$を`ndarray`としてまとめて求めるコードを書きなさい。ただし、$\\alpha$は`ALPHA`とする。得られた`ndarray`を`IDCGu`とすること。"
   ]
  },
  {
   "cell_type": "markdown",
   "metadata": {},
   "source": [
    "## 13 各ユーザのnDCG\n",
    "\n",
    "各ユーザの$\\mathit{nDCG}_{u}$を`ndarray`としてまとめて求めるコードを書きなさい。得られた`ndarray`を`nDCGu`とすること。"
   ]
  },
  {
   "cell_type": "markdown",
   "metadata": {},
   "source": [
    "## 14 nDCG\n",
    "\n",
    "$\\mathit{nDCG}$を求めるコードを書きなさい。得られた値を`nDCG`とすること。"
   ]
  },
  {
   "cell_type": "code",
   "execution_count": 23,
   "metadata": {},
   "outputs": [
    {
     "name": "stdout",
     "output_type": "stream",
     "text": [
      "DCGu = [14.254 13.115 12.447]\n",
      "RI = \n",
      "[[ 1  3  5  8  2  4  6  7  9 10]\n",
      " [ 3  4  5  6  7  8  2  9  1 10]\n",
      " [ 2  7  4  1  3  5  8  6  9 10]]\n",
      "Iu_recI = \n",
      "[[0 1 2 4 5]\n",
      " [0 1 2 6 8]\n",
      " [0 2 3 4 5]]\n",
      "IDCGu = [15.816 13.685 14.316]\n",
      "nDCGu = [0.901 0.958 0.869]\n",
      "nDCG = 0.910\n"
     ]
    }
   ],
   "source": [
    "Iu_rec = [I[~np.isnan(RA[u])] for u in U]\n",
    "DCGu = np.array([np.sum([R[u,i] / np.max([1, math.log(RA[u,i], ALPHA)]) for i in Iu_rec[u]]) for u in U])\n",
    "print('DCGu = {}'.format(DCGu))\n",
    "\n",
    "RI = np.argsort(np.argsort(-R)) + 1\n",
    "print('RI = \\n{}'.format(RI))\n",
    "Iu_recI = np.array([I[RI[u]<=TOP_K] for u in U])\n",
    "print('Iu_recI = \\n{}'.format(Iu_recI))\n",
    "IDCGu = np.array([np.sum([R[u,i] / np.max([1, math.log(RI[u,i], ALPHA)]) for i in Iu_recI[u]]) for u in U])\n",
    "print('IDCGu = {}'.format(IDCGu))\n",
    "nDCGu = DCGu / IDCGu\n",
    "print('nDCGu = {}'.format(nDCGu))\n",
    "nDCG = np.mean(nDCGu)\n",
    "print('nDCG = {:.3f}'.format(nDCG))"
   ]
  }
 ],
 "metadata": {
  "kernelspec": {
   "display_name": ".venv",
   "language": "python",
   "name": "python3"
  },
  "language_info": {
   "codemirror_mode": {
    "name": "ipython",
    "version": 3
   },
   "file_extension": ".py",
   "mimetype": "text/x-python",
   "name": "python",
   "nbconvert_exporter": "python",
   "pygments_lexer": "ipython3",
   "version": "3.11.3"
  }
 },
 "nbformat": 4,
 "nbformat_minor": 2
}
