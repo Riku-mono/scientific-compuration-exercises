{
 "cells": [
  {
   "cell_type": "markdown",
   "metadata": {},
   "source": [
    "# 第2章 評価値行列\n",
    "\n",
    "https://recsyslab.github.io/recsys-python/ja/chap02.html"
   ]
  },
  {
   "cell_type": "markdown",
   "metadata": {},
   "source": [
    "## 準備\n",
    "\n",
    "次のコードを書きなさい。"
   ]
  },
  {
   "cell_type": "code",
   "execution_count": 1,
   "metadata": {},
   "outputs": [],
   "source": [
    "import pprint\n",
    "import numpy as np\n",
    "np.set_printoptions(precision=3)"
   ]
  },
  {
   "cell_type": "markdown",
   "metadata": {},
   "source": [
    "# 評価値行列\n",
    "\n",
    "次の行列$\\boldsymbol{R}$は評価値行列である。\n",
    "\n",
    "$$\n",
    "\\boldsymbol{R} = \\left[\n",
    " \\begin{array}{rrrrrr}\n",
    "  ? & 4 & 3 & 1 & 2 & ? \\\\\n",
    "  5 & 5 & 4 & ? & 3 & 3 \\\\\n",
    "  4 & ? & 5 & 3 & 2 & ? \\\\\n",
    "  ? & 3 & ? & 2 & 1 & 1 \\\\\n",
    "  2 & 1 & 2 & 4 & ? & 3 \\\\\n",
    " \\end{array}\n",
    "\\right]\n",
    "$$\n",
    "\n",
    "$\\boldsymbol{R}$の$u$行目はユーザ$u \\in U$を表し、$i$列目はアイテム$i \\in I$を表す。ここで、$\\boldsymbol{R}$におけるユーザ数は$\\mid U \\mid = 5$、アイテム数は$\\mid I \\mid = 6$となる。$\\boldsymbol{R}$の$(u, i)$成分はユーザ$u$がアイテム$i$に与えた評価値$r_{u,i}$を表す。ただし、$?$は欠損値であることを表す。このとき、次の問いに答えなさい。\n"
   ]
  },
  {
   "cell_type": "markdown",
   "metadata": {},
   "source": [
    "## 01 評価値行列の生成\n",
    "\n",
    "評価値行列$\\boldsymbol{R}$を`ndarray`として生成するコードを書きなさい。得られた`ndarray`を`R`とすること。"
   ]
  },
  {
   "cell_type": "code",
   "execution_count": 2,
   "metadata": {},
   "outputs": [
    {
     "name": "stdout",
     "output_type": "stream",
     "text": [
      "R = \n",
      "[[nan  4.  3.  1.  2. nan]\n",
      " [ 5.  5.  4. nan  3.  3.]\n",
      " [ 4. nan  5.  3.  2. nan]\n",
      " [nan  3. nan  2.  1.  1.]\n",
      " [ 2.  1.  2.  4. nan  3.]]\n"
     ]
    }
   ],
   "source": [
    "R = np.array([\n",
    "  [np.nan, 4, 3, 1, 2, np.nan],\n",
    "  [5, 5, 4, np.nan, 3, 3],\n",
    "  [4, np.nan, 5, 3, 2, np.nan],\n",
    "  [np.nan, 3, np.nan, 2, 1, 1],\n",
    "  [2, 1, 2, 4, np.nan, 3]\n",
    "])\n",
    "print('R = \\n{}'.format(R))"
   ]
  },
  {
   "cell_type": "markdown",
   "metadata": {},
   "source": [
    "## 02 ユーザ集合\n",
    "\n",
    "`R`の各行のインデックス`u`は各ユーザ$u$のユーザIDに対応する。`R`からユーザ集合$U$（ユーザIDを要素としたベクトル）を`ndarray`として生成するコードを書きなさい。得られた`ndarray`を`U`とすること。"
   ]
  },
  {
   "cell_type": "code",
   "execution_count": 3,
   "metadata": {},
   "outputs": [
    {
     "name": "stdout",
     "output_type": "stream",
     "text": [
      "U = [0 1 2 3 4]\n"
     ]
    }
   ],
   "source": [
    "U = np.arange(R.shape[0])\n",
    "\n",
    "print('U = {}'.format(U))"
   ]
  },
  {
   "cell_type": "markdown",
   "metadata": {},
   "source": [
    "## 03 アイテム集合\n",
    "\n",
    "`R`の各列のインデックス`i`は各アイテム$i$のアイテムIDに対応する。`R`からアイテム集合$I$（アイテムIDを要素としたベクトル）を`ndarray`として生成するコードを書きなさい。得られた`ndarray`を`I`とすること。"
   ]
  },
  {
   "cell_type": "code",
   "execution_count": 4,
   "metadata": {},
   "outputs": [
    {
     "name": "stdout",
     "output_type": "stream",
     "text": [
      "I = [0 1 2 3 4 5]\n"
     ]
    }
   ],
   "source": [
    "I= np.arange(R.shape[1])\n",
    "\n",
    "print('I = {}'.format(I))"
   ]
  },
  {
   "cell_type": "markdown",
   "metadata": {},
   "source": [
    "## 04 ユーザ数\n",
    "\n",
    "`U`からユーザ数$\\mid U \\mid$を取得するコードを書きなさい。"
   ]
  },
  {
   "cell_type": "code",
   "execution_count": 5,
   "metadata": {},
   "outputs": [
    {
     "name": "stdout",
     "output_type": "stream",
     "text": [
      "|U| = 5\n"
     ]
    }
   ],
   "source": [
    "print('|U| = {}'.format(U.size))"
   ]
  },
  {
   "cell_type": "markdown",
   "metadata": {},
   "source": [
    "## 05 アイテム数\n",
    "\n",
    "`I`からアイテム数$\\mid I \\mid$を取得するコードを書きなさい。"
   ]
  },
  {
   "cell_type": "code",
   "execution_count": 6,
   "metadata": {},
   "outputs": [
    {
     "name": "stdout",
     "output_type": "stream",
     "text": [
      "|I| = 6\n"
     ]
    }
   ],
   "source": [
    "print('|I| = {}'.format(I.size))"
   ]
  },
  {
   "cell_type": "markdown",
   "metadata": {},
   "source": [
    "## 06 評価値\n",
    "\n",
    "`R`からユーザ$u$のアイテム$i$に対する評価値$r_{u,i}$を取得するコードを書きなさい。"
   ]
  },
  {
   "cell_type": "code",
   "execution_count": 7,
   "metadata": {},
   "outputs": [
    {
     "name": "stdout",
     "output_type": "stream",
     "text": [
      "r01 = 4.0\n"
     ]
    }
   ],
   "source": [
    "u = 0\n",
    "i = 1\n",
    "print('r{}{} = {}'.format(u, i, R[u, i]))"
   ]
  },
  {
   "cell_type": "markdown",
   "metadata": {},
   "source": [
    "# 評価値行列の疎性\n",
    "評価値行列$\\boldsymbol{R}$の疎性$\\mathrm{sparsity}$は次式で求められる。\n",
    "\n",
    "$$\n",
    "\\mathrm{sparsity} = 1 - \\frac{\\mid R \\mid}{\\mid U \\mid \\mid I \\mid}\n",
    "$$\n",
    "\n",
    "ここで、$\\mid R \\mid$は評価値が与えられた成分の数、すなわち観測値数（欠損値でない要素数）を表す。このとき、次の問いに答えなさい。"
   ]
  },
  {
   "cell_type": "markdown",
   "metadata": {},
   "source": [
    "## 07 評価値行列の全要素数\n",
    "\n",
    "`R`の全要素数を取得するコードを書きなさい。ただし、欠損値も含む。"
   ]
  },
  {
   "cell_type": "code",
   "execution_count": 8,
   "metadata": {},
   "outputs": [
    {
     "name": "stdout",
     "output_type": "stream",
     "text": [
      "Rの全要素数 = 30\n"
     ]
    }
   ],
   "source": [
    "print('Rの全要素数 = {}'.format(R.size))"
   ]
  },
  {
   "cell_type": "markdown",
   "metadata": {},
   "source": [
    "## 08 観測されているか否かの判定\n",
    "\n",
    "`R`において、観測値の要素には`True`を、欠損値の要素には`False`を入れたブール値配列を生成するコードを書きなさい。"
   ]
  },
  {
   "cell_type": "code",
   "execution_count": 9,
   "metadata": {},
   "outputs": [
    {
     "name": "stdout",
     "output_type": "stream",
     "text": [
      "観測値 = \n",
      "[[False  True  True  True  True False]\n",
      " [ True  True  True False  True  True]\n",
      " [ True False  True  True  True False]\n",
      " [False  True False  True  True  True]\n",
      " [ True  True  True  True False  True]]\n"
     ]
    }
   ],
   "source": [
    "print('観測値 = \\n{}'.format(~np.isnan(R)))"
   ]
  },
  {
   "cell_type": "markdown",
   "metadata": {},
   "source": [
    "## 09 評価値行列の観測値数\n",
    "\n",
    "`R`における観測値数$\\mid R \\mid$を取得するコードを書きなさい。"
   ]
  },
  {
   "cell_type": "code",
   "execution_count": 10,
   "metadata": {},
   "outputs": [
    {
     "name": "stdout",
     "output_type": "stream",
     "text": [
      "|R| = 22\n"
     ]
    }
   ],
   "source": [
    "print('|R| = {}'.format(np.count_nonzero(~np.isnan(R))))"
   ]
  },
  {
   "cell_type": "markdown",
   "metadata": {},
   "source": [
    "## 10 評価値行列の疎性\n",
    "\n",
    "評価値行列$\\boldsymbol{R}$の疎性$\\mathrm{sparsity}$を求めるコードを書きなさい。得られた値を`sparsity`とすること。"
   ]
  },
  {
   "cell_type": "code",
   "execution_count": 11,
   "metadata": {},
   "outputs": [
    {
     "name": "stdout",
     "output_type": "stream",
     "text": [
      "sparsity = 0.267\n"
     ]
    }
   ],
   "source": [
    "# sparsity = np.count_nonzero(np.isnan(R)) / R.size\n",
    "sparsity = 1 - np.count_nonzero(~np.isnan(R)) / (I.size * U.size)\n",
    "\n",
    "print('sparsity = {:.3f}'.format(sparsity))"
   ]
  },
  {
   "cell_type": "markdown",
   "metadata": {},
   "source": [
    "# 評価済みアイテム集合\n",
    "\n",
    "アイテム集合$I$のうちユーザ$u$が評価済みのアイテム集合を$I_{u} \\subseteq I$、ユーザ$v$が評価済みのアイテム集合を$I_{v} \\subseteq I$とすると、ユーザ$u$とユーザ$v$の共通の評価済みアイテム集合は$I_{u,v} = I_{u} \\cap I_{v}$と表される。また、ユーザ集合$U$のうちアイテム$i$を評価済みのユーザ集合を$U_{i} \\subseteq U$、アイテム$j$を評価済みのユーザ集合を$U_{j} \\subseteq U$とすると、アイテム$i$とアイテム$j$の両方を評価済みのユーザ集合は$U_{i,j} = U_{i} \\cap U_{j}$と表される。このとき、次の問いに答えなさい。\n"
   ]
  },
  {
   "cell_type": "markdown",
   "metadata": {},
   "source": [
    "## 11 ユーザuが評価済みのアイテム集合\n",
    "\n",
    "`I`からユーザ$u$が評価済みのアイテム集合$I_{u}$を`ndarray`として生成するコードを書きなさい。"
   ]
  },
  {
   "cell_type": "code",
   "execution_count": 12,
   "metadata": {},
   "outputs": [
    {
     "name": "stdout",
     "output_type": "stream",
     "text": [
      "I0 = [1 2 3 4]\n"
     ]
    }
   ],
   "source": [
    "u = 0\n",
    "print('I{} = {}'.format(u, I[~np.isnan(R)[u,:]]))"
   ]
  },
  {
   "cell_type": "markdown",
   "metadata": {},
   "source": [
    "## 12 各ユーザの評価済みアイテム集合\n",
    "\n",
    "`I`から各ユーザの評価済みのアイテム集合を`ndarray`のリストとしてまとめて生成するコードを書きなさい。得られたリストを`Iu`とすること。"
   ]
  },
  {
   "cell_type": "code",
   "execution_count": 13,
   "metadata": {},
   "outputs": [
    {
     "name": "stdout",
     "output_type": "stream",
     "text": [
      "Iu = \n",
      "[array([1, 2, 3, 4]),\n",
      " array([0, 1, 2, 4, 5]),\n",
      " array([0, 2, 3, 4]),\n",
      " array([1, 3, 4, 5]),\n",
      " array([0, 1, 2, 3, 5])]\n"
     ]
    }
   ],
   "source": [
    "Iu = [I[~np.isnan(R)[u,:]] for u in U]\n",
    "print('Iu = ')\n",
    "pprint.pprint(Iu)"
   ]
  },
  {
   "cell_type": "markdown",
   "metadata": {},
   "source": [
    "## 13 ユーザuとユーザvの共通の評価済みアイテム集合\n",
    "\n",
    "`Iu`からユーザ$u$とユーザ$v$の共通の評価済みアイテム集合$I_{u,v}$を`ndarray`として生成するコードを書きなさい。得られた`ndarray`を`Iuv`とすること。"
   ]
  },
  {
   "cell_type": "code",
   "execution_count": 14,
   "metadata": {},
   "outputs": [
    {
     "name": "stdout",
     "output_type": "stream",
     "text": [
      "I01 = [1 2 4]\n"
     ]
    }
   ],
   "source": [
    "u = 0\n",
    "v = 1\n",
    "Iuv = np.intersect1d(Iu[u], Iu[v])\n",
    "print('I{}{} = {}'.format(u, v, Iuv))"
   ]
  },
  {
   "cell_type": "markdown",
   "metadata": {},
   "source": [
    "## 14 アイテムiを評価済みのユーザ集合\n",
    "\n",
    "`U`からアイテム$i$を評価済みのユーザ集合$U_{i}$を`ndarray`として生成するコードを書きなさい。"
   ]
  },
  {
   "cell_type": "code",
   "execution_count": 15,
   "metadata": {},
   "outputs": [
    {
     "name": "stdout",
     "output_type": "stream",
     "text": [
      "U0 = [1 2 4]\n"
     ]
    }
   ],
   "source": [
    "i = 0\n",
    "print('U{} = {}'.format(i, U[~np.isnan(R)[:, i]]))"
   ]
  },
  {
   "cell_type": "code",
   "execution_count": 16,
   "metadata": {},
   "outputs": [
    {
     "name": "stdout",
     "output_type": "stream",
     "text": [
      "U0 = [0 1 2 3 4]\n"
     ]
    }
   ],
   "source": [
    "i = 0\n",
    "print('U{} = {}'.format(i, U))"
   ]
  },
  {
   "cell_type": "markdown",
   "metadata": {},
   "source": [
    "## 15 各アイテムの評価済みユーザ集合\n",
    "`U`から各アイテムの評価済みユーザ集合$U_{i}$を`ndarray`のリストとしてまとめて生成するコードを書きなさい。得られたリストを`Ui`とすること。"
   ]
  },
  {
   "cell_type": "code",
   "execution_count": 17,
   "metadata": {},
   "outputs": [
    {
     "name": "stdout",
     "output_type": "stream",
     "text": [
      "Ui = \n",
      "[array([1, 2, 4]),\n",
      " array([0, 1, 3, 4]),\n",
      " array([0, 1, 2, 4]),\n",
      " array([0, 2, 3, 4]),\n",
      " array([0, 1, 2, 3]),\n",
      " array([1, 3, 4])]\n"
     ]
    }
   ],
   "source": [
    "Ui = []\n",
    "# for i in I:\n",
    "#   Ui.append(U[~np.isnan(R)[:, i]])\n",
    "\n",
    "Ui = [U[~np.isnan(R)[:, i]] for i in I]\n",
    "print('Ui = ')\n",
    "pprint.pprint(Ui)"
   ]
  },
  {
   "cell_type": "markdown",
   "metadata": {},
   "source": [
    "## 16 アイテムiとアイテムjの両方を評価済みのユーザ集合\n",
    "\n",
    "`Ui`からアイテム$i$とアイテム$j$の両方を評価済みのユーザ集合$U_{i,j}$を`ndarray`として生成するコードを書きなさい。得られた`ndarray`を`Uij`とすること。"
   ]
  },
  {
   "cell_type": "code",
   "execution_count": 18,
   "metadata": {},
   "outputs": [
    {
     "name": "stdout",
     "output_type": "stream",
     "text": [
      "U04 = [1 2]\n"
     ]
    }
   ],
   "source": [
    "i = 0\n",
    "j = 4\n",
    "Uij = np.intersect1d(Ui[i], Ui[j])\n",
    "print('U{}{} = {}'.format(i, j, Uij))"
   ]
  },
  {
   "cell_type": "markdown",
   "metadata": {},
   "source": [
    "# 平均中心化評価値行列\n",
    "\n",
    "ユーザ$u$の平均評価値$\\overline{r}_{u}$は次式で求められる。\n",
    "\n",
    "$$\n",
    "\\overline{r}_{u} = \\frac{\\sum_{i \\in I_{u}} r_{u,i}}{\\mid I_{u} \\mid}\n",
    "$$\n",
    "\n",
    "ユーザ$u$のアイテム$i$に対する評価値$r_{u,i}$からユーザ$u$の平均評価値$\\overline{r}_{u}$を引いた評価値を平均中心化評価値$r_{u,i}^{'}$とよび、次式で表される。\n",
    "\n",
    "$$\n",
    "r_{u,i}^{'} = r_{u,i} - \\overline{r}_{u}\n",
    "$$\n",
    "\n",
    "評価値行列$\\boldsymbol{R}$の評価値$r_{u,i}$を平均中心化評価値$r_{u,i}^{'}$に置き換えた評価値行列を平均中心化評価値行列$\\boldsymbol{R}^{'}$とよび、次式のようになる。\n",
    "\n",
    "$$\n",
    "\\boldsymbol{R}^{'} = \\left[\n",
    "            \\begin{array}{rrrrrr}\n",
    "                     &  1.5  &  0.5 & -1.5  & -0.5  &       \\\\\n",
    "                 1   &  1    &  0   &       & -1    & -1    \\\\\n",
    "                 0.5 &       &  1.5 & -0.5  & -1.5  &       \\\\\n",
    "                     &  1.25 &      &  0.25 & -0.75 & -0.75 \\\\\n",
    "                -0.4 & -1.4  & -0.4 &  1.6  &       &  0.6\n",
    "            \\end{array}\n",
    "        \\right]\n",
    "$$\n",
    "\n",
    "このとき、次の問いに答えなさい。"
   ]
  },
  {
   "cell_type": "markdown",
   "metadata": {},
   "source": [
    "## 17 評価値行列全体の平均評価値\n",
    "\n",
    "`R`全体の平均評価値を求めるコードを書きなさい。ただし、欠損値は無視する。"
   ]
  },
  {
   "cell_type": "code",
   "execution_count": 19,
   "metadata": {},
   "outputs": [
    {
     "name": "stdout",
     "output_type": "stream",
     "text": [
      "R全体の平均評価値 = 2.864\n"
     ]
    }
   ],
   "source": [
    "print('R全体の平均評価値 = {:.3f}'.format(np.nanmean(R)))"
   ]
  },
  {
   "cell_type": "markdown",
   "metadata": {},
   "source": [
    "## 18 各アイテムの平均評価値\n",
    "\n",
    "`R`において各アイテムの平均評価値$\\overline{r}_{i}$を`ndarray`としてまとめて求めるコードを書きなさい。ただし、欠損値は無視する。得られた`ndarray`を`ri_mean`とすること。"
   ]
  },
  {
   "cell_type": "code",
   "execution_count": 20,
   "metadata": {},
   "outputs": [
    {
     "name": "stdout",
     "output_type": "stream",
     "text": [
      "ri_mean = [3.667 3.25  3.5   2.5   2.    2.333]\n"
     ]
    }
   ],
   "source": [
    "ri_mean = np.nanmean(R, axis=0)\n",
    "print('ri_mean = {}'.format(ri_mean))"
   ]
  },
  {
   "cell_type": "markdown",
   "metadata": {},
   "source": [
    "## 19 各ユーザの平均評価値\n",
    "\n",
    "`R`において各ユーザの平均評価値$\\overline{r}_{u}$を`ndarray`としてまとめて求めるコードを書きなさい。ただし、欠損値は無視する。得られた`ndarray`を`ru_mean`とすること。"
   ]
  },
  {
   "cell_type": "code",
   "execution_count": 21,
   "metadata": {},
   "outputs": [
    {
     "name": "stdout",
     "output_type": "stream",
     "text": [
      "ru_mean = [2.5  4.   3.5  1.75 2.4 ]\n"
     ]
    }
   ],
   "source": [
    "ru_mean = np.nanmean(R, axis=1)\n",
    "print('ru_mean = {}'.format(ru_mean))"
   ]
  },
  {
   "cell_type": "markdown",
   "metadata": {},
   "source": [
    "## 20 評価値ベクトルの形状変換\n",
    "\n",
    "`ru_mean`の形状を`(5, 1)`に変換するコードを書きなさい。"
   ]
  },
  {
   "cell_type": "code",
   "execution_count": 22,
   "metadata": {},
   "outputs": [
    {
     "name": "stdout",
     "output_type": "stream",
     "text": [
      "ru_mean = \n",
      "[[2.5 ]\n",
      " [4.  ]\n",
      " [3.5 ]\n",
      " [1.75]\n",
      " [2.4 ]]\n"
     ]
    }
   ],
   "source": [
    "print('ru_mean = \\n{}'.format(ru_mean.reshape(ru_mean.size, 1)))"
   ]
  },
  {
   "cell_type": "markdown",
   "metadata": {},
   "source": [
    "## 21 平均中心化評価値行列\n",
    "\n",
    "評価値行列$\\boldsymbol{R}$の平均中心化評価値行列$\\boldsymbol{R}^{'}$を`ndarray`として生成するコードを書きなさい。得られた`ndarray`を`R2`とすること。"
   ]
  },
  {
   "cell_type": "code",
   "execution_count": 23,
   "metadata": {},
   "outputs": [
    {
     "name": "stdout",
     "output_type": "stream",
     "text": [
      "R' = \n",
      "[[  nan  1.5   0.5  -1.5  -0.5    nan]\n",
      " [ 1.    1.    0.     nan -1.   -1.  ]\n",
      " [ 0.5    nan  1.5  -0.5  -1.5    nan]\n",
      " [  nan  1.25   nan  0.25 -0.75 -0.75]\n",
      " [-0.4  -1.4  -0.4   1.6    nan  0.6 ]]\n"
     ]
    }
   ],
   "source": [
    "R2 = R - ru_mean.reshape(ru_mean.size, 1)\n",
    "print('R\\' = \\n{}'.format(R2))"
   ]
  }
 ],
 "metadata": {
  "kernelspec": {
   "display_name": ".venv",
   "language": "python",
   "name": "python3"
  },
  "language_info": {
   "codemirror_mode": {
    "name": "ipython",
    "version": 3
   },
   "file_extension": ".py",
   "mimetype": "text/x-python",
   "name": "python",
   "nbconvert_exporter": "python",
   "pygments_lexer": "ipython3",
   "version": "3.11.3"
  }
 },
 "nbformat": 4,
 "nbformat_minor": 2
}
