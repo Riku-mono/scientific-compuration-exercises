{
 "cells": [
  {
   "cell_type": "markdown",
   "metadata": {},
   "source": [
    "# 第7章 評価履歴の次元削減\n",
    "\n",
    "https://recsyslab.github.io/recsys-python/ja/chap07.html"
   ]
  },
  {
   "cell_type": "markdown",
   "metadata": {},
   "source": [
    "## 準備\n",
    "\n",
    "次のコードを書きなさい。"
   ]
  },
  {
   "cell_type": "code",
   "execution_count": 1,
   "metadata": {},
   "outputs": [],
   "source": [
    "import numpy as np\n",
    "import numpy.linalg as LA\n",
    "np.set_printoptions(precision=3)\n",
    "\n",
    "# 縮約後の次元数\n",
    "DIM = 2\n",
    "\n",
    "Du = np.array([\n",
    "               [5, 3, 3, +1],\n",
    "               [6, 2, 5, +1],\n",
    "               [4, 1, 5, +1],\n",
    "               [8, 5, 9, -1],\n",
    "               [2, 4, 2, -1],\n",
    "               [3, 6, 5, -1],\n",
    "               [7, 6, 8, -1],\n",
    "               [4, 2, 3, np.nan],\n",
    "               [5, 1, 8, np.nan],\n",
    "               [8, 6, 6, np.nan],\n",
    "               [3, 4, 2, np.nan],\n",
    "               [4, 7, 5, np.nan],\n",
    "               [4, 4, 4, np.nan],\n",
    "])\n",
    "I = np.arange(Du.shape[0])\n",
    "x = Du[:,:-1]\n",
    "ru = Du[:,-1]"
   ]
  },
  {
   "cell_type": "markdown",
   "metadata": {},
   "source": [
    "# 分散共分散行列\n",
    "\n",
    "特徴量$k$の分散$s_{k}^{2}$は次式で求められる。\n",
    "\n",
    "$$\n",
    "s_{k}^{2} = \\frac{1}{\\mid I \\mid} \\sum_{i \\in I} (x_{i,k} - \\overline{x}_{k})^{2}\n",
    "$$\n",
    "\n",
    "ここで、$\\overline{x}_{k}$は特徴量$k$の平均値である。\n",
    "\n",
    "特徴量$x_{i,k}$を標準化した値$x_{i,k}^{'}$は次式で求められる。\n",
    "\n",
    "$$\n",
    "x_{i,k}^{'} = \\frac{x_{i,k} - \\overline{x}_{k}}{s_{k}}\n",
    "$$\n",
    "\n",
    "標準化された特徴量$k$と特徴量$l$の共分散$s_{k,l}$は次式で求められる。\n",
    "\n",
    "$$\n",
    "s_{k,l} = \\frac{1}{\\mid I \\mid} \\sum_{i \\in I} x_{i,k}^{'} x_{i,l}^{'}\n",
    "$$\n",
    "\n",
    "各特徴量について求めた分散、共分散をまとめると、次式のように分散共分散行列$\\boldsymbol{S}$が得られる。\n",
    "\n",
    "$$\n",
    "\\boldsymbol{S} = \\left[\n",
    "    \\begin{array}{rrrrrr}\n",
    "         1.000 & 0.191 & 0.749 \\\\\n",
    "         0.191 & 1.000 & 0.163 \\\\\n",
    "         0.749 & 0.163 & 1.000\n",
    "    \\end{array}\n",
    "\\right]   \n",
    "$$\n",
    "\n",
    "このとき、次の問いに答えなさい。"
   ]
  },
  {
   "cell_type": "markdown",
   "metadata": {},
   "source": [
    "## 01 各特徴量の平均値\n",
    "\n",
    "`x`において各特徴量の平均値$\\overline{x}_{k}$を`ndarray`としてまとめて求めるコードを書きなさい。得られた`ndarray`を`xk_mean`とすること。"
   ]
  },
  {
   "cell_type": "code",
   "execution_count": 2,
   "metadata": {},
   "outputs": [
    {
     "name": "stdout",
     "output_type": "stream",
     "text": [
      "xk_mean = [4.846 3.923 5.   ]\n"
     ]
    }
   ],
   "source": [
    "xk_mean = np.mean(x, axis=0)\n",
    "print('xk_mean = {}'.format(xk_mean))"
   ]
  },
  {
   "cell_type": "markdown",
   "metadata": {},
   "source": [
    "## 02 各特徴量の分散\n",
    "\n",
    "`x`において各特徴量の分散$s_{k}^{2}$を`ndarray`としてまとめて求めるコードを書きなさい。得られた`ndarray`を`s2`とすること。"
   ]
  },
  {
   "cell_type": "code",
   "execution_count": 3,
   "metadata": {},
   "outputs": [
    {
     "name": "stdout",
     "output_type": "stream",
     "text": [
      "s^2 = [3.361 3.763 4.769]\n"
     ]
    }
   ],
   "source": [
    "s2 = np.var(x, axis=0)\n",
    "print('s^2 = {}'.format(s2))"
   ]
  },
  {
   "cell_type": "markdown",
   "metadata": {},
   "source": [
    "## 03 各特徴量の標準化\n",
    "\n",
    "`x`において各特徴量を`ndarray`としてまとめて標準化するコードを書きなさい。得られた`ndarray`を`x2`とすること。"
   ]
  },
  {
   "cell_type": "code",
   "execution_count": 4,
   "metadata": {},
   "outputs": [
    {
     "name": "stdout",
     "output_type": "stream",
     "text": [
      "x' = \n",
      "[[ 0.084 -0.476 -0.916]\n",
      " [ 0.629 -0.991  0.   ]\n",
      " [-0.462 -1.507  0.   ]\n",
      " [ 1.72   0.555  1.832]\n",
      " [-1.552  0.04  -1.374]\n",
      " [-1.007  1.071  0.   ]\n",
      " [ 1.175  1.071  1.374]\n",
      " [-0.462 -0.991 -0.916]\n",
      " [ 0.084 -1.507  1.374]\n",
      " [ 1.72   1.071  0.458]\n",
      " [-1.007  0.04  -1.374]\n",
      " [-0.462  1.586  0.   ]\n",
      " [-0.462  0.04  -0.458]]\n"
     ]
    }
   ],
   "source": [
    "# 二重リスト内包表記\n",
    "# x2 = np.array([[(x[i][j] - xk_mean[j]) / np.sqrt(s2[j]) for j in range(x.shape[1])] for i in I])\n",
    "\n",
    "# リスト内包表記\n",
    "# x2 = np.array([(x[i] - xk_mean) / np.sqrt(s2) for i in I])\n",
    "\n",
    "# リスト内包表記を使わない場合\n",
    "x2 = (x - xk_mean) / np.sqrt(s2)\n",
    "print('x\\' = \\n{}'.format(x2))"
   ]
  },
  {
   "cell_type": "markdown",
   "metadata": {},
   "source": [
    "## 04 標準化された特徴量kと特徴量lの共分散\n",
    "\n",
    "標準化された特徴量$k$と特徴量$l$の共分散$s_{k,l}$を求めるコードを書きなさい。得られた値を`skl`とすること。"
   ]
  },
  {
   "cell_type": "code",
   "execution_count": 5,
   "metadata": {},
   "outputs": [
    {
     "name": "stdout",
     "output_type": "stream",
     "text": [
      "s01 = 0.191\n"
     ]
    }
   ],
   "source": [
    "k = 0\n",
    "l = 1\n",
    "skl = np.cov(x2[:,k], x2[:,l], bias=True)[0,1]\n",
    "print('s{}{} = {:.3f}'.format(k, l, skl))"
   ]
  },
  {
   "cell_type": "markdown",
   "metadata": {},
   "source": [
    "## 05 分散共分散行列\n",
    "\n",
    "分散共分散行列$\\boldsymbol{S}$を`ndarray`として求めるコードを書きなさい。得られた`ndarray`を`S`とすること。"
   ]
  },
  {
   "cell_type": "code",
   "execution_count": 6,
   "metadata": {},
   "outputs": [
    {
     "name": "stdout",
     "output_type": "stream",
     "text": [
      "S = \n",
      "[[1.    0.191 0.749]\n",
      " [0.191 1.    0.163]\n",
      " [0.749 0.163 1.   ]]\n"
     ]
    }
   ],
   "source": [
    "S = np.cov(x2, rowvar=False, bias=True)\n",
    "print('S = \\n{}'.format(S))"
   ]
  },
  {
   "cell_type": "markdown",
   "metadata": {},
   "source": [
    "# 固有値・固有ベクトル\n",
    "\n",
    "分散共分散行列$\\boldsymbol{S}$に対して、\n",
    "\n",
    "$$\n",
    "\\boldsymbol{S} \\boldsymbol{v} = \\lambda \\boldsymbol{v} \\;\\;\\;\\; (\\boldsymbol{x} \\neq \\boldsymbol{0})\n",
    "$$\n",
    "\n",
    "を満たす$d$次元ベクトル$\\boldsymbol{v}$と実数$\\lambda$が存在するとき、$\\lambda$を行列$\\boldsymbol{S}$の固有値，$\\boldsymbol{v}$を$\\lambda$に関する行列$\\boldsymbol{S}$の固有ベクトルという。このとき、次の問いに答えなさい。\n"
   ]
  },
  {
   "cell_type": "markdown",
   "metadata": {},
   "source": [
    "## 06 固有値・固有ベクトル\n",
    "\n",
    "分散共分散行列$\\boldsymbol{S}$の固有値$\\lambda$、固有ベクトル$\\boldsymbol{v}$を求めるコードを書きなさい。`ndarray`として得られた固有値、固有ベクトルを、それぞれ`lmd`、`v`とすること。"
   ]
  },
  {
   "cell_type": "code",
   "execution_count": 7,
   "metadata": {},
   "outputs": [
    {
     "name": "stdout",
     "output_type": "stream",
     "text": [
      "λ = [1.826 0.25  0.924]\n",
      "v = \n",
      "[[-0.679 -0.71   0.186]\n",
      " [-0.291  0.028 -0.956]\n",
      " [-0.674  0.704  0.225]]\n"
     ]
    }
   ],
   "source": [
    "lmd, v = np.linalg.eig(S)\n",
    "print('λ = {}'.format(lmd))\n",
    "print('v = \\n{}'.format(v))"
   ]
  },
  {
   "cell_type": "markdown",
   "metadata": {},
   "source": [
    "## 07 固有値の降順にソートしたインデックス配列\n",
    "\n",
    "固有値`lmd`について、降順にソートしたインデックスの配列を`ndarray`として生成するコードを書きなさい。得られた`ndarray`を`indices`とすること。"
   ]
  },
  {
   "cell_type": "code",
   "execution_count": 8,
   "metadata": {},
   "outputs": [
    {
     "name": "stdout",
     "output_type": "stream",
     "text": [
      "indices = [0 2 1]\n"
     ]
    }
   ],
   "source": [
    "indices = np.argsort(lmd)[::-1]\n",
    "print('indices = {}'.format(indices))"
   ]
  },
  {
   "cell_type": "markdown",
   "metadata": {},
   "source": [
    "## 08 固有値の降順に固有値配列をソート\n",
    "\n",
    "固有値の降順にソートした固有値配列を`ndarray`として生成するコードを書きなさい。得られた`ndarray`を`lmd`とすること。"
   ]
  },
  {
   "cell_type": "code",
   "execution_count": 9,
   "metadata": {},
   "outputs": [
    {
     "name": "stdout",
     "output_type": "stream",
     "text": [
      "λ = [1.826 0.924 0.25 ]\n"
     ]
    }
   ],
   "source": [
    "lmd = lmd[indices]\n",
    "print('λ = {}'.format(lmd))"
   ]
  },
  {
   "cell_type": "markdown",
   "metadata": {},
   "source": [
    "## 09 固有値の降順に固有ベクトル配列をソート\n",
    "\n",
    "固有値の降順にソートした固有ベクトル配列を`ndarray`として生成するコードを書きなさい。得られた`ndarray`を`v`とすること。"
   ]
  },
  {
   "cell_type": "code",
   "execution_count": 10,
   "metadata": {},
   "outputs": [
    {
     "name": "stdout",
     "output_type": "stream",
     "text": [
      "v = \n",
      "[[-0.679  0.186 -0.71 ]\n",
      " [-0.291 -0.956  0.028]\n",
      " [-0.674  0.225  0.704]]\n"
     ]
    }
   ],
   "source": [
    "v = v[:,indices]\n",
    "print('v = \\n{}'.format(v))"
   ]
  },
  {
   "cell_type": "markdown",
   "metadata": {},
   "source": [
    "## 10 第d主成分までの固有ベクトル\n",
    "\n",
    "第`DIM`主成分までの対応する固有ベクトルを列ベクトルとして並べた行列$\\boldsymbol{V}$を`ndarray`として生成するコードを書きなさい。得られた`ndarray`を`V`とすること。"
   ]
  },
  {
   "cell_type": "code",
   "execution_count": 11,
   "metadata": {},
   "outputs": [
    {
     "name": "stdout",
     "output_type": "stream",
     "text": [
      "V = \n",
      "[[-0.679  0.186]\n",
      " [-0.291 -0.956]\n",
      " [-0.674  0.225]]\n"
     ]
    }
   ],
   "source": [
    "V = v[:,:DIM]\n",
    "print('V = \\n{}'.format(V))"
   ]
  },
  {
   "cell_type": "markdown",
   "metadata": {},
   "source": [
    "# 主成分得点\n",
    "\n",
    "アイテム$i$の第$k$主成分得点$x_{i,k}^{''}$は次式で求められる。\n",
    "\n",
    "$$\n",
    "x_{i,k}^{''} = \\sum_{l = 1}^{d} x_{i,l}^{'} v_{k,l}\n",
    "$$\n",
    "\n",
    "アイテム$i$の次元削減後の特徴ベクトル$\\boldsymbol{x}_{i}^{''}$は次式で求められる。\n",
    "\n",
    "$$\n",
    "\\boldsymbol{x}_{i}^{''\\mathsf{T}} = \\boldsymbol{x}_{i}^{'\\mathsf{T}} \\boldsymbol{V}\n",
    "$$\n",
    "\n",
    "このとき、次の問いに答えなさい。"
   ]
  },
  {
   "cell_type": "markdown",
   "metadata": {},
   "source": [
    "## 11 アイテムiの第k主成分得点\n",
    "\n",
    "アイテム$i$の第$k$主成分得点$x_{i,k}^{''}$を求めるコードを書きなさい。得られた値を`xik3`とすること。"
   ]
  },
  {
   "cell_type": "code",
   "execution_count": 23,
   "metadata": {},
   "outputs": [
    {
     "name": "stdout",
     "output_type": "stream",
     "text": [
      "x00'' = 0.699\n"
     ]
    }
   ],
   "source": [
    "i = 0\n",
    "k = 0\n",
    "xik3 = np.sum([x2[i,l] * V[l,k] for l in range(x2[0].size)])\n",
    "print('x{}{}\\'\\' = {:.3f}'.format(i, k, xik3))"
   ]
  },
  {
   "cell_type": "markdown",
   "metadata": {},
   "source": [
    "## 12 各アイテムの次元削減後の特徴ベクトル\n",
    "\n",
    "各アイテムの次元削減後の特徴ベクトルを`ndarray`としてまとめて求めるコードを書きなさい。得られた`ndarray`を`x3`とすること。"
   ]
  },
  {
   "cell_type": "code",
   "execution_count": 25,
   "metadata": {},
   "outputs": [
    {
     "name": "stdout",
     "output_type": "stream",
     "text": [
      "x'' = \n",
      "[[ 0.699  0.264]\n",
      " [-0.139  1.065]\n",
      " [ 0.752  1.355]\n",
      " [-2.564  0.202]\n",
      " [ 1.969 -0.636]\n",
      " [ 0.373 -1.211]\n",
      " [-2.035 -0.496]\n",
      " [ 1.219  0.656]\n",
      " [-0.545  1.766]\n",
      " [-1.788 -0.601]\n",
      " [ 1.598 -0.535]\n",
      " [-0.148 -1.603]\n",
      " [ 0.611 -0.227]]\n"
     ]
    }
   ],
   "source": [
    "x3 = x2@V\n",
    "print('x\\'\\' = \\n{}'.format(x3))"
   ]
  },
  {
   "cell_type": "markdown",
   "metadata": {},
   "source": [
    "# 寄与率\n",
    "\n",
    "第$k$主成分の寄与率は次式で求められる。\n",
    "\n",
    "$$\n",
    "\\frac{\\lambda_{k}}{\\sum_{l=1}^{d} \\lambda_{l}}\n",
    "$$\n",
    "\n",
    "第$k$主成分までの累積寄与率は次式で求められる。\n",
    "\n",
    "$$\n",
    "\\frac{\\sum_{l=1}^{k} \\lambda_{l}}{\\sum_{l=1}^{d} \\lambda_{l}}\n",
    "$$\n",
    "\n",
    "このとき、次の問いに答えなさい。"
   ]
  },
  {
   "cell_type": "markdown",
   "metadata": {},
   "source": [
    "## 13 第k主成分の寄与率\n",
    "\n",
    "第$k$主成分の寄与率を求めるコードを書きなさい。得られた値を`pk`とすること。"
   ]
  },
  {
   "cell_type": "code",
   "execution_count": 26,
   "metadata": {},
   "outputs": [
    {
     "name": "stdout",
     "output_type": "stream",
     "text": [
      "第1主成分の寄与率 = 0.609\n"
     ]
    }
   ],
   "source": [
    "k = 0\n",
    "pk = lmd[k] / np.sum(lmd)\n",
    "print('第{}主成分の寄与率 = {:.3f}'.format(k+1, pk))"
   ]
  },
  {
   "cell_type": "markdown",
   "metadata": {},
   "source": [
    "## 14 第k主成分までの累積寄与率\n",
    "\n",
    "第$k$主成分までの累積寄与率を求めるコードを書きなさい。得られた値を`ck`とすること。"
   ]
  },
  {
   "cell_type": "code",
   "execution_count": 28,
   "metadata": {},
   "outputs": [
    {
     "name": "stdout",
     "output_type": "stream",
     "text": [
      "第2主成分までの累積寄与率 = 0.917\n"
     ]
    }
   ],
   "source": [
    "k = 2\n",
    "ck = np.sum(lmd[:k]) / np.sum(lmd)\n",
    "print('第{}主成分までの累積寄与率 = {:.3f}'.format(k, ck))"
   ]
  },
  {
   "cell_type": "markdown",
   "metadata": {},
   "source": [
    "# 推薦\n",
    "\n",
    "次元削減後の評価履歴$D_{u}^{'}$は、次式のとおり、次元削減後の特徴ベクトル$\\boldsymbol{x}_{i}^{''}$と元の評価値$r_{u,i}$を結合することで得られる。\n",
    "\n",
    "$$\n",
    "D_{u}^{'} = \\left[\n",
    " \\begin{array}{rrr}\n",
    "   0.699 &  0.264 & +1 \\\\\n",
    "  -0.139 &  1.065 & +1 \\\\\n",
    "   0.752 &  1.355 & +1 \\\\\n",
    "  -2.564 &  0.202 & -1 \\\\\n",
    "   1.969 & -0.636 & -1 \\\\\n",
    "   0.373 & -1.211 & -1 \\\\\n",
    "  -2.035 & -0.496 & -1 \\\\\n",
    "   1.219 &  0.656 &  ? \\\\\n",
    "  -0.545 &  1.766 &  ? \\\\\n",
    "  -1.788 & -0.601 &  ? \\\\\n",
    "   1.598 & -0.535 &  ? \\\\\n",
    "  -0.148 & -1.603 &  ? \\\\\n",
    "   0.611 & -0.227 &  ?\n",
    " \\end{array}\n",
    "\\right]\n",
    "$$\n",
    "\n",
    "このとき、次の問いに答えなさい。"
   ]
  },
  {
   "cell_type": "markdown",
   "metadata": {},
   "source": [
    "## 15 次元削減後の評価履歴\n",
    "\n",
    "次元削減後の評価履歴$D_{u}^{'}$を`ndarray`として生成するコードを書きなさい。得られた`ndarray`を`Du2`とすること。"
   ]
  },
  {
   "cell_type": "code",
   "execution_count": 29,
   "metadata": {},
   "outputs": [
    {
     "name": "stdout",
     "output_type": "stream",
     "text": [
      "R' = \n",
      "[[ 0.699  0.264  1.   ]\n",
      " [-0.139  1.065  1.   ]\n",
      " [ 0.752  1.355  1.   ]\n",
      " [-2.564  0.202 -1.   ]\n",
      " [ 1.969 -0.636 -1.   ]\n",
      " [ 0.373 -1.211 -1.   ]\n",
      " [-2.035 -0.496 -1.   ]\n",
      " [ 1.219  0.656    nan]\n",
      " [-0.545  1.766    nan]\n",
      " [-1.788 -0.601    nan]\n",
      " [ 1.598 -0.535    nan]\n",
      " [-0.148 -1.603    nan]\n",
      " [ 0.611 -0.227    nan]]\n"
     ]
    }
   ],
   "source": [
    "Du2 = np.c_[x3, ru]\n",
    "print('R\\' = \\n{}'.format(Du2))"
   ]
  }
 ],
 "metadata": {
  "kernelspec": {
   "display_name": ".venv",
   "language": "python",
   "name": "python3"
  },
  "language_info": {
   "codemirror_mode": {
    "name": "ipython",
    "version": 3
   },
   "file_extension": ".py",
   "mimetype": "text/x-python",
   "name": "python",
   "nbconvert_exporter": "python",
   "pygments_lexer": "ipython3",
   "version": "3.11.3"
  }
 },
 "nbformat": 4,
 "nbformat_minor": 2
}
