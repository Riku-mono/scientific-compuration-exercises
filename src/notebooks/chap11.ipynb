{
 "cells": [
  {
   "cell_type": "markdown",
   "metadata": {},
   "source": [
    "# 第11章 嗜好予測の正確性\n",
    "\n",
    "https://recsyslab.github.io/recsys-python/ja/chap11.html"
   ]
  },
  {
   "cell_type": "markdown",
   "metadata": {},
   "source": [
    "# テストデータと予測評価値\n",
    "\n",
    "次の評価値行列$\\boldsymbol{R}^{\\mathit{test}}$はテストデータである。$\\boldsymbol{R}$の$(u, i)$成分はユーザ$u$がアイテム$i$に与えた評価値$r_{u,i}$を表す。ただし、$-$で示した要素はテストデータの対象ではないことを表す。また、$\\boldsymbol{R}^{\\mathit{test}}$に含まれる成分の集合を$R^{\\mathit{test}}$と表す。\n",
    "\n",
    "$$\n",
    "\\boldsymbol{R}^{\\mathit{test}} = \\left[\n",
    " \\begin{array}{rrrrrrrrrr}\n",
    " -  & 4 & - & - & - & - & 2 & - & - & - \\\\\n",
    " -  & - & - & - & 2 & - & - & - & 5 & - \\\\\n",
    " -  & - & - & - & - & - & - & 3 & - & - \\\\\n",
    " \\end{array}\n",
    "\\right]\n",
    "$$\n",
    "\n",
    "次の評価値行列$\\hat{\\boldsymbol{R}}^{A}$、$\\hat{\\boldsymbol{R}}^{B}$は、それぞれ推薦システムA、推薦システムBによる予測評価値である。$\\hat{\\boldsymbol{R}}^{A}$、$\\hat{\\boldsymbol{R}}^{B}$の$(u, i)$成分は、それぞれ推薦システムA、推薦システムBによる予測評価値$\\hat{r}_{u,i}$を表す。\n",
    "\n",
    "$$\n",
    "\\hat{\\boldsymbol{R}}^{A} = \\left[\n",
    " \\begin{array}{rrrrrrrrrr}\n",
    " -  & 2 & - & - & - & - & 2 & - & - & - \\\\\n",
    " -  & - & - & - & 2 & - & - & - & 3 & - \\\\\n",
    " -  & - & - & - & - & - & - & 3 & - & - \\\\\n",
    " \\end{array}\n",
    "\\right]\n",
    "$$\n",
    "\n",
    "$$\n",
    "\\hat{\\boldsymbol{R}}^{B} = \\left[\n",
    " \\begin{array}{rrrrrrrrrr}\n",
    " -  & 3 & - & - & - & - & 1 & - & - & - \\\\\n",
    " -  & - & - & - & 3 & - & - & - & 4 & - \\\\\n",
    " -  & - & - & - & - & - & - & 4 & - & - \\\\\n",
    " \\end{array}\n",
    "\\right]\n",
    "$$"
   ]
  },
  {
   "cell_type": "markdown",
   "metadata": {},
   "source": [
    "## 準備\n",
    "\n",
    "次のコードを書きなさい。"
   ]
  },
  {
   "cell_type": "code",
   "execution_count": 1,
   "metadata": {},
   "outputs": [],
   "source": [
    "import numpy as np\n",
    "\n",
    "# とりうる評価値の最大値\n",
    "R_MAX = 5\n",
    "# とりうる評価値の最小値\n",
    "R_MIN = 1\n",
    "\n",
    "# テストデータ\n",
    "R = np.array([\n",
    "              [np.nan, 4,      np.nan, np.nan, np.nan, np.nan, 2,      np.nan, np.nan, np.nan],\n",
    "              [np.nan, np.nan, np.nan, np.nan, 2,      np.nan, np.nan, np.nan, 5,      np.nan],\n",
    "              [np.nan, np.nan, np.nan, np.nan, np.nan, np.nan, np.nan, 3,      np.nan, np.nan],\n",
    "])\n",
    "U = np.arange(R.shape[0])\n",
    "I = np.arange(R.shape[1])\n",
    "\n",
    "# 推薦システムAによる予測評価値\n",
    "RA = np.array([\n",
    "               [np.nan, 2,      np.nan, np.nan, np.nan, np.nan, 2,      np.nan, np.nan, np.nan],\n",
    "               [np.nan, np.nan, np.nan, np.nan, 2,      np.nan, np.nan, np.nan, 3,      np.nan],\n",
    "               [np.nan, np.nan, np.nan, np.nan, np.nan, np.nan, np.nan, 3,      np.nan, np.nan],\n",
    "])\n",
    "\n",
    "# 推薦システムBによる予測評価値\n",
    "RB = np.array([\n",
    "               [np.nan, 3,      np.nan, np.nan, np.nan, np.nan, 1,      np.nan, np.nan, np.nan],\n",
    "               [np.nan, np.nan, np.nan, np.nan, 3,      np.nan, np.nan, np.nan, 4,      np.nan],\n",
    "               [np.nan, np.nan, np.nan, np.nan, np.nan, np.nan, np.nan, 4,      np.nan, np.nan],\n",
    "])"
   ]
  },
  {
   "cell_type": "markdown",
   "metadata": {},
   "source": [
    "# 平均絶対誤差\n",
    "\n",
    "平均絶対誤差$\\mathit{MAE}$は次式で定義される。\n",
    "\n",
    "$$\n",
    "\\mathit{MAE} = \\frac{\\sum_{(u,i) \\in R^{\\mathit{test}}} \\mid \\hat{r}_{u,i} - r_{u,i} \\mid}{\\mid R^{\\mathit{test}} \\mid}\n",
    "$$\n",
    "\n",
    "### コード\n",
    "\n",
    "```python\n",
    "【    問01    】\n",
    "print('MAE_{} = {:.3f}'.format('A', MAE_A))\n",
    "【    問02    】\n",
    "print('MAE_{} = {:.3f}'.format('B', MAE_B))\n",
    "```\n",
    "\n",
    "### 結果\n",
    "\n",
    "```bash\n",
    "MAE_A = 0.800\n",
    "MAE_B = 1.000\n",
    "```\n",
    "\n",
    "このとき、次の問いに答えなさい。"
   ]
  },
  {
   "cell_type": "markdown",
   "metadata": {},
   "source": [
    "## 01 推薦システムAのMAE\n",
    "\n",
    "推薦システムAの$\\mathit{MAE}^{A}$を求めるコードを書きなさい。得られた値を`MAE_A`とすること。"
   ]
  },
  {
   "cell_type": "markdown",
   "metadata": {},
   "source": [
    "## 02 推薦システムBのMAE\n",
    "\n",
    "推薦システムBの$\\mathit{MAE}^{B}$を求めるコードを書きなさい。得られた値を`MAE_B`とすること。"
   ]
  },
  {
   "cell_type": "code",
   "execution_count": 2,
   "metadata": {},
   "outputs": [
    {
     "name": "stdout",
     "output_type": "stream",
     "text": [
      "MAE_A = 0.800\n",
      "MAE_B = 1.000\n"
     ]
    }
   ],
   "source": [
    "MAE_A = np.nansum(np.abs(R - RA)) / np.sum(~np.isnan(R))\n",
    "print('MAE_{} = {:.3f}'.format('A', MAE_A))\n",
    "MAE_B = np.nansum(np.abs(R - RB)) / np.sum(~np.isnan(R))\n",
    "print('MAE_{} = {:.3f}'.format('B', MAE_B))"
   ]
  },
  {
   "cell_type": "markdown",
   "metadata": {},
   "source": [
    "# 平均二乗誤差\n",
    "\n",
    "平均二乗誤差$\\mathit{MSE}$は次式で定義される。\n",
    "\n",
    "$$\n",
    "\\mathit{MSE} = \\frac{\\sum_{(u,i) \\in R^{\\mathit{test}}} (\\hat{r}_{u,i} - r_{u,i})^{2}}{\\mid R^{\\mathit{test}} \\mid}\n",
    "$$\n",
    "\n",
    "### コード\n",
    "\n",
    "```python\n",
    "【    問03    】\n",
    "print('MSE_{} = {:.3f}'.format('A', MSE_A))\n",
    "【    問04    】\n",
    "print('MSE_{} = {:.3f}'.format('B', MSE_B))\n",
    "```\n",
    "\n",
    "### 結果\n",
    "\n",
    "```bash\n",
    "MSE_A = 1.600\n",
    "MSE_B = 1.000\n",
    "```\n",
    "\n",
    "このとき、次の問いに答えなさい。"
   ]
  },
  {
   "cell_type": "markdown",
   "metadata": {},
   "source": [
    "## 03 推薦システムAのMSE\n",
    "\n",
    "推薦システムAの$\\mathit{MSE}^{A}$を求めるコードを書きなさい。得られた値を`MSE_A`とすること。"
   ]
  },
  {
   "cell_type": "markdown",
   "metadata": {},
   "source": [
    "## 04 推薦システムBのMSE\n",
    "\n",
    "推薦システムAの$\\mathit{MSE}^{B}$を求めるコードを書きなさい。得られた値を`MSE_B`とすること。"
   ]
  },
  {
   "cell_type": "code",
   "execution_count": 3,
   "metadata": {},
   "outputs": [
    {
     "name": "stdout",
     "output_type": "stream",
     "text": [
      "MSE_A = 1.600\n",
      "MSE_B = 1.000\n"
     ]
    }
   ],
   "source": [
    "MSE_A = np.nansum((R - RA) ** 2)/ np.sum(~np.isnan(R))\n",
    "print('MSE_{} = {:.3f}'.format('A', MSE_A))\n",
    "MSE_B = np.nansum((R - RB) ** 2)/ np.sum(~np.isnan(R))\n",
    "print('MSE_{} = {:.3f}'.format('B', MSE_B))"
   ]
  },
  {
   "cell_type": "markdown",
   "metadata": {},
   "source": [
    "# 二乗平均平方根誤差\n",
    "\n",
    "二乗平均平方根誤差$\\mathit{RMSE}$は次式で定義される。\n",
    "\n",
    "$$\n",
    "\\mathit{RMSE} = \\sqrt{\\frac{\\sum_{(u,i) \\in R^{\\mathit{test}}} (\\hat{r}_{u,i} - r_{u,i})^{2}}{\\mid R^{\\mathit{test}} \\mid}}\n",
    "$$\n",
    "\n",
    "### コード\n",
    "\n",
    "```python\n",
    "【    問05    】\n",
    "print('RMSE_{} = {:.3f}'.format('A', RMSE_A))\n",
    "【    問06    】\n",
    "print('RMSE_{} = {:.3f}'.format('B', RMSE_B))\n",
    "```\n",
    "\n",
    "### 結果\n",
    "\n",
    "```bash\n",
    "RMSE_A = 1.265\n",
    "RMSE_B = 1.000\n",
    "```\n",
    "\n",
    "このとき、次の問いに答えなさい。"
   ]
  },
  {
   "cell_type": "markdown",
   "metadata": {},
   "source": [
    "## 05 推薦システムAのRMSE\n",
    "\n",
    "推薦システムAの$\\mathit{RMSE}^{A}$を求めるコードを書きなさい。得られた値を`RMSE_A`とすること。"
   ]
  },
  {
   "cell_type": "markdown",
   "metadata": {},
   "source": [
    "## 06 推薦システムBのRMSE\n",
    "\n",
    "推薦システムBの$\\mathit{RMSE}^{B}$を求めるコードを書きなさい。得られた値を`RMSE_B`とすること。"
   ]
  },
  {
   "cell_type": "code",
   "execution_count": 4,
   "metadata": {},
   "outputs": [
    {
     "name": "stdout",
     "output_type": "stream",
     "text": [
      "RMSE_A = 1.265\n",
      "RMSE_B = 1.000\n"
     ]
    }
   ],
   "source": [
    "RMSE_A = np.sqrt(MSE_A)\n",
    "print('RMSE_{} = {:.3f}'.format('A', RMSE_A))\n",
    "RMSE_B = np.sqrt(MSE_B)\n",
    "print('RMSE_{} = {:.3f}'.format('B', RMSE_B))"
   ]
  },
  {
   "cell_type": "markdown",
   "metadata": {},
   "source": [
    "# 正規化MAEと正規化RMSE\n",
    "\n",
    "正規化MAE$\\mathit{NMAE}$と正規化RMSE$\\mathit{NRMSE}$は、それぞれ次式で定義される。\n",
    "\n",
    "$$\n",
    "\\mathit{NMAE} = \\frac{\\mathit{MAE}}{r_{\\mathit{max}} - r_{\\mathit{min}}}\n",
    "$$\n",
    "\n",
    "$$\n",
    "\\mathit{NRMSE} = \\frac{\\mathit{RMSE}}{r_{\\mathit{max}} - r_{\\mathit{min}}}\n",
    "$$\n",
    "\n",
    "ここで、$r_{\\mathit{max}}$、$r_{\\mathit{min}}$は、それぞれ、とりうる評価値の最大値、最小値を表す。\n",
    "\n",
    "### コード\n",
    "\n",
    "```python\n",
    "# NMAE\n",
    "【    問07    】\n",
    "print('NMAE_{} = {:.3f}'.format('A', NMAE_A))\n",
    "【    問08    】\n",
    "print('NMAE_{} = {:.3f}'.format('B', NMAE_B))\n",
    "\n",
    "# NRMSE\n",
    "【    問09    】\n",
    "print('NRMSE_{} = {:.3f}'.format('A', NRMSE_A))\n",
    "【    問10    】\n",
    "print('NRMSE_{} = {:.3f}'.format('B', NRMSE_B))\n",
    "```\n",
    "\n",
    "### 結果\n",
    "\n",
    "```bash\n",
    "NMAE_A = 0.200\n",
    "NMAE_B = 0.250\n",
    "NRMSE_A = 0.316\n",
    "NRMSE_B = 0.250\n",
    "```\n",
    "\n",
    "このとき、次の問いに答えなさい。"
   ]
  },
  {
   "cell_type": "markdown",
   "metadata": {},
   "source": [
    "## 07 推薦システムAのNMAE\n",
    "\n",
    "推薦システムAの$\\mathit{NMAE}^{A}$を求めるコードを書きなさい。ただし、$r_{\\mathit{max}}$、$r_{\\mathit{min}}$は、それぞれ`R_MAX`、`R_MIN`とする。得られた値を`NMAE_A`とすること。"
   ]
  },
  {
   "cell_type": "markdown",
   "metadata": {},
   "source": [
    "## 08 推薦システムBのNMAE\n",
    "\n",
    "推薦システムAの$\\mathit{NMAE}^{B}$を求めるコードを書きなさい。ただし、$r_{\\mathit{max}}$、$r_{\\mathit{min}}$は、それぞれ`R_MAX`、`R_MIN`とする。得られた値を`NMAE_B`とすること。\n",
    "\n"
   ]
  },
  {
   "cell_type": "markdown",
   "metadata": {},
   "source": [
    "## 09 推薦システムAのNRMSE\n",
    "\n",
    "推薦システムAの$\\mathit{NRMSE}^{A}$を求めるコードを書きなさい。ただし、$r_{\\mathit{max}}$、$r_{\\mathit{min}}$は、それぞれ`R_MAX`、`R_MIN`とする。得られた値を`NRMSE_A`とすること。\n",
    "\n"
   ]
  },
  {
   "cell_type": "markdown",
   "metadata": {},
   "source": [
    "## 10 推薦システムBのNRMSE\n",
    "\n",
    "推薦システムBの$\\mathit{NRMSE}^{B}$を求めるコードを書きなさい。ただし、$r_{\\mathit{max}}$、$r_{\\mathit{min}}$は、それぞれ`R_MAX`、`R_MIN`とする。得られた値を`NRMSE_B`とすること。"
   ]
  },
  {
   "cell_type": "code",
   "execution_count": 5,
   "metadata": {},
   "outputs": [
    {
     "name": "stdout",
     "output_type": "stream",
     "text": [
      "NMAE_A = 0.200\n",
      "NMAE_B = 0.250\n",
      "NRMSE_A = 0.316\n",
      "NRMSE_B = 0.250\n"
     ]
    }
   ],
   "source": [
    "# NMAE\n",
    "NMAE_A = MAE_A / (R_MAX - R_MIN)\n",
    "print('NMAE_{} = {:.3f}'.format('A', NMAE_A))\n",
    "NMAE_B = MAE_B / (R_MAX - R_MIN)\n",
    "print('NMAE_{} = {:.3f}'.format('B', NMAE_B))\n",
    "\n",
    "# NRMSE\n",
    "NRMSE_A = RMSE_A / (R_MAX - R_MIN)\n",
    "print('NRMSE_{} = {:.3f}'.format('A', NRMSE_A))\n",
    "NRMSE_B = RMSE_B / (R_MAX - R_MIN)\n",
    "print('NRMSE_{} = {:.3f}'.format('B', NRMSE_B))"
   ]
  }
 ],
 "metadata": {
  "kernelspec": {
   "display_name": ".venv",
   "language": "python",
   "name": "python3"
  },
  "language_info": {
   "codemirror_mode": {
    "name": "ipython",
    "version": 3
   },
   "file_extension": ".py",
   "mimetype": "text/x-python",
   "name": "python",
   "nbconvert_exporter": "python",
   "pygments_lexer": "ipython3",
   "version": "3.11.3"
  }
 },
 "nbformat": 4,
 "nbformat_minor": 2
}
