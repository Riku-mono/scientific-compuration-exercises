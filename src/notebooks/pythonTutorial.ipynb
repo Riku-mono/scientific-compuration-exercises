{
 "cells": [
  {
   "cell_type": "markdown",
   "metadata": {},
   "source": [
    "# Python Tutorial\n",
    "\n",
    "https://recsyslab.org/ja/tutorials/python/\n",
    "\n",
    "---\n",
    "\n",
    "- py01-1：算術演算（加算）\n",
    "- py01-7：変数を用いた算術演算\n",
    "- py02-1：文字列の表示\n",
    "- py03-1：リストの作成\n",
    "- py03-2：リストのインデックス参照\n",
    "- py03-3：リストのスライス\n",
    "- py03-5：リストへの要素の代入\n",
    "- py03-6：リストへの要素の追加\n",
    "- py03-7：リストの長さの取得\n",
    "- py04-1：while文によるループ\n",
    "- py04-2：if文による条件分岐\n",
    "- py04-3：for文によるループ\n",
    "- py04-4：range()関数\n",
    "- py05-1：関数の定義\n",
    "- py08-1：辞書の内容の表示\n",
    "- py08-2：指定したキーに対応する値の取得\n",
    "- py08-3：辞書へのキー：値ペアの追加\n",
    "- py08-5：辞書に含まれるすべてのキーの取得\n",
    "- py08-8：ループによる辞書内のすべてのキー：値ペアの列挙\n",
    "\n",
    "---"
   ]
  },
  {
   "cell_type": "markdown",
   "metadata": {},
   "source": [
    "## py01-1：算術演算（加算）\n",
    "\n",
    "Pythonインタプリタで`54 + 40 + 35`を計算しよう．"
   ]
  },
  {
   "cell_type": "code",
   "execution_count": 1,
   "metadata": {},
   "outputs": [
    {
     "name": "stdout",
     "output_type": "stream",
     "text": [
      "129\n"
     ]
    }
   ],
   "source": [
    "print(54 + 40 + 35)"
   ]
  },
  {
   "cell_type": "markdown",
   "metadata": {},
   "source": [
    "## py01-7：変数を用いた算術演算\n",
    "\n",
    "`price = 980`, `tax = 10 / 100`としたとき，`price * (1 + tax)`を求めよう．"
   ]
  },
  {
   "cell_type": "code",
   "execution_count": 2,
   "metadata": {},
   "outputs": [
    {
     "data": {
      "text/plain": [
       "1078.0"
      ]
     },
     "execution_count": 2,
     "metadata": {},
     "output_type": "execute_result"
    }
   ],
   "source": [
    "price = 980\n",
    "tax = 10 / 100\n",
    "\n",
    "price * (1 + tax)"
   ]
  },
  {
   "cell_type": "markdown",
   "metadata": {},
   "source": [
    "---"
   ]
  },
  {
   "cell_type": "markdown",
   "metadata": {},
   "source": [
    "## py02-1：文字列の表示\n",
    "\n",
    "「寿限無、寿限無、五劫の擦り切れ」と表示しよう．"
   ]
  },
  {
   "cell_type": "code",
   "execution_count": 3,
   "metadata": {},
   "outputs": [
    {
     "name": "stdout",
     "output_type": "stream",
     "text": [
      "寿限無、寿限無、五劫の擦り切れ\n"
     ]
    }
   ],
   "source": [
    "print(\"寿限無、寿限無、五劫の擦り切れ\")"
   ]
  },
  {
   "cell_type": "markdown",
   "metadata": {},
   "source": [
    "---"
   ]
  },
  {
   "cell_type": "markdown",
   "metadata": {},
   "source": [
    "## py03-1：リストの作成\n",
    "\n",
    "`5`, `33`, `7`, `3`, `31`の要素を順に含むリスト`numbers`を作成しよう．"
   ]
  },
  {
   "cell_type": "code",
   "execution_count": 4,
   "metadata": {},
   "outputs": [],
   "source": [
    "numbers = [5, 33, 7, 3, 31]"
   ]
  },
  {
   "cell_type": "markdown",
   "metadata": {},
   "source": [
    "## py03-2：リストのインデックス参照\n",
    "\n",
    "リスト`numbers`の4番目の要素を取得しよう．"
   ]
  },
  {
   "cell_type": "code",
   "execution_count": 5,
   "metadata": {},
   "outputs": [
    {
     "data": {
      "text/plain": [
       "3"
      ]
     },
     "execution_count": 5,
     "metadata": {},
     "output_type": "execute_result"
    }
   ],
   "source": [
    "numbers[3]"
   ]
  },
  {
   "cell_type": "markdown",
   "metadata": {},
   "source": [
    "## py03-3：リストのスライス\n",
    "\n",
    "リスト`numbers`の末尾から3番目以降の要素を取得しよう．"
   ]
  },
  {
   "cell_type": "code",
   "execution_count": 6,
   "metadata": {},
   "outputs": [
    {
     "data": {
      "text/plain": [
       "[7, 3, 31]"
      ]
     },
     "execution_count": 6,
     "metadata": {},
     "output_type": "execute_result"
    }
   ],
   "source": [
    "numbers[-3:]"
   ]
  },
  {
   "cell_type": "markdown",
   "metadata": {},
   "source": [
    "## py03-5：リストへの要素の代入\n",
    "\n",
    "リスト`numbers`の2番目の要素に`2`を代入しよう．"
   ]
  },
  {
   "cell_type": "code",
   "execution_count": 7,
   "metadata": {},
   "outputs": [],
   "source": [
    "numbers[1] = 2"
   ]
  },
  {
   "cell_type": "markdown",
   "metadata": {},
   "source": [
    "## py03-6：リストへの要素の追加\n",
    "\n",
    "リスト`numbers`に`29`を追加しよう．"
   ]
  },
  {
   "cell_type": "code",
   "execution_count": 8,
   "metadata": {},
   "outputs": [],
   "source": [
    "numbers.append(29)"
   ]
  },
  {
   "cell_type": "markdown",
   "metadata": {},
   "source": [
    "## py03-7：リストの長さの取得\n",
    "\n",
    "リスト`numbers`の長さを取得しよう．"
   ]
  },
  {
   "cell_type": "code",
   "execution_count": 9,
   "metadata": {},
   "outputs": [
    {
     "data": {
      "text/plain": [
       "6"
      ]
     },
     "execution_count": 9,
     "metadata": {},
     "output_type": "execute_result"
    }
   ],
   "source": [
    "len(numbers)"
   ]
  },
  {
   "cell_type": "markdown",
   "metadata": {},
   "source": [
    "---"
   ]
  },
  {
   "cell_type": "markdown",
   "metadata": {},
   "source": [
    "## py04-1：while文によるループ\n",
    "\n",
    "次の実行結果のように`5`, `4`, `3`, `2`, `1`, `0`とカウントダウンを表示しよう．\n",
    "\n",
    "実行結果：\n",
    "\n",
    "  ```\n",
    "  5\n",
    "  4\n",
    "  3\n",
    "  2\n",
    "  1\n",
    "  0\n",
    "```"
   ]
  },
  {
   "cell_type": "code",
   "execution_count": 10,
   "metadata": {},
   "outputs": [
    {
     "name": "stdout",
     "output_type": "stream",
     "text": [
      "5\n",
      "4\n",
      "3\n",
      "2\n",
      "1\n",
      "0\n"
     ]
    }
   ],
   "source": [
    "count = 5\n",
    "while count >= 0:\n",
    "    print(count)\n",
    "    count -= 1 "
   ]
  },
  {
   "cell_type": "markdown",
   "metadata": {},
   "source": [
    "## py04-2：if文による条件分岐\n",
    "\n",
    "キーボードから整数を入力し，それが`90`以上であれば「`Sです。`」，`80`以上であれば「`Aです。`」，`70`以上であれば「`Bです。`」、60以上であれば「`Cです。`」、それ以外は「`不合格です。`」と表示しよう．"
   ]
  },
  {
   "cell_type": "code",
   "execution_count": 11,
   "metadata": {},
   "outputs": [
    {
     "name": "stdout",
     "output_type": "stream",
     "text": [
      "Aです。\n"
     ]
    }
   ],
   "source": [
    "number = int(input(\"Enter a number: \"))\n",
    "if number >= 90 :\n",
    "  print(\"Sです。\")\n",
    "elif number >= 80:\n",
    "  print(\"Aです。\")\n",
    "elif number >= 70:\n",
    "  print(\"Bです。\")\n",
    "elif number >= 60:\n",
    "  print(\"Cです。\")\n",
    "else:\n",
    "  print(\"不合格です。\")"
   ]
  },
  {
   "cell_type": "markdown",
   "metadata": {},
   "source": [
    "## py04-3：for文によるループ\n",
    "\n",
    "次のリストlanguagesがある．実行結果のようにlanguagesに含まれる各要素の文字列とその長さを表示しよう．\n",
    "\n",
    "```\n",
    ">>> languages = ['C', 'Java', 'Python']\n",
    "```\n",
    "\n",
    "実行結果：\n",
    "```\n",
    "C 1\n",
    "Java 4\n",
    "Python 6\n",
    "```"
   ]
  },
  {
   "cell_type": "code",
   "execution_count": 12,
   "metadata": {},
   "outputs": [
    {
     "name": "stdout",
     "output_type": "stream",
     "text": [
      "C 1\n",
      "Java 4\n",
      "Python 6\n"
     ]
    }
   ],
   "source": [
    "languages = ['C', 'Java', 'Python']\n",
    "\n",
    "for lang in languages:\n",
    "    print(lang,len(lang))"
   ]
  },
  {
   "cell_type": "markdown",
   "metadata": {},
   "source": [
    "## py04-4：range()関数\n",
    "\n",
    "実行結果のように0から9までを表示しよう．\n",
    "\n",
    "実行結果：\n",
    "```\n",
    "0\n",
    "1\n",
    "2\n",
    "3\n",
    "4\n",
    "5\n",
    "6\n",
    "7\n",
    "8\n",
    "9\n",
    "```"
   ]
  },
  {
   "cell_type": "code",
   "execution_count": 13,
   "metadata": {},
   "outputs": [
    {
     "name": "stdout",
     "output_type": "stream",
     "text": [
      "0\n",
      "1\n",
      "2\n",
      "3\n",
      "4\n",
      "5\n",
      "6\n",
      "7\n",
      "8\n",
      "9\n"
     ]
    }
   ],
   "source": [
    "for i in range(10):\n",
    "  print(i)"
   ]
  },
  {
   "cell_type": "markdown",
   "metadata": {},
   "source": [
    "---"
   ]
  },
  {
   "cell_type": "markdown",
   "metadata": {},
   "source": [
    "## py05-1：関数の定義\n",
    "\n",
    "Sが2単位，Aが1単位，Bが2単位，Cが0単位，不合格が2単位であったときのGPAを計算したい．実行結果のように各単位数を引数に渡すとGPAを返す関数`gpa()`を定義しよう．\n",
    "実行結果：\n",
    "```\n",
    ">>> gpa(2, 1, 2, 0, 2)\n",
    "2.14285714285714\n",
    "```"
   ]
  },
  {
   "cell_type": "code",
   "execution_count": 14,
   "metadata": {},
   "outputs": [
    {
     "data": {
      "text/plain": [
       "2.0"
      ]
     },
     "execution_count": 14,
     "metadata": {},
     "output_type": "execute_result"
    }
   ],
   "source": [
    "def gpa(s,a,b,c,f):\n",
    "  return (4 * s + 3 * a + 2 * b + c) / (s + a + b + c + f)\n",
    "\n",
    "gpa(1,1,1,1,1)"
   ]
  },
  {
   "cell_type": "markdown",
   "metadata": {},
   "source": [
    "---"
   ]
  },
  {
   "cell_type": "markdown",
   "metadata": {},
   "source": [
    "## py08-1：辞書の内容の表示\n",
    "\n",
    "次のpricesは寿司と値段を対応付けた辞書である．辞書pricesの内容を表示しよう．\n",
    "```\n",
    ">>> prices = {\n",
    ">>>     'mackerel': 200,\n",
    ">>>     'salmon': 300,\n",
    ">>>     'yellowtail': 300,\n",
    ">>>     'shrimp': 300,\n",
    ">>>     'conger': 400,\n",
    ">>>     'tuna': 400,\n",
    ">>>     'eel': 500,\n",
    ">>>     'salmon_roe': 500,\n",
    ">>> }\n",
    "```"
   ]
  },
  {
   "cell_type": "code",
   "execution_count": 15,
   "metadata": {},
   "outputs": [
    {
     "name": "stdout",
     "output_type": "stream",
     "text": [
      "{'mackerel': 200, 'salmon': 300, 'yellowtail': 300, 'shrimp': 300, 'conger': 400, 'tuna': 400, 'eel': 500, 'salmon_roe': 500}\n"
     ]
    }
   ],
   "source": [
    "prices = {\n",
    "  'mackerel': 200,\n",
    "  'salmon': 300,\n",
    "  'yellowtail': 300,\n",
    "  'shrimp': 300,\n",
    "  'conger': 400,\n",
    "  'tuna': 400,\n",
    "  'eel': 500,\n",
    "  'salmon_roe': 500,\n",
    "}\n",
    "\n",
    "print(prices)"
   ]
  },
  {
   "cell_type": "markdown",
   "metadata": {},
   "source": [
    "## py08-2：指定したキーに対応する値の取得\n",
    "\n",
    "`'salmon'`の値段を取得しよう．"
   ]
  },
  {
   "cell_type": "code",
   "execution_count": 16,
   "metadata": {},
   "outputs": [
    {
     "data": {
      "text/plain": [
       "300"
      ]
     },
     "execution_count": 16,
     "metadata": {},
     "output_type": "execute_result"
    }
   ],
   "source": [
    "prices['salmon']\n"
   ]
  },
  {
   "cell_type": "markdown",
   "metadata": {},
   "source": [
    "## py08-3：辞書へのキー：値ペアの追加\n",
    "\n",
    "`'sea_urchin'`の値段を600円として追加したい．辞書`prices`に`'sea_urchin'`の値段600円を追加しよう．"
   ]
  },
  {
   "cell_type": "code",
   "execution_count": 17,
   "metadata": {},
   "outputs": [],
   "source": [
    "prices['sea_urchin'] = 600"
   ]
  },
  {
   "cell_type": "markdown",
   "metadata": {},
   "source": [
    "## py08-5：辞書に含まれるすべてのキーの取得\n",
    "\n",
    "辞書`prices`のすべてのキーを取得しよう．"
   ]
  },
  {
   "cell_type": "code",
   "execution_count": 18,
   "metadata": {},
   "outputs": [
    {
     "data": {
      "text/plain": [
       "['mackerel',\n",
       " 'salmon',\n",
       " 'yellowtail',\n",
       " 'shrimp',\n",
       " 'conger',\n",
       " 'tuna',\n",
       " 'eel',\n",
       " 'salmon_roe',\n",
       " 'sea_urchin']"
      ]
     },
     "execution_count": 18,
     "metadata": {},
     "output_type": "execute_result"
    }
   ],
   "source": [
    "list(prices.keys())"
   ]
  },
  {
   "cell_type": "markdown",
   "metadata": {},
   "source": [
    "## py08-8：ループによる辞書内のすべてのキー：値ペアの列挙\n",
    "\n",
    "実行結果のように辞書pricesに含まれるすべてのキーと値段を表示しよう．\n",
    "実行結果：\n",
    "```\n",
    "mackerel: 200円\n",
    "salmon: 300円\n",
    "yellowtail: 300円\n",
    "shrimp: 300円\n",
    "conger: 400円\n",
    "tuna: 400円\n",
    "eel: 700円\n",
    "salmon_roe: 500円\n",
    "sea_urchin: 600円\n",
    "```"
   ]
  },
  {
   "cell_type": "code",
   "execution_count": 19,
   "metadata": {},
   "outputs": [
    {
     "name": "stdout",
     "output_type": "stream",
     "text": [
      "mackerel: 200円\n",
      "salmon: 300円\n",
      "yellowtail: 300円\n",
      "shrimp: 300円\n",
      "conger: 400円\n",
      "tuna: 400円\n",
      "eel: 500円\n",
      "salmon_roe: 500円\n",
      "sea_urchin: 600円\n"
     ]
    }
   ],
   "source": [
    "for item, price in prices.items():\n",
    "  print(f\"{item}: {price}円\")\n",
    "  # print(\"{item}: {price}円\".format(item=item, price=price))"
   ]
  }
 ],
 "metadata": {
  "kernelspec": {
   "display_name": ".venv",
   "language": "python",
   "name": "python3"
  },
  "language_info": {
   "codemirror_mode": {
    "name": "ipython",
    "version": 3
   },
   "file_extension": ".py",
   "mimetype": "text/x-python",
   "name": "python",
   "nbconvert_exporter": "python",
   "pygments_lexer": "ipython3",
   "version": "3.11.3"
  }
 },
 "nbformat": 4,
 "nbformat_minor": 2
}
