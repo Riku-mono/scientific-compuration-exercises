{
 "cells": [
  {
   "cell_type": "markdown",
   "metadata": {},
   "source": [
    "# 第1章 評価履歴 | recsys-python\n",
    "\n",
    "https://recsyslab.github.io/recsys-python/ja/chap01.html"
   ]
  },
  {
   "cell_type": "markdown",
   "metadata": {},
   "source": [
    "## 準備\n",
    "\n",
    "次のコードを書きなさい。"
   ]
  },
  {
   "cell_type": "code",
   "execution_count": 1,
   "metadata": {},
   "outputs": [],
   "source": [
    "import numpy as np"
   ]
  },
  {
   "cell_type": "markdown",
   "metadata": {},
   "source": [
    "# 評価履歴\n",
    "\n",
    "次の行列$D_u$はユーザ$u$の評価履歴である。\n",
    "\n",
    "$$\n",
    "D_u = \\begin{bmatrix}\n",
    "  5 & 3 & 1 \\\\\n",
    "  6 & 2 & 1 \\\\\n",
    "  4 & 1 & 1 \\\\\n",
    "  8 & 5 & -1 \\\\\n",
    "  2 & 4 & -1 \\\\\n",
    "  3 & 6 & -1 \\\\\n",
    "  7 & 6 & -1 \\\\\n",
    "  4 & 2 & ? \\\\\n",
    "  5 & 1 & ? \\\\\n",
    "  8 & 6 & ? \\\\\n",
    "  3 & 4 & ? \\\\\n",
    "  4 & 7 & ? \\\\\n",
    "  4 & 4 & ? \\\\\n",
    "\\end{bmatrix}\n",
    "\n",
    "$$"
   ]
  },
  {
   "cell_type": "markdown",
   "metadata": {},
   "source": [
    "## 01 評価履歴の生成\n",
    "\n",
    "評価履歴$D_u$を`ndarray`として生成するコードを書きなさい。得られた`ndarray`を$D_u$とすること。"
   ]
  },
  {
   "cell_type": "code",
   "execution_count": 2,
   "metadata": {},
   "outputs": [
    {
     "name": "stdout",
     "output_type": "stream",
     "text": [
      "Du = \n",
      "[[ 5.  3.  1.]\n",
      " [ 6.  2.  1.]\n",
      " [ 4.  1.  1.]\n",
      " [ 8.  5. -1.]\n",
      " [ 2.  4. -1.]\n",
      " [ 3.  6. -1.]\n",
      " [ 7.  6. -1.]\n",
      " [ 4.  2. nan]\n",
      " [ 5.  1. nan]\n",
      " [ 8.  6. nan]\n",
      " [ 3.  4. nan]\n",
      " [ 4.  7. nan]\n",
      " [ 4.  4. nan]]\n"
     ]
    }
   ],
   "source": [
    "Du = np.array([\n",
    "  [5, 3, 1],\n",
    "  [6, 2, 1],\n",
    "  [4, 1, 1],\n",
    "  [8, 5, -1],\n",
    "  [2, 4, -1],\n",
    "  [3, 6, -1],\n",
    "  [7, 6, -1],\n",
    "  [4, 2, np.nan],\n",
    "  [5, 1, np.nan],\n",
    "  [8, 6, np.nan],\n",
    "  [3, 4, np.nan],\n",
    "  [4, 7, np.nan],\n",
    "  [4, 4, np.nan]\n",
    "])\n",
    "\n",
    "print('Du = \\n{}'.format(Du))"
   ]
  },
  {
   "cell_type": "markdown",
   "metadata": {},
   "source": [
    "## 02 評価履歴の形状\n",
    "\n",
    "`Du`の形状を取得するコードを書きなさい。"
   ]
  },
  {
   "cell_type": "code",
   "execution_count": 3,
   "metadata": {},
   "outputs": [
    {
     "name": "stdout",
     "output_type": "stream",
     "text": [
      "Duの形状 = (13, 3)\n"
     ]
    }
   ],
   "source": [
    "print('Duの形状 = {}'.format(Du.shape))"
   ]
  },
  {
   "cell_type": "markdown",
   "metadata": {},
   "source": [
    "## 03 評価履歴の行数\n",
    "\n",
    "`Du`の行数を取得するコードを書きなさい。"
   ]
  },
  {
   "cell_type": "code",
   "execution_count": 4,
   "metadata": {},
   "outputs": [
    {
     "name": "stdout",
     "output_type": "stream",
     "text": [
      "Duの行数 = 13\n"
     ]
    }
   ],
   "source": [
    "print('Duの行数 = {}'.format(Du.shape[0]))"
   ]
  },
  {
   "cell_type": "markdown",
   "metadata": {},
   "source": [
    "## 04 評価履歴の列数\n",
    "\n",
    "`Du`の列数を取得するコードを書きなさい。"
   ]
  },
  {
   "cell_type": "code",
   "execution_count": 5,
   "metadata": {},
   "outputs": [
    {
     "name": "stdout",
     "output_type": "stream",
     "text": [
      "Duの列数 = 3\n"
     ]
    }
   ],
   "source": [
    "print('Duの列数 = {}'.format(Du.shape[1]))"
   ]
  },
  {
   "cell_type": "markdown",
   "metadata": {},
   "source": [
    "## 05 評価履歴の全要素数\n",
    "\n",
    "`Du`の全要素数を取得するコードを書きなさい。ただし、欠損値も含む。"
   ]
  },
  {
   "cell_type": "code",
   "execution_count": 6,
   "metadata": {},
   "outputs": [
    {
     "name": "stdout",
     "output_type": "stream",
     "text": [
      "Duの全要素数 = 39\n"
     ]
    }
   ],
   "source": [
    "print('Duの全要素数 = {}'.format(Du.size))"
   ]
  },
  {
   "cell_type": "markdown",
   "metadata": {},
   "source": [
    "# アイテム\n",
    "\n",
    "評価履歴$D_u$の$i$行目はアイテム$i∈I$に関するデータを表す。ここで、評価履歴$D_u$に含まれるアイテム集合は$I={0,1,…,12}$となる。$D_u$の$i$行目の1列目と2列目はアイテム$i$の特徴ベクトル$x_i$に対応する。このとき、次の問いに答えなさい。"
   ]
  },
  {
   "cell_type": "markdown",
   "metadata": {},
   "source": [
    "## 06 アイテム集合\n",
    "`Du`の各行のインデックス`i`は各アイテム $i$ のアイテムID $i$ に対応する。`Du`からアイテム集合$I$（アイテムIDを要素としたベクトル）を`ndarray`として生成するコードを書きなさい。得られた`ndarray`を`I`とすること。"
   ]
  },
  {
   "cell_type": "code",
   "execution_count": 7,
   "metadata": {},
   "outputs": [
    {
     "name": "stdout",
     "output_type": "stream",
     "text": [
      "I = [ 0  1  2  3  4  5  6  7  8  9 10 11 12]\n"
     ]
    }
   ],
   "source": [
    "'''\n",
    "i = Du.shape[0]\n",
    "I = np.array([i for i in range(i)])\n",
    "'''\n",
    "I = np.arange(Du.shape[0])\n",
    "print('I = {}'.format(I))"
   ]
  },
  {
   "cell_type": "markdown",
   "metadata": {},
   "source": [
    "## 07 アイテムの特徴ベクトルの集合\n",
    "\n",
    "`Du`からアイテムの特徴ベクトルの集合（各アイテムの特徴ベクトル$x_i$を縦に結合した行列）を`ndarray`として生成するコードを書きなさい。得られた`ndarray`を`x`とすること。"
   ]
  },
  {
   "cell_type": "code",
   "execution_count": 8,
   "metadata": {},
   "outputs": [
    {
     "name": "stdout",
     "output_type": "stream",
     "text": [
      "x = \n",
      "[[5. 3.]\n",
      " [6. 2.]\n",
      " [4. 1.]\n",
      " [8. 5.]\n",
      " [2. 4.]\n",
      " [3. 6.]\n",
      " [7. 6.]\n",
      " [4. 2.]\n",
      " [5. 1.]\n",
      " [8. 6.]\n",
      " [3. 4.]\n",
      " [4. 7.]\n",
      " [4. 4.]]\n"
     ]
    }
   ],
   "source": [
    "# x = np.array([i[:2] for i in Du])\n",
    "x = Du[:, :-1]\n",
    "\n",
    "print('x = \\n{}'.format(x))"
   ]
  },
  {
   "cell_type": "markdown",
   "metadata": {},
   "source": [
    "## 08 アイテムiの特徴ベクトル\n",
    "\n",
    "`x`からアイテム$i$の特徴ベクトル$x_i$を取得するコードを書きなさい。"
   ]
  },
  {
   "cell_type": "code",
   "execution_count": 9,
   "metadata": {},
   "outputs": [
    {
     "name": "stdout",
     "output_type": "stream",
     "text": [
      "x0 = [5. 3.]\n"
     ]
    }
   ],
   "source": [
    "i = 0\n",
    "print('x{} = {}'.format(i, x[i]))"
   ]
  },
  {
   "cell_type": "markdown",
   "metadata": {},
   "source": [
    "## 評価値\n",
    "\n",
    "評価履歴$D_u$の$i$行目3列目はユーザ$u$のアイテム$i$に対する評価値$r_{u,i}$に対応する。$r_{u,i}=+1$は「好き」を、$r_{u,i}=−1$は「嫌い」を表す。ただし、?はユーザ$u$が未評価、すなわち欠損値であることを示す。このとき、次の問いに答えなさい。"
   ]
  },
  {
   "cell_type": "markdown",
   "metadata": {},
   "source": [
    "## 09 評価値集合\n",
    "\n",
    "`Du`から評価値集合（各評価値$r_{u,i}$を要素としたベクトル）を`ndarray`として生成するコードを書きなさい。得られた`ndarray`を`ru`とすること。"
   ]
  },
  {
   "cell_type": "code",
   "execution_count": 10,
   "metadata": {},
   "outputs": [
    {
     "name": "stdout",
     "output_type": "stream",
     "text": [
      "ru = [ 1.  1.  1. -1. -1. -1. -1. nan nan nan nan nan nan]\n"
     ]
    }
   ],
   "source": [
    "# ru = np.array([i[-1] for i in Du])\n",
    "ru = Du[:, -1]\n",
    "\n",
    "print('ru = {}'.format(ru))"
   ]
  },
  {
   "cell_type": "markdown",
   "metadata": {},
   "source": [
    "## 10 評価値集合の形状\n",
    "\n",
    "`ru`の形状を取得するコードを書きなさい。"
   ]
  },
  {
   "cell_type": "code",
   "execution_count": 11,
   "metadata": {},
   "outputs": [
    {
     "name": "stdout",
     "output_type": "stream",
     "text": [
      "ruの形状 = (13,)\n"
     ]
    }
   ],
   "source": [
    "print('ruの形状 = {}'.format(ru.shape))"
   ]
  },
  {
   "cell_type": "markdown",
   "metadata": {},
   "source": [
    "## 11 評価値集合の全要素数\n",
    "\n",
    "`ru`の全要素数を取得するコードを書きなさい。ただし、欠損値も含む。"
   ]
  },
  {
   "cell_type": "code",
   "execution_count": 12,
   "metadata": {},
   "outputs": [
    {
     "name": "stdout",
     "output_type": "stream",
     "text": [
      "ruの全要素数 = 13\n",
      "ruの全要素数 = 13\n"
     ]
    }
   ],
   "source": [
    "print('ruの全要素数 = {}'.format(ru.size))\n",
    "\n",
    "print('ruの全要素数 = {}'.format(ru.shape[0]))\n"
   ]
  },
  {
   "cell_type": "markdown",
   "metadata": {},
   "source": [
    "## 12 評価値集合の部分集合\n",
    "\n",
    "`ru`の`i`番目から`j-1`番目までの評価値集合を取得するコードを書きなさい。"
   ]
  },
  {
   "cell_type": "code",
   "execution_count": 13,
   "metadata": {},
   "outputs": [
    {
     "name": "stdout",
     "output_type": "stream",
     "text": [
      "ru2からru4までの評価値 = [ 1. -1. -1.]\n"
     ]
    }
   ],
   "source": [
    "i = 2\n",
    "j = 5\n",
    "print('ru{}からru{}までの評価値 = {}'.format(i, j-1, ru[i:j]))"
   ]
  },
  {
   "cell_type": "markdown",
   "metadata": {},
   "source": [
    "## 13 評価値集合の要素の逆順\n",
    "\n",
    "`ru`の要素を逆順に取得するコードを書きなさい。"
   ]
  },
  {
   "cell_type": "code",
   "execution_count": 14,
   "metadata": {},
   "outputs": [
    {
     "name": "stdout",
     "output_type": "stream",
     "text": [
      "ruの逆順 = [nan nan nan nan nan nan -1. -1. -1. -1.  1.  1.  1.]\n"
     ]
    }
   ],
   "source": [
    "print('ruの逆順 = {}'.format(ru[::-1]))"
   ]
  },
  {
   "cell_type": "markdown",
   "metadata": {},
   "source": [
    "## 14 アイテムiに対する評価値\n",
    "\n",
    "`ru`からアイテム$i$に対する評価値$r_{u,i}$を取得するコードを書きなさい。"
   ]
  },
  {
   "cell_type": "code",
   "execution_count": 15,
   "metadata": {},
   "outputs": [
    {
     "name": "stdout",
     "output_type": "stream",
     "text": [
      "ru0 = 1.0\n"
     ]
    }
   ],
   "source": [
    "i = 0\n",
    "print('ru{} = {}'.format(i, ru[i]))"
   ]
  },
  {
   "cell_type": "markdown",
   "metadata": {},
   "source": [
    "# アイテム集合\n",
    "\n",
    "アイテム集合$I$のうちユーザ$u$が評価済みのアイテム集合を$I_u⊆I$と表す。このうち、ユーザ$u$が「好き」と評価したアイテム集合を$I^+_u⊆I$（$r_{u,i}=+1$を満たすアイテム集合）、ユーザ$u$が「嫌い」と評価したアイテム集合を$I^−_u⊆I$（$r_{u,i}=−1$を満たすアイテム集合）と表す。また、ユーザ$u$が未評価のアイテム集合は$\\overline{I}_u=I∖I_u$と表される。ここで、$I∖I_u$は$I$から$I_u$を引いた差集合を表す。このとき、次の問いに答えなさい。"
   ]
  },
  {
   "cell_type": "markdown",
   "metadata": {},
   "source": [
    "## 15 ユーザuが未評価であるか否かの判定\n",
    "\n",
    "`ru`において、欠損値の要素には`True`を、それ以外の要素には`False`を入れたブール値配列を生成するコードを書きなさい。"
   ]
  },
  {
   "cell_type": "code",
   "execution_count": 16,
   "metadata": {},
   "outputs": [
    {
     "name": "stdout",
     "output_type": "stream",
     "text": [
      "ユーザuが未評価 = [False False False False False False False  True  True  True  True  True\n",
      "  True]\n"
     ]
    }
   ],
   "source": [
    "print('ユーザuが未評価 = {}'.format(np.isnan(ru)))"
   ]
  },
  {
   "cell_type": "markdown",
   "metadata": {},
   "source": [
    "## 16 ユーザが評価済みであるか否かの判定\n",
    "\n",
    "`ru`において、欠損値の要素には`False`を、それ以外の要素には`True`を入れたブール値配列を生成するコードを書きなさい。\n",
    "\n",
    "> `~`演算子は`~x`に対して`-(x+1)`"
   ]
  },
  {
   "cell_type": "code",
   "execution_count": 17,
   "metadata": {},
   "outputs": [
    {
     "name": "stdout",
     "output_type": "stream",
     "text": [
      "ユーザuが評価済み = [ True  True  True  True  True  True  True False False False False False\n",
      " False]\n"
     ]
    }
   ],
   "source": [
    "print('ユーザuが評価済み = {}'.format(~np.isnan(ru)))"
   ]
  },
  {
   "cell_type": "markdown",
   "metadata": {},
   "source": [
    "## 17 ユーザuが評価済みのアイテム集合\n",
    "\n",
    "`I`からユーザ$u$が評価済みのアイテム集合$I_u$を`ndarray`として生成するコードを書きなさい。得られた`ndarray`を`Iu`とすること。"
   ]
  },
  {
   "cell_type": "code",
   "execution_count": 18,
   "metadata": {},
   "outputs": [
    {
     "name": "stdout",
     "output_type": "stream",
     "text": [
      "Iu = [0 1 2 3 4 5 6]\n"
     ]
    }
   ],
   "source": [
    "Iu = I[~np.isnan(ru)]\n",
    "\n",
    "print('Iu = {}'.format(Iu))"
   ]
  },
  {
   "cell_type": "markdown",
   "metadata": {},
   "source": [
    "## 18 ユーザuが「好き」と評価したアイテム集合\n",
    "\n",
    "`I`からユーザ$u$が「好き」と評価したアイテム集合$I_{u}^{+}$を`ndarray`として生成するコードを書きなさい。得られた`ndarray`を`Iup`とすること。"
   ]
  },
  {
   "cell_type": "code",
   "execution_count": 19,
   "metadata": {},
   "outputs": [
    {
     "name": "stdout",
     "output_type": "stream",
     "text": [
      "Iu+ = [0 1 2]\n"
     ]
    }
   ],
   "source": [
    "Iup = I[ru == +1]\n",
    "\n",
    "print('Iu+ = {}'.format(Iup))"
   ]
  },
  {
   "cell_type": "markdown",
   "metadata": {},
   "source": [
    "## 19 ユーザuが「嫌い」と評価したアイテム集合\n",
    "`I`からユーザ$u$が「嫌い」と評価したアイテム集合$I_{u}^{-}$を`ndarray`として生成するコードを書きなさい。得られた`ndarray`を`Iun`とすること。"
   ]
  },
  {
   "cell_type": "code",
   "execution_count": 20,
   "metadata": {},
   "outputs": [
    {
     "name": "stdout",
     "output_type": "stream",
     "text": [
      "Iu- = [3 4 5 6]\n"
     ]
    }
   ],
   "source": [
    "Iun = I[ru == -1]\n",
    "\n",
    "print('Iu- = {}'.format(Iun))"
   ]
  },
  {
   "cell_type": "markdown",
   "metadata": {},
   "source": [
    "## 20 ユーザuが未評価のアイテム集合\n",
    "\n",
    "`I`からユーザ$u$が未評価のアイテム集合$\\overline{I}_{u}$を`ndarray`として生成するコードを書きなさい。得られた`ndarray`を`Iu_not`とすること。"
   ]
  },
  {
   "cell_type": "code",
   "execution_count": 21,
   "metadata": {},
   "outputs": [
    {
     "name": "stdout",
     "output_type": "stream",
     "text": [
      "Iu_not = [ 7  8  9 10 11 12]\n"
     ]
    }
   ],
   "source": [
    "Iu_not = np.setdiff1d(I, Iu)\n",
    "\n",
    "print('Iu_not = {}'.format(Iu_not))"
   ]
  },
  {
   "cell_type": "markdown",
   "metadata": {},
   "source": [
    "# 訓練データと予測対象データ\n",
    "\n",
    "評価履歴$D_{u}$からユーザ$u$の訓練データ$D_{u}^{L}$を作成すると、次のとおりとなる。\n",
    "\n",
    "$$\n",
    "D_{u}^{L} = \\left[\n",
    " \\begin{array}{rrr}\n",
    "  5 & 3 & +1 \\\\\n",
    "  6 & 2 & +1 \\\\\n",
    "  4 & 1 & +1 \\\\\n",
    "  8 & 5 & -1 \\\\\n",
    "  2 & 4 & -1 \\\\\n",
    "  3 & 6 & -1 \\\\\n",
    "  7 & 6 & -1 \\\\\n",
    " \\end{array}\n",
    "\\right]\n",
    "$$\n",
    "\n",
    "ここで、訓練データ$D_{u}^{L}$に含まれる事例数は$\\mid D_{u}^{L} \\mid = 7$となる。また、訓練データ$D_{u}^{L}$のうち「好き」と評価された事例集合（正事例集合）を$D_{u}^{L+}$、「嫌い」と評価された事例集合（負事例集合）を$D_{u}^{L-}$と表す。それぞれの事例数は$\\mid D_{u}^{L+} \\mid = 3$、$\\mid D_{u}^{L-} \\mid = 4$となる。同様に、ユーザ$u$向けの予測対象データ$D_{u}^{U}$は次のとおりとなる。\n",
    "\n",
    "$$\n",
    "D_{u}^{U} = \\left[\n",
    " \\begin{array}{rrr}\n",
    "  4 & 2 &  ? \\\\\n",
    "  5 & 1 &  ? \\\\\n",
    "  8 & 6 &  ? \\\\\n",
    "  3 & 4 &  ? \\\\\n",
    "  4 & 7 &  ? \\\\\n",
    "  4 & 4 &  ? \\\\\n",
    " \\end{array}\n",
    "\\right]\n",
    "$$\n",
    "\n",
    "ここで、予測対象データ$D_{u}^{U}$に含まれる事例数は$\\mid D_{u}^{U} \\mid = 6$となる。このとき、次の問いに答えなさい。"
   ]
  },
  {
   "cell_type": "markdown",
   "metadata": {},
   "source": [
    "## 21 訓練データ\n",
    "`D`uから訓練データ$D_{u}^{L}$を`ndarray`として生成するコードを書きなさい。得られた`ndarray`を`DuL`とすること。"
   ]
  },
  {
   "cell_type": "code",
   "execution_count": 22,
   "metadata": {},
   "outputs": [
    {
     "name": "stdout",
     "output_type": "stream",
     "text": [
      "DuL = \n",
      "[[ 5.  3.  1.]\n",
      " [ 6.  2.  1.]\n",
      " [ 4.  1.  1.]\n",
      " [ 8.  5. -1.]\n",
      " [ 2.  4. -1.]\n",
      " [ 3.  6. -1.]\n",
      " [ 7.  6. -1.]]\n"
     ]
    }
   ],
   "source": [
    "DuL = Du[Iu]\n",
    "print('DuL = \\n{}'.format(DuL))"
   ]
  },
  {
   "cell_type": "markdown",
   "metadata": {},
   "source": [
    "## 22 訓練事例数\n",
    "\n",
    "`DuL`から訓練事例数$\\mid D_{u}^{L} \\mid$を取得するコードを書きなさい。"
   ]
  },
  {
   "cell_type": "code",
   "execution_count": 23,
   "metadata": {},
   "outputs": [
    {
     "name": "stdout",
     "output_type": "stream",
     "text": [
      "|DuL| = 7\n"
     ]
    }
   ],
   "source": [
    "print('|DuL| = {}'.format(DuL.shape[0]))"
   ]
  },
  {
   "cell_type": "markdown",
   "metadata": {},
   "source": [
    "## 23 正事例数\n",
    "\n",
    "`DuL`から正事例数$\\mid D_{u}^{L+} \\mid$を取得するコードを書きなさい。"
   ]
  },
  {
   "cell_type": "code",
   "execution_count": 30,
   "metadata": {},
   "outputs": [
    {
     "name": "stdout",
     "output_type": "stream",
     "text": [
      "|DuL+| = 3\n"
     ]
    }
   ],
   "source": [
    "# print('|DuL+| = {}'.format(DuL[DuL[:, -1] == +1].shape[0]))\n",
    "print('|DuL+| = {}'.format(DuL[ru[Iu]==+1].shape[0]))"
   ]
  },
  {
   "cell_type": "markdown",
   "metadata": {},
   "source": [
    "## 24 負事例数\n",
    "\n",
    "DuLから負事例数$$\\mid D_{u}^{L-} \\mid$$を取得するコードを書きなさい。"
   ]
  },
  {
   "cell_type": "code",
   "execution_count": 28,
   "metadata": {},
   "outputs": [
    {
     "name": "stdout",
     "output_type": "stream",
     "text": [
      "|DuL-| = 4\n"
     ]
    }
   ],
   "source": [
    "# print('|DuL-| = {}'.format(DuL[DuL[:, -1] == -1].shape[0]))\n",
    "print('|DuL-| = {}'.format(DuL[ru[Iu]==-1].shape[0]))"
   ]
  },
  {
   "cell_type": "markdown",
   "metadata": {},
   "source": [
    "## 25 予測対象データ\n",
    "\n",
    "`Du`から予測対象データ$D^{U}_{u}$を`ndarray`として生成するコードを書きなさい。得られた`ndarray`を`DuU`とすること。"
   ]
  },
  {
   "cell_type": "code",
   "execution_count": 26,
   "metadata": {},
   "outputs": [
    {
     "name": "stdout",
     "output_type": "stream",
     "text": [
      "DuU = \n",
      "[[ 4.  2. nan]\n",
      " [ 5.  1. nan]\n",
      " [ 8.  6. nan]\n",
      " [ 3.  4. nan]\n",
      " [ 4.  7. nan]\n",
      " [ 4.  4. nan]]\n"
     ]
    }
   ],
   "source": [
    "DuU = Du[Iu_not]\n",
    "\n",
    "print('DuU = \\n{}'.format(DuU))"
   ]
  },
  {
   "cell_type": "markdown",
   "metadata": {},
   "source": [
    "## 26 予測対象事例数\n",
    "\n",
    "`DuU`から予測対象事例数$\\mid D_{u}^{U} \\mid$を取得するコードを書きなさい。"
   ]
  },
  {
   "cell_type": "code",
   "execution_count": 27,
   "metadata": {},
   "outputs": [
    {
     "name": "stdout",
     "output_type": "stream",
     "text": [
      "|DuU| = 6\n"
     ]
    }
   ],
   "source": [
    "print('|DuU| = {}'.format(DuU.shape[0]))"
   ]
  }
 ],
 "metadata": {
  "kernelspec": {
   "display_name": ".venv",
   "language": "python",
   "name": "python3"
  },
  "language_info": {
   "codemirror_mode": {
    "name": "ipython",
    "version": 3
   },
   "file_extension": ".py",
   "mimetype": "text/x-python",
   "name": "python",
   "nbconvert_exporter": "python",
   "pygments_lexer": "ipython3",
   "version": "3.11.3"
  }
 },
 "nbformat": 4,
 "nbformat_minor": 2
}
