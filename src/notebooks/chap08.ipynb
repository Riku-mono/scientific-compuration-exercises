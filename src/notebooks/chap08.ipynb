{
 "cells": [
  {
   "cell_type": "markdown",
   "metadata": {},
   "source": [
    "# 第8章 評価値行列の次元削減\n",
    "\n",
    "https://recsyslab.github.io/recsys-python/ja/chap08.html"
   ]
  },
  {
   "cell_type": "markdown",
   "metadata": {},
   "source": [
    "## 準備\n",
    "\n",
    "次のコードを書きなさい。"
   ]
  },
  {
   "cell_type": "code",
   "execution_count": 1,
   "metadata": {},
   "outputs": [],
   "source": [
    "import numpy as np\n",
    "import numpy.linalg as LA\n",
    "np.set_printoptions(precision=3)\n",
    "\n",
    "# 縮約後の次元数\n",
    "DIM = 2\n",
    "\n",
    "R = np.array([\n",
    "              [np.nan, 4,      3,      1,      2,      np.nan],\n",
    "              [5,      5,      4,      np.nan, 3,      3     ],\n",
    "              [4,      np.nan, 5,      3,      2,      np.nan],\n",
    "              [np.nan, 3,      np.nan, 2,      1,      1     ],\n",
    "              [2,      1,      2,      4,      np.nan, 3     ],\n",
    "])\n",
    "U = np.arange(R.shape[0])\n",
    "I = np.arange(R.shape[1])\n",
    "Ui = [U[~np.isnan(R)[:,i]] for i in I]\n",
    "Iu = [I[~np.isnan(R)[u,:]] for u in U]\n",
    "ru_mean = np.nanmean(R, axis=1)\n",
    "R2 = R - ru_mean.reshape((ru_mean.size, 1))"
   ]
  },
  {
   "cell_type": "markdown",
   "metadata": {},
   "source": [
    "# 分散共分散行列\n",
    "\n",
    "アイテム$i$の分散$s_{i}^{2}$は次式で求められる。\n",
    "\n",
    "$$\n",
    "s_{i}^{2} = \\frac{1}{\\mid U_{i} \\mid} \\sum_{u \\in U_{i}} (r_{u,i}^{'} - \\overline{r}_{i}^{'})^{2}\n",
    "$$\n",
    "\n",
    "ここで、$\\overline{r}_{i}$はアイテム$i$に対して与えられた平均中心化評価値の平均値であり、次式で求められる。\n",
    "\n",
    "$$\n",
    "\\overline{r}_{i}^{'} = \\frac{1}{\\mid U_{i} \\mid} \\sum_{u \\in U_{i}} r_{u,i}^{'}\n",
    "$$\n",
    "\n",
    "アイテム$i$とアイテム$j$の共分散$s_{i,k}$は次式で求められる。\n",
    "\n",
    "$$\n",
    "s_{i,j} = \n",
    "    \\begin{cases}\n",
    "        \\frac{1}{\\mid U_{i,j} \\mid} \\sum_{u \\in U_{i,j}} (r_{u,i}^{'} - \\overline{r}_{i}^{'}) (r_{u,j}^{'} - \\overline{r}_{j}^{'}) & (U_{i,j} \\neq \\emptyset) \\\\\n",
    "        0 & (U_{i,j} = \\emptyset)\n",
    "    \\end{cases}\n",
    "$$\n",
    "\n",
    "ここで、$U_{i,j}$はアイテム$i$とアイテム$j$の両方のアイテムに評価値を与えているユーザ集合である。\n",
    "\n",
    "各アイテムについて求めた分散、共分散をまとめると、次式のように分散共分散行列$\\boldsymbol{S}$が得られる。\n",
    "\n",
    "$$\n",
    "\\boldsymbol{S} = \\left[\n",
    "    \\begin{array}{rrrrrr}\n",
    "         0.336 &  0.893 &  0.169 & -0.659 & -0.057 & -0.572 \\\\\n",
    "         0.893 &  1.348 &  0.505 & -1.466 &  0.166 & -0.817 \\\\\n",
    "         0.169 &  0.505 &  0.505 & -0.655 & -0.183 & -0.270 \\\\\n",
    "        -0.659 & -1.466 & -0.655 &  1.279 & -0.109 &  0.752 \\\\\n",
    "        -0.057 &  0.166 & -0.183 & -0.109 &  0.137 & -0.015 \\\\\n",
    "        -0.572 & -0.817 & -0.270 &  0.752 & -0.015 &  0.494 \n",
    "    \\end{array}\n",
    "\\right]\n",
    "$$\n",
    "\n",
    "このとき、次の問いに答えなさい。"
   ]
  },
  {
   "cell_type": "markdown",
   "metadata": {},
   "source": [
    "## 01 各アイテムに対して与えられた平均中心化評価値の平均値\n",
    "\n",
    "`R2`において各アイテムに対して与えられた平均中心化評価値の平均値$\\overline{r}_{i}$を`ndarray`としてまとめて求めるコードを書きなさい。得られた`ndarray`を`ri2_mean`とすること。"
   ]
  },
  {
   "cell_type": "code",
   "execution_count": 2,
   "metadata": {},
   "outputs": [
    {
     "name": "stdout",
     "output_type": "stream",
     "text": [
      "ri2_mean = [ 0.367  0.588  0.4   -0.037 -0.938 -0.383]\n"
     ]
    }
   ],
   "source": [
    "ri2_mean = np.nanmean(R2, axis=0)\n",
    "print('ri2_mean = {}'.format(ri2_mean))"
   ]
  },
  {
   "cell_type": "markdown",
   "metadata": {},
   "source": [
    "## 02 各アイテムの平均中心化評価値の分散\n",
    "\n",
    "`R2`において各特徴量の平均中心化評価値の分散$s_{i}^{2}$を`ndarray`としてまとめて求めるコードを書きなさい。得られた`ndarray`を`s2`とすること。"
   ]
  },
  {
   "cell_type": "code",
   "execution_count": 3,
   "metadata": {},
   "outputs": [
    {
     "name": "stdout",
     "output_type": "stream",
     "text": [
      "s^2 = [0.336 1.348 0.505 1.279 0.137 0.494]\n"
     ]
    }
   ],
   "source": [
    "s2 = np.nanvar(R2, axis=0)\n",
    "print('s^2 = {}'.format(s2))"
   ]
  },
  {
   "cell_type": "markdown",
   "metadata": {},
   "source": [
    "## 03 アイテムiとアイテムjの平均中心化評価値の共分散\n",
    "\n",
    "アイテム$i$とアイテム$j$の平均中心化評価値の共分散$s_{i,j}$を求めるコードを書きなさい。ただし、$U_{i,j} = \\emptyset$のとき、$s_{i,j} = 0$とする。得られた値を`sij`とすること。"
   ]
  },
  {
   "cell_type": "code",
   "execution_count": 4,
   "metadata": {},
   "outputs": [
    {
     "name": "stdout",
     "output_type": "stream",
     "text": [
      "s01 = 0.892\n"
     ]
    }
   ],
   "source": [
    "i = 0\n",
    "j = 1\n",
    "Uij = np.intersect1d(Ui[i], Ui[j])\n",
    "sij = (1 / Uij.size) * np.sum([(R2[u,i] - ri2_mean[i]) * (R2[u,j] - ri2_mean[j]) for u in Uij]) if Uij.size > 0 else 0\n",
    "print('s{}{} = {:.3f}'.format(i, j, sij))"
   ]
  },
  {
   "cell_type": "markdown",
   "metadata": {},
   "source": [
    "## 04 分散共分散行列\n",
    "\n",
    "分散共分散行列$\\boldsymbol{S}$を`ndarray`として求めるコードを書きなさい。得られた`ndarray`を`S`とすること。\n"
   ]
  },
  {
   "cell_type": "code",
   "execution_count": 5,
   "metadata": {},
   "outputs": [
    {
     "name": "stdout",
     "output_type": "stream",
     "text": [
      "S = \n",
      "[[ 0.336  0.892  0.169 -0.659 -0.057 -0.572]\n",
      " [ 0.892  1.348  0.505 -1.466  0.166 -0.817]\n",
      " [ 0.169  0.505  0.505 -0.655 -0.183 -0.27 ]\n",
      " [-0.659 -1.466 -0.655  1.279 -0.109  0.752]\n",
      " [-0.057  0.166 -0.183 -0.109  0.137 -0.015]\n",
      " [-0.572 -0.817 -0.27   0.752 -0.015  0.494]]\n"
     ]
    }
   ],
   "source": [
    "S = np.zeros((I.size, I.size))\n",
    "for i in I:\n",
    "    for j in I:\n",
    "        Uij = np.intersect1d(Ui[i], Ui[j])\n",
    "        S[i,j] = (1 / Uij.size) * np.sum([(R2[u,i] - ri2_mean[i]) * (R2[u,j] - ri2_mean[j]) for u in Uij]) if Uij.size > 0 else 0\n",
    "print('S = \\n{}'.format(S))"
   ]
  },
  {
   "cell_type": "markdown",
   "metadata": {},
   "source": [
    "# 固有値・固有ベクトル\n",
    "\n",
    "分散共分散行列$\\boldsymbol{S}$に対して、\n",
    "\n",
    "$$\n",
    "\\boldsymbol{S} \\boldsymbol{v} = \\lambda \\boldsymbol{v} \\;\\;\\;\\; (\\boldsymbol{x} \\neq \\boldsymbol{0})\n",
    "$$\n",
    "\n",
    "を満たす$d$次元ベクトル$\\boldsymbol{v}$と実数$\\lambda$が存在するとき、$\\lambda$を行列$\\boldsymbol{S}$の固有値，$\\boldsymbol{v}$を$\\lambda$に関する行列$\\boldsymbol{S}$の固有ベクトルという。このとき、次の問いに答えなさい。"
   ]
  },
  {
   "cell_type": "markdown",
   "metadata": {},
   "source": [
    "## 05 固有値・固有ベクトル\n",
    "\n",
    "分散共分散行列$\\boldsymbol{S}$の固有値$\\lambda$、固有ベクトル$\\boldsymbol{v}$を求めるコードを書きなさい。`ndarray`として得られた固有値、固有ベクトルを、それぞれ`lmd`、`v`とすること。"
   ]
  },
  {
   "cell_type": "code",
   "execution_count": 6,
   "metadata": {},
   "outputs": [
    {
     "name": "stdout",
     "output_type": "stream",
     "text": [
      "λ = [ 3.909  0.48   0.233 -0.315 -0.049 -0.16 ]\n",
      "v = \n",
      "[[-0.327 -0.228 -0.484 -0.685  0.279 -0.245]\n",
      " [-0.609 -0.211  0.099  0.565  0.371 -0.344]\n",
      " [-0.245  0.806  0.097 -0.134 -0.202 -0.472]\n",
      " [ 0.583 -0.126 -0.374  0.258 -0.019 -0.661]\n",
      " [-0.028 -0.462  0.624 -0.294 -0.394 -0.393]\n",
      " [ 0.348  0.157  0.465 -0.204  0.767 -0.087]]\n"
     ]
    }
   ],
   "source": [
    "lmd, v = LA.eig(S)\n",
    "print('λ = {}'.format(lmd))\n",
    "print('v = \\n{}'.format(v))"
   ]
  },
  {
   "cell_type": "markdown",
   "metadata": {},
   "source": [
    "## 06 第d主成分までの固有ベクトル\n",
    "\n",
    "第`DIM`主成分までの対応する固有ベクトルを列ベクトルとして並べた行列$\\boldsymbol{V}$を`ndarray`として生成するコードを書きなさい。得られた`ndarray`を`V`とすること。"
   ]
  },
  {
   "cell_type": "code",
   "execution_count": 7,
   "metadata": {},
   "outputs": [
    {
     "name": "stdout",
     "output_type": "stream",
     "text": [
      "V = \n",
      "[[-0.327 -0.228]\n",
      " [-0.609 -0.211]\n",
      " [-0.245  0.806]\n",
      " [ 0.583 -0.126]\n",
      " [-0.028 -0.462]\n",
      " [ 0.348  0.157]]\n"
     ]
    }
   ],
   "source": [
    "V = v[:,np.argsort(lmd)[::-1]][:,:DIM]\n",
    "print('V = \\n{}'.format(V))"
   ]
  },
  {
   "cell_type": "markdown",
   "metadata": {},
   "source": [
    "# 主成分得点\n",
    "\n",
    "ユーザ$u$の第$k$主成分得点$p_{u,k}$は次式で求められる。\n",
    "\n",
    "$$\n",
    "p_{u,k} = \\frac{\\sum_{i \\in I_{u}} r_{u,i}^{'} v_{k,i}}{\\mid I_{u} \\mid}\n",
    "$$\n",
    "\n",
    "すべてのユーザについて、第$d$主成分までの主成分得点を計算すると、次式の潜在因子行列$\\boldsymbol{P}$が得られる。\n",
    "\n",
    "$$\n",
    "\\boldsymbol{P} = \\left[\n",
    "                    \\begin{array}{rr}\n",
    "                        -0.474 &  0.127 \\\\\n",
    "                        -0.251 & -0.027 \\\\\n",
    "                        -0.195 &  0.463 \\\\\n",
    "                        -0.214 & -0.017 \\\\\n",
    "                         0.445 & -0.009 \n",
    "                    \\end{array}\n",
    "                \\right]     \n",
    "$$\n",
    "\n",
    "このとき、次の問いに答えなさい。"
   ]
  },
  {
   "cell_type": "markdown",
   "metadata": {},
   "source": [
    "## 07 ユーザuの第k主成分得点\n",
    "\n",
    "ユーザ$u$の第$k$主成分得点$p_{u,k}$を求めるコードを書きなさい。得られた値を`puk`とすること。"
   ]
  },
  {
   "cell_type": "code",
   "execution_count": 8,
   "metadata": {},
   "outputs": [
    {
     "name": "stdout",
     "output_type": "stream",
     "text": [
      "p00 = -0.474\n"
     ]
    }
   ],
   "source": [
    "u = 0\n",
    "k = 0\n",
    "puk = np.sum([R2[u,i] * V[i,k] for i in Iu[u]]) / Iu[u].size\n",
    "print('p{}{} = {:.3f}'.format(u, k, puk))"
   ]
  },
  {
   "cell_type": "markdown",
   "metadata": {},
   "source": [
    "## 08 潜在因子行列\n",
    "\n",
    "潜在因子行列$\\boldsymbol{P}$を`ndarray`としてまとめて求めるコードを書きなさい。ただし、潜在因子行列$\\boldsymbol{P}$の次元数は`DIM`とする。得られた`ndarray`を`P`とすること。"
   ]
  },
  {
   "cell_type": "code",
   "execution_count": 9,
   "metadata": {},
   "outputs": [
    {
     "name": "stdout",
     "output_type": "stream",
     "text": [
      "P = \n",
      "[[-0.474  0.127]\n",
      " [-0.251 -0.027]\n",
      " [-0.195  0.463]\n",
      " [-0.214 -0.017]\n",
      " [ 0.445 -0.009]]\n"
     ]
    }
   ],
   "source": [
    "P = np.zeros((U.size, DIM))\n",
    "for u in U:\n",
    "    for k in range(DIM):\n",
    "        P[u,k] = np.sum([R2[u,i] * V[i,k] for i in Iu[u]]) / Iu[u].size\n",
    "\n",
    "print('P = \\n{}'.format(P))"
   ]
  }
 ],
 "metadata": {
  "kernelspec": {
   "display_name": ".venv",
   "language": "python",
   "name": "python3"
  },
  "language_info": {
   "codemirror_mode": {
    "name": "ipython",
    "version": 3
   },
   "file_extension": ".py",
   "mimetype": "text/x-python",
   "name": "python",
   "nbconvert_exporter": "python",
   "pygments_lexer": "ipython3",
   "version": "3.11.3"
  }
 },
 "nbformat": 4,
 "nbformat_minor": 2
}
