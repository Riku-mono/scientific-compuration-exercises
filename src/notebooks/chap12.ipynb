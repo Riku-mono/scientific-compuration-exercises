{
 "cells": [
  {
   "cell_type": "markdown",
   "metadata": {},
   "source": [
    "# 第12章 好き嫌い分類に基づく評価指標\n",
    "\n",
    "https://recsyslab.github.io/recsys-python/ja/chap12.html"
   ]
  },
  {
   "cell_type": "markdown",
   "metadata": {},
   "source": [
    "# テストデータと推薦リスト\n",
    "\n",
    "次の評価値行列$\\boldsymbol{R}^{\\mathit{test}}$はテストデータである。$\\boldsymbol{R}$の$(u, i)$成分はユーザ$u$がアイテム$i$に与えた評価値$r_{u,i}$を表す。ただし、$-$で示した要素はテストデータの対象ではないことを表す。また、$\\boldsymbol{R}^{\\mathit{test}}$に含まれる成分の集合を$R^{\\mathit{test}}$と表す。\n",
    "\n",
    "$$\n",
    "\\boldsymbol{R}^{\\mathit{test}} = \\left[\n",
    " \\begin{array}{rrrrrrrrrr}\n",
    "  5 & 4 & 3 & - & 5 & 4 & 2 & 2 & - & - \\\\\n",
    " \\end{array}\n",
    "\\right]\n",
    "$$\n",
    "\n",
    "次の行列$\\hat{\\boldsymbol{R}}^{A}$、$\\hat{\\boldsymbol{R}}^{B}$は、それぞれ推薦システムA、推薦システムBによる推薦リストである。$\\hat{\\boldsymbol{R}}^{A}$、$\\hat{\\boldsymbol{R}}^{B}$の$(u, i)$成分は、それぞれユーザ$u$向けの推薦システムA、推薦システムBによる推薦リストにおける順位を表す。\n",
    "\n",
    "$$\n",
    "\\hat{\\boldsymbol{R}}^{A} = \\left[\n",
    " \\begin{array}{rrrrrrrrrr}\n",
    "  1 & 6 & 3 & - & 4 & 2 & 5 & 7 & - & - \\\\\n",
    " \\end{array}\n",
    "\\right]\n",
    "$$\n",
    "\n",
    "$$\n",
    "\\hat{\\boldsymbol{R}}^{B} = \\left[\n",
    " \\begin{array}{rrrrrrrrrr}\n",
    "  4 & 3 & 1 & - & 6 & 7 & 2 & 5 & - & - \\\\\n",
    " \\end{array}\n",
    "\\right]\n",
    "$$"
   ]
  },
  {
   "cell_type": "markdown",
   "metadata": {},
   "source": [
    "## 準備\n",
    "\n",
    "次のコードを書きなさい。"
   ]
  },
  {
   "cell_type": "code",
   "execution_count": 1,
   "metadata": {},
   "outputs": [],
   "source": [
    "import numpy as np\n",
    "\n",
    "# テストデータ\n",
    "R = np.array([\n",
    "              [5, 4,      3, np.nan, 5, 4,      2,      2,      np.nan, np.nan],\n",
    "])\n",
    "U = np.arange(R.shape[0])\n",
    "I = np.arange(R.shape[1])\n",
    "Iu = [I[~np.isnan(R)[u,:]] for u in U]\n",
    "\n",
    "# 推薦システムAによる推薦リスト\n",
    "RA = np.array([\n",
    "               [1, 6, 3, np.nan, 4, 2, 5, 7, np.nan, np.nan],\n",
    "])\n",
    "\n",
    "# 推薦システムBによる推薦リスト\n",
    "RB = np.array([\n",
    "               [4, 3, 1, np.nan, 6, 7, 2, 5, np.nan, np.nan],\n",
    "])"
   ]
  },
  {
   "cell_type": "markdown",
   "metadata": {},
   "source": [
    "# 混同行列\n",
    "\n",
    "次の表は混同行列である。\n",
    "\n",
    "|      | 推薦された | 推薦されなかった |\n",
    "| ---- | --------- | ----------------|\n",
    "| 好き | 好きなアイテムが推薦された数（TP） | 好きなアイテムが推薦されなかった数（FN） |\n",
    "| 嫌い | 嫌いなアイテムが推薦された数（FP） | 嫌いなアイテムが推薦されなかった数（TN） |\n",
    "\n",
    "ここでは、評価値が4以上のアイテムを好きなアイテムとみなす。次の関数は、ユーザ`u`向け推薦リスト`RS`の上位`K`件における混同行列の各値を返す関数である。\n",
    "\n",
    "### 関数\n",
    "\n",
    "```python\n",
    "def confusion_matrix(u, RS, K):\n",
    "    \"\"\"\n",
    "    ユーザu向け推薦リストRSの上位K件における混同行列の各値を返す。\n",
    "\n",
    "    Parameters\n",
    "    ----------\n",
    "    u : int\n",
    "        ユーザuのID\n",
    "    RS : ndarray\n",
    "        推薦リストRS\n",
    "    K : int\n",
    "        上位K件\n",
    "\n",
    "    Returns\n",
    "    -------\n",
    "    int\n",
    "        TP\n",
    "    int\n",
    "        FN\n",
    "    int\n",
    "        FP\n",
    "    int\n",
    "        TN\n",
    "    \"\"\"\n",
    "    【    問01    】\n",
    "    print('like = {}'.format(like))\n",
    "    【    問02    】\n",
    "    print('recommended@{} = {}'.format(K, recommended))\n",
    "    【    問03    】\n",
    "    print('TP@{} = {}'.format(K, TP))\n",
    "    【    問04    】\n",
    "    print('FN@{} = {}'.format(K, FN))\n",
    "    【    問05    】\n",
    "    print('FP@{} = {}'.format(K, FP))\n",
    "    【    問06    】\n",
    "    print('TN@{} = {}'.format(K, TN))\n",
    "    return TP, FN, FP, TN\n",
    "```\n",
    "\n",
    "### コード\n",
    "\n",
    "```python\n",
    "u = 0\n",
    "K = 3\n",
    "TP, FN, FP, TN = confusion_matrix(u, RA, K)\n",
    "print('混同行列 = \\n{}'.format(np.array([[TP, FN], [FP, TN]])))\n",
    "```\n",
    "\n",
    "### 結果\n",
    "\n",
    "```bash\n",
    "like = [ True  True False  True  True False False]\n",
    "recommended@3 = [ True False  True False  True False False]\n",
    "TP@3 = 2\n",
    "FN@3 = 2\n",
    "FP@3 = 1\n",
    "TN@3 = 2\n",
    "混同行列 = \n",
    "[[2 2]\n",
    " [1 2]]\n",
    "```\n",
    "\n",
    "このとき、次の問いに答えなさい。"
   ]
  },
  {
   "cell_type": "markdown",
   "metadata": {},
   "source": [
    "## 01 好きなアイテムか否かの判定\n",
    "\n",
    "`R`において、ユーザ`u`が評価済みのアイテム集合を対象に評価値が4以上の要素には`True`を、4未満の要素には`False`を入れたブール値配列を生成するコードを書きなさい。得られたブール値配列を`like`とすること。"
   ]
  },
  {
   "cell_type": "markdown",
   "metadata": {},
   "source": [
    "## 02 推薦されたアイテムか否かの判定\n",
    "\n",
    "推薦リスト`RS`において順位が`K`以内の要素には`True`を、それ以外の要素には`False`を入れたブール値配列を生成するコードを書きなさい。得られたブール値配列を`recommended`とすること。"
   ]
  },
  {
   "cell_type": "markdown",
   "metadata": {},
   "source": [
    "## 03 好きなアイテムが推薦された数（TP）\n",
    "\n",
    "上位$K$件の推薦リストにおいて、好きなアイテムが推薦された数$\\mathit{TP}@K$を取得するコードを書きなさい。得られた値を`TP`とすること。"
   ]
  },
  {
   "cell_type": "markdown",
   "metadata": {},
   "source": [
    "## 04 好きなアイテムが推薦されなかった数（FN）\n",
    "\n",
    "上位$K$件の推薦リストにおいて、好きなアイテムが推薦されなかった数$\\mathit{FN}@K$を取得するコードを書きなさい。得られた値を`FN`とすること。"
   ]
  },
  {
   "cell_type": "markdown",
   "metadata": {},
   "source": [
    "## 05 嫌いなアイテムが推薦された数（FP）\n",
    "\n",
    "上位$K$件の推薦リストにおいて、嫌いなアイテムが推薦された数$\\mathit{FP}@K$を取得するコードを書きなさい。得られた値を`FP`とすること。"
   ]
  },
  {
   "cell_type": "markdown",
   "metadata": {},
   "source": [
    "## 06 嫌いなアイテムが推薦されなかった数（TN）\n",
    "\n",
    "上位$K$件の推薦リストにおいて、嫌いなアイテムが推薦されなかった数$\\mathit{TN}@K$を取得するコードを書きなさい。得られた値を`TN`とすること。"
   ]
  },
  {
   "cell_type": "code",
   "execution_count": 3,
   "metadata": {},
   "outputs": [
    {
     "name": "stdout",
     "output_type": "stream",
     "text": [
      "like = [ True  True False  True  True False False]\n",
      "recommended@3 = [ True False  True False  True False False]\n",
      "TP@3 = 2\n",
      "FN@3 = 2\n",
      "FP@3 = 1\n",
      "TN@3 = 2\n",
      "混同行列 = \n",
      "[[2 2]\n",
      " [1 2]]\n"
     ]
    }
   ],
   "source": [
    "def confusion_matrix(u, RS, K):\n",
    "    \"\"\"\n",
    "    ユーザu向け推薦リストRSの上位K件における混同行列の各値を返す。\n",
    "\n",
    "    Parameters\n",
    "    ----------\n",
    "    u : int\n",
    "        ユーザuのID\n",
    "    RS : ndarray\n",
    "        推薦リストRS\n",
    "    K : int\n",
    "        上位K件\n",
    "\n",
    "    Returns\n",
    "    -------\n",
    "    int\n",
    "        TP\n",
    "    int\n",
    "        FN\n",
    "    int\n",
    "        FP\n",
    "    int\n",
    "        TN\n",
    "    \"\"\"\n",
    "    like = R[u, Iu[u]]>=4\n",
    "    print('like = {}'.format(like))\n",
    "    recommended = RS[u, Iu[u]]<=K\n",
    "    print('recommended@{} = {}'.format(K, recommended))\n",
    "    TP = np.sum(like & recommended)\n",
    "    print('TP@{} = {}'.format(K, TP))\n",
    "    FN = np.sum(like & ~recommended)\n",
    "    print('FN@{} = {}'.format(K, FN))\n",
    "    FP = np.sum(~like & recommended)\n",
    "    print('FP@{} = {}'.format(K, FP))\n",
    "    TN = np.sum(~like & ~recommended)\n",
    "    print('TN@{} = {}'.format(K, TN))\n",
    "    return TP, FN, FP, TN\n",
    "\n",
    "u = 0\n",
    "K = 3\n",
    "TP, FN, FP, TN = confusion_matrix(u, RA, K)\n",
    "print('混同行列 = \\n{}'.format(np.array([[TP, FN], [FP, TN]])))"
   ]
  },
  {
   "cell_type": "markdown",
   "metadata": {},
   "source": [
    "# 真陽性率と偽陽性率\n",
    "\n",
    "上位$K$件の推薦リストにおける真陽性率$\\mathit{TPR}@K$、偽陽性率$\\mathit{FPR}@K$は、それぞれ次式で定義される。\n",
    "\n",
    "$$\n",
    "\\mathit{TPR}@K = \\frac{\\mathit{TP}@K}{\\mathit{TP}@K + \\mathit{FN}@K}\n",
    "$$\n",
    "\n",
    "$$\n",
    "\\mathit{FPR}@K = \\frac{\\mathit{FP}@K}{\\mathit{FP}@K + \\mathit{TN}@K}\n",
    "$$\n",
    "\n",
    "### コード\n",
    "\n",
    "```python\n",
    "【    問07    】\n",
    "print('TPR@{} = {:.3f}'.format(K, TPR))\n",
    "【    問08    】\n",
    "print('FPR@{} = {:.3f}'.format(K, FPR))\n",
    "```\n",
    "\n",
    "### 結果\n",
    "\n",
    "```bash\n",
    "TPR@3 = 0.500\n",
    "FPR@3 = 0.333\n",
    "```\n",
    "\n",
    "このとき、次の問いに答えなさい。"
   ]
  },
  {
   "cell_type": "markdown",
   "metadata": {},
   "source": [
    "## 07 真陽性率（TPR）\n",
    "\n",
    "上位$K$件の推薦リストにおける真陽性率$\\mathit{TPR}@K$を求めるコードを書きなさい。得られた値を`TPR`とすること。"
   ]
  },
  {
   "cell_type": "markdown",
   "metadata": {},
   "source": [
    "## 08 偽陽性率（FPR）\n",
    "\n",
    "上位$K$件の推薦リストにおける偽陽性率$\\mathit{FPR}@K$を求めるコードを書きなさい。得られた値を`TPR`とすること。"
   ]
  },
  {
   "cell_type": "code",
   "execution_count": 4,
   "metadata": {},
   "outputs": [
    {
     "name": "stdout",
     "output_type": "stream",
     "text": [
      "TPR@3 = 0.500\n",
      "FPR@3 = 0.333\n"
     ]
    }
   ],
   "source": [
    "TPR = TP/(TP+FN)\n",
    "print('TPR@{} = {:.3f}'.format(K, TPR))\n",
    "FPR = FP/(FP+TN)\n",
    "print('FPR@{} = {:.3f}'.format(K, FPR))"
   ]
  },
  {
   "cell_type": "markdown",
   "metadata": {},
   "source": [
    "# 適合率と再現率\n",
    "\n",
    "上位$K$件の推薦リストにおける適合率$\\mathit{precision}@K$、再現率$\\mathit{recall}@K$は、それぞれ次式で定義される。\n",
    "\n",
    "$$\n",
    "\\mathit{precision}@K = \\frac{\\mathit{TP}@K}{\\mathit{TP}@K + \\mathit{FP}@K}\n",
    "$$\n",
    "\n",
    "$$\n",
    "\\mathit{recall}@K = \\frac{\\mathit{TP}@K}{\\mathit{TP}@K + \\mathit{FN}@K}\n",
    "$$\n",
    "\n",
    "また、上位$K$件の推薦リストにおけるF値$F_{1}@K$は、次式で定義される。\n",
    "\n",
    "$$\n",
    "F_{1}@K = \\frac{2 \\cdot \\mathit{precision}@K \\cdot \\mathit{recall}@K}{\\mathit{precision}@K + \\mathit{recall}@K}\n",
    "$$\n",
    "\n",
    "### コード\n",
    "\n",
    "```python\n",
    "【    問09    】\n",
    "print('precision@{} = {:.3f}'.format(K, precision))\n",
    "【    問10    】\n",
    "print('recall@{} = {:.3f}'.format(K, recall))\n",
    "【    問11    】\n",
    "print('F1@{} = {:.3f}'.format(K, F1))\n",
    "```\n",
    "\n",
    "### 結果\n",
    "\n",
    "```bash\n",
    "precision@3 = 0.667\n",
    "recall@3 = 0.500\n",
    "F1@3 = 0.571\n",
    "```\n",
    "\n",
    "このとき、次の問いに答えなさい。"
   ]
  },
  {
   "cell_type": "markdown",
   "metadata": {},
   "source": [
    "## 09 適合率\n",
    "\n",
    "上位$K$件の推薦リストにおける適合率$\\mathit{precision}@K$を求めるコードを書きなさい。得られた値を`precision`とすること。"
   ]
  },
  {
   "cell_type": "markdown",
   "metadata": {},
   "source": [
    "## 10 再現率\n",
    "\n",
    "上位$K$件の推薦リストにおける再現率$\\mathit{recall}@K$を求めるコードを書きなさい。得られた値を`recall`とすること。"
   ]
  },
  {
   "cell_type": "markdown",
   "metadata": {},
   "source": [
    "## 11 F値\n",
    "\n",
    "上位$K$件の推薦リストにおけるF値$F_{1}@K$を求めるコードを書きなさい。得られた値を`F1`とすること。"
   ]
  },
  {
   "cell_type": "code",
   "execution_count": 5,
   "metadata": {},
   "outputs": [
    {
     "name": "stdout",
     "output_type": "stream",
     "text": [
      "precision@3 = 0.667\n",
      "recall@3 = 0.500\n",
      "F1@3 = 0.571\n"
     ]
    }
   ],
   "source": [
    "precision = TP/(TP+FP)\n",
    "print('precision@{} = {:.3f}'.format(K, precision))\n",
    "recall = TPR\n",
    "print('recall@{} = {:.3f}'.format(K, recall))\n",
    "F1 = 2*precision*recall/(precision+recall)\n",
    "print('F1@{} = {:.3f}'.format(K, F1))"
   ]
  }
 ],
 "metadata": {
  "kernelspec": {
   "display_name": ".venv",
   "language": "python",
   "name": "python3"
  },
  "language_info": {
   "codemirror_mode": {
    "name": "ipython",
    "version": 3
   },
   "file_extension": ".py",
   "mimetype": "text/x-python",
   "name": "python",
   "nbconvert_exporter": "python",
   "pygments_lexer": "ipython3",
   "version": "3.11.3"
  }
 },
 "nbformat": 4,
 "nbformat_minor": 2
}
