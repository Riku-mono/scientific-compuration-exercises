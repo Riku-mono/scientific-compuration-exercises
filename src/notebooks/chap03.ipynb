{
 "cells": [
  {
   "cell_type": "markdown",
   "metadata": {},
   "source": [
    "# 第3章 類似度に基づく推薦\n",
    "\n",
    "https://recsyslab.github.io/recsys-python/ja/chap03.html"
   ]
  },
  {
   "cell_type": "markdown",
   "metadata": {},
   "source": [
    "## 準備\n",
    "\n",
    "次のコードを書きなさい。"
   ]
  },
  {
   "cell_type": "code",
   "execution_count": 1,
   "metadata": {},
   "outputs": [],
   "source": [
    "import pprint\n",
    "import numpy as np\n",
    "\n",
    "# 上位K件\n",
    "TOP_K = 3\n",
    "\n",
    "Du = np.array([\n",
    "  [5, 3, +1],\n",
    "  [6, 2, +1],\n",
    "  [4, 1, +1],\n",
    "  [8, 5, -1],\n",
    "  [2, 4, -1],\n",
    "  [3, 6, -1],\n",
    "  [7, 6, -1],\n",
    "  [4, 2, np.nan],\n",
    "  [5, 1, np.nan],\n",
    "  [8, 6, np.nan],\n",
    "  [3, 4, np.nan],\n",
    "  [4, 7, np.nan],\n",
    "  [4, 4, np.nan],\n",
    "])\n",
    "I = np.arange(Du.shape[0])\n",
    "x = Du[:,:-1]\n",
    "ru = Du[:,-1]\n",
    "\n",
    "Iu = I[~np.isnan(ru)]\n",
    "Iup = I[ru==+1]\n",
    "Iun = I[ru==-1]\n",
    "Iu_not = np.setdiff1d(I, Iu)"
   ]
  },
  {
   "cell_type": "markdown",
   "metadata": {},
   "source": [
    "# ユーザプロファイル\n",
    "\n",
    "ユーザ$u$のユーザプロファイル$\\boldsymbol{p}_{u}$は次式で求められる。\n",
    "\n",
    "$$\n",
    "\\boldsymbol{p}_{u} = \\frac{1}{\\mid I_{u}^{+} \\mid} \\sum_{i \\in I_{u}^{+}} \\boldsymbol{x}_{i}\n",
    "$$\n",
    "\n",
    "ここで、$I_{u}^{+}$は対象ユーザ$u$が「好き」と評価したアイテム集合であり、$\\boldsymbol{x}_{i}$はアイテム$i$の特徴ベクトルである。\n"
   ]
  },
  {
   "cell_type": "markdown",
   "metadata": {},
   "source": [
    "## 01 好きなアイテム集合に含まれるアイテムの特徴ベクトルの集合\n",
    "\n",
    "`x`から$I_{u}^{+}$に含まれるアイテムの特徴ベクトルの集合を`ndarray`として生成するコードを書きなさい。"
   ]
  },
  {
   "cell_type": "code",
   "execution_count": 2,
   "metadata": {},
   "outputs": [
    {
     "name": "stdout",
     "output_type": "stream",
     "text": [
      "x[Iu+] = \n",
      "[[5. 3.]\n",
      " [6. 2.]\n",
      " [4. 1.]]\n"
     ]
    }
   ],
   "source": [
    "print('x[Iu+] = \\n{}'.format(x[Iup]))"
   ]
  },
  {
   "cell_type": "markdown",
   "metadata": {},
   "source": [
    "## 02 特徴ベクトルの総和\n",
    "次式により、$I_{u}^{+}$に含まれるアイテムの特徴ベクトルの総和を求めるコードを書きなさい。\n",
    "\n",
    "$$\n",
    "\\sum_{i \\in I_{u}^{+}} \\boldsymbol{x}_{i}\n",
    "$$"
   ]
  },
  {
   "cell_type": "code",
   "execution_count": 3,
   "metadata": {},
   "outputs": [
    {
     "name": "stdout",
     "output_type": "stream",
     "text": [
      "sum(x[Iu+]) = [15.  6.]\n"
     ]
    }
   ],
   "source": [
    "print('sum(x[Iu+]) = {}'.format(np.sum(x[Iup], axis=0)))"
   ]
  },
  {
   "cell_type": "markdown",
   "metadata": {},
   "source": [
    "## 03 ユーザプロファイル\n",
    "\n",
    "ユーザ$u$のユーザプロファイル$\\boldsymbol{p}_{u}$を`ndarray`として求めるコードを書きなさい。得られた`ndarray`を`pu`とすること。"
   ]
  },
  {
   "cell_type": "code",
   "execution_count": 4,
   "metadata": {},
   "outputs": [
    {
     "name": "stdout",
     "output_type": "stream",
     "text": [
      "pu = [5. 2.]\n"
     ]
    }
   ],
   "source": [
    "pu = np.sum(x[Iup], axis=0) / len(Iup)\n",
    "print('pu = {}'.format(pu))"
   ]
  },
  {
   "cell_type": "markdown",
   "metadata": {},
   "source": [
    "# コサイン類似度\n",
    "\n",
    "ユーザプロファイル$\\boldsymbol{p}_{u}$とアイテム$i$の特徴ベクトル$\\boldsymbol{x}_{i}$のコサイン類似度は次式で定義される。\n",
    "\n",
    "$$\n",
    "\\mathrm{cos}(\\boldsymbol{p}_{u}, \\boldsymbol{x}_{i}) = \\frac{\\boldsymbol{p}_{u} \\cdot \\boldsymbol{x}_{i}}{\\| \\boldsymbol{p}_{u} \\| \\| \\boldsymbol{x}_{i} \\|}\n",
    "$$\n",
    "\n",
    "ここで、$\\boldsymbol{p}_{u} \\cdot \\boldsymbol{x}_{i}$は二つのベクトル$\\boldsymbol{p}_{u}$と$\\boldsymbol{x}_{i}$の内積であり、次式のように表される。\n",
    "\n",
    "$$\n",
    "\\boldsymbol{p}_{u} \\cdot \\boldsymbol{x}_{i} = \\sum_{k=1}^{d} p_{u,k} x_{i,k}\n",
    "$$\n",
    "\n",
    "$d$はベクトルの次元数である。また、$\\| \\boldsymbol{p}_{u} \\|$はベクトル$\\boldsymbol{p}_{u}$のノルム（大きさ）であり、次式のように表される。\n",
    "\n",
    "$$\n",
    "\\| \\boldsymbol{p}_{u} \\| = \\sqrt{\\boldsymbol{p}_{u} \\cdot \\boldsymbol{p}_{u}} = \\sqrt{\\sum_{k=1}^{d} p_{u,k}^{2}}\n",
    "$$\n",
    "\n",
    "このコサイン類似度関数を次のコードのとおり定義する。\n",
    "\n",
    "### 関数\n",
    "\n",
    "```python\n",
    "def cos(pu, xi):\n",
    "    \"\"\"\n",
    "    コサイン類似度関数：ユーザプロファイルpuとアイテムiの特徴ベクトルxiのコサイン類似度を返す。\n",
    "\n",
    "    Parameters\n",
    "    ----------\n",
    "    pu : ndarray\n",
    "        ユーザuのユーザプロファイル\n",
    "    xi : ndarray\n",
    "        アイテムiの特徴ベクトル\n",
    "\n",
    "    Returns\n",
    "    -------\n",
    "    float\n",
    "        コサイン類似度\n",
    "    \"\"\"\n",
    "    【    問04    】\n",
    "    print('num = {}'.format(num))\n",
    "    【    問05    】\n",
    "    print('den_u = {:.3f}'.format(den_u))\n",
    "    【    問06    】\n",
    "    print('den_i = {:.3f}'.format(den_i))\n",
    "    \n",
    "    cosine = num / (den_u * den_i)\n",
    "    return cosine\n",
    "```\n",
    "\n",
    "### コード\n",
    "\n",
    "```python\n",
    "u = 0\n",
    "i = 7\n",
    "print('cos(p{}, x{}) = {:.3f}'.format(u, i, cos(pu, x[i])))\n",
    "u = 0\n",
    "i = 11\n",
    "print('cos(p{}, x{}) = {:.3f}'.format(u, i, cos(pu, x[i])))\n",
    "```\n",
    "\n",
    "### 結果\n",
    "\n",
    "```bash\n",
    "num = 24.0\n",
    "den_u = 5.385\n",
    "den_i = 4.472\n",
    "cos(p0, x7) = 0.997\n",
    "num = 34.0\n",
    "den_u = 5.385\n",
    "den_i = 8.062\n",
    "cos(p0, x11) = 0.783\n",
    "```\n",
    "\n",
    "このとき、関数の仕様を満たすように、次の問いに答えなさい。\n"
   ]
  },
  {
   "cell_type": "markdown",
   "metadata": {},
   "source": [
    "## 04 ベクトルの内積\n",
    "\n",
    "内積$\\boldsymbol{p}_{u} \\cdot \\boldsymbol{x}_{i}$を求めるコードを書きなさい。得られた値を`num`とすること。"
   ]
  },
  {
   "cell_type": "markdown",
   "metadata": {},
   "source": [
    "## 05 ユーザプロファイルのノルム\n",
    "\n",
    "$\\boldsymbol{p}_{u}$のノルム$\\| \\boldsymbol{p}_{u} \\|$を求めるコードを書きなさい。得られた値を`den_u`とすること。"
   ]
  },
  {
   "cell_type": "markdown",
   "metadata": {},
   "source": [
    "## 06 特徴ベクトルのノルム\n",
    "\n",
    "$\\boldsymbol{x}_{i}$のノルム$\\| \\boldsymbol{x}_{i} \\|$を求めるコードを書きなさい。得られた値を`den_i`とすること。"
   ]
  },
  {
   "cell_type": "code",
   "execution_count": 5,
   "metadata": {},
   "outputs": [
    {
     "name": "stdout",
     "output_type": "stream",
     "text": [
      "num = 24.0\n",
      "den_u = 5.385\n",
      "den_i = 4.472\n",
      "cos(p0, x7) = 0.997\n",
      "num = 34.0\n",
      "den_u = 5.385\n",
      "den_i = 8.062\n",
      "cos(p0, x11) = 0.783\n"
     ]
    }
   ],
   "source": [
    "def cos(pu, xi):\n",
    "    \"\"\"\n",
    "    コサイン類似度関数：ユーザプロファイルpuとアイテムiの特徴ベクトルxiのコサイン類似度を返す。\n",
    "\n",
    "    Parameters\n",
    "    ----------\n",
    "    pu : ndarray\n",
    "        ユーザuのユーザプロファイル\n",
    "    xi : ndarray\n",
    "        アイテムiの特徴ベクトル\n",
    "\n",
    "    Returns\n",
    "    -------\n",
    "    float\n",
    "        コサイン類似度\n",
    "    \"\"\"\n",
    "    num = pu @ xi\n",
    "    # num = np.dot(pu, xi)\n",
    "    # num = np.sum([pu[i] * xi[i] for i in range(pu.size)])\n",
    "    print('num = {}'.format(num))\n",
    "    den_u = np.linalg.norm(pu)\n",
    "    # den_u = np.sqrt(pu @ pu)\n",
    "    print('den_u = {:.3f}'.format(den_u))\n",
    "    den_i = np.linalg.norm(xi)\n",
    "    # den_i = np.sqrt(xi @ xi)\n",
    "    print('den_i = {:.3f}'.format(den_i))\n",
    "    \n",
    "    cosine = num / (den_u * den_i)\n",
    "    return cosine\n",
    "\n",
    "u = 0\n",
    "i = 7\n",
    "print('cos(p{}, x{}) = {:.3f}'.format(u, i, cos(pu, x[i])))\n",
    "u = 0\n",
    "i = 11\n",
    "print('cos(p{}, x{}) = {:.3f}'.format(u, i, cos(pu, x[i])))"
   ]
  },
  {
   "cell_type": "markdown",
   "metadata": {},
   "source": [
    "# 推薦\n",
    "\n",
    "スコア関数$\\mathrm{score}(u, i)$はユーザ$u$がアイテム$i$を好む程度をスコアとして返す関数であり、次式のように定義される。\n",
    "\n",
    "$$\n",
    "\\mathrm{score}(u, i) = \\mathrm{cos}(\\boldsymbol{p}_{u}, \\boldsymbol{x}_{i})\n",
    "$$\n",
    "\n",
    "このスコア関数を次のコードのとおり定義する。\n",
    "\n",
    "### 関数\n",
    "\n",
    "```python\n",
    "def score(u, i):\n",
    "    \"\"\"\n",
    "    スコア関数：ユーザuのアイテムiに対するスコアを返す。\n",
    "\n",
    "    Parameters\n",
    "    ----------\n",
    "    u : int\n",
    "        ユーザuのID（ダミー）\n",
    "    i : int\n",
    "        アイテムiのID\n",
    "\n",
    "    Returns\n",
    "    -------\n",
    "    float\n",
    "        スコア\n",
    "    \"\"\"\n",
    "    return cos(pu, x[i])\n",
    "```\n",
    "\n",
    "順序付け関数$\\mathrm{order}(u, I)$は、アイテム集合$I$が与えられたとき、ユーザ$u$向けの推薦リストを返す関数である。ここでは、スコア上位$K$件のアイテム集合を推薦リストとして返すものとする。この順序付け関数を次のコードのとおり定義する。\n",
    "\n",
    "```python\n",
    "def order(u, I):\n",
    "    \"\"\"\n",
    "    順序付け関数：アイテム集合Iにおいて、ユーザu向けの推薦リストを返す。\n",
    "\n",
    "    Parameters\n",
    "    ----------\n",
    "    u : int\n",
    "        ユーザuのID\n",
    "    I : ndarray\n",
    "        アイテム集合\n",
    "\n",
    "    Returns\n",
    "    -------\n",
    "    list\n",
    "        タプル(アイテムID: スコア)を要素にした推薦リスト\n",
    "    \"\"\"\n",
    "    【    問07    】\n",
    "    print('scores = ')\n",
    "    pprint.pprint(scores)\n",
    "    【    問08    】\n",
    "    return rec_list\n",
    "```\n",
    "\n",
    "### コード\n",
    "\n",
    "```python\n",
    "u = 0\n",
    "rec_list = order(u, Iu_not)\n",
    "print('rec_list = ')\n",
    "for i, scr in rec_list:\n",
    "    print('{}: {:.3f}'.format(i, scr))\n",
    "```\n",
    "\n",
    "### 結果\n",
    "\n",
    "```bash\n",
    "scores = \n",
    "{7: 0.9965457582448796,\n",
    " 8: 0.9832820049844603,\n",
    " 9: 0.9656157585206697,\n",
    " 10: 0.8541985556144386,\n",
    " 11: 0.783110847498294,\n",
    " 12: 0.9191450300180578}\n",
    "rec_list = \n",
    "7: 0.997\n",
    "8: 0.983\n",
    "9: 0.966\n",
    "```\n",
    "\n",
    "このとき、関数の仕様を満たすように、次の問いに答えなさい。"
   ]
  },
  {
   "cell_type": "markdown",
   "metadata": {},
   "source": [
    "## 07 各アイテムに対するスコア\n",
    "\n",
    "引数に渡されたアイテム集合$I$について、ユーザ$u$の各アイテム$i \\in I$に対するスコア$\\mathrm{score}(u, i)$を求め、`(i: score(u, i))`をペアとした辞書を生成するコードを書きなさい。生成した辞書を`scores`とすること。"
   ]
  },
  {
   "cell_type": "markdown",
   "metadata": {},
   "source": [
    "## 08 推薦リスト\n",
    "\n",
    "`scores`内の`(i: score(u, i))`のペアを`score(u, i)`の降順にソートし、上位`TOP_K`件のリストを生成するコードを書きなさい。得られたリストを辞書に変換したものを`rec_list`とすること。"
   ]
  },
  {
   "cell_type": "code",
   "execution_count": 7,
   "metadata": {},
   "outputs": [
    {
     "name": "stdout",
     "output_type": "stream",
     "text": [
      "num = 24.0\n",
      "den_u = 5.385\n",
      "den_i = 4.472\n",
      "num = 27.0\n",
      "den_u = 5.385\n",
      "den_i = 5.099\n",
      "num = 52.0\n",
      "den_u = 5.385\n",
      "den_i = 10.000\n",
      "num = 23.0\n",
      "den_u = 5.385\n",
      "den_i = 5.000\n",
      "num = 34.0\n",
      "den_u = 5.385\n",
      "den_i = 8.062\n",
      "num = 28.0\n",
      "den_u = 5.385\n",
      "den_i = 5.657\n",
      "scores = \n",
      "{7: 0.9965457582448796,\n",
      " 8: 0.9832820049844603,\n",
      " 9: 0.9656157585206697,\n",
      " 10: 0.8541985556144386,\n",
      " 11: 0.783110847498294,\n",
      " 12: 0.9191450300180578}\n",
      "rec_list = \n",
      "7: 0.997\n",
      "8: 0.983\n",
      "9: 0.966\n"
     ]
    }
   ],
   "source": [
    "def score(u, i):\n",
    "    \"\"\"\n",
    "    スコア関数：ユーザuのアイテムiに対するスコアを返す。\n",
    "\n",
    "    Parameters\n",
    "    ----------\n",
    "    u : int\n",
    "        ユーザuのID（ダミー）\n",
    "    i : int\n",
    "        アイテムiのID\n",
    "\n",
    "    Returns\n",
    "    -------\n",
    "    float\n",
    "        スコア\n",
    "    \"\"\"\n",
    "    return cos(pu, x[i])\n",
    "\n",
    "def order(u, I):\n",
    "    \"\"\"\n",
    "    順序付け関数：アイテム集合Iにおいて、ユーザu向けの推薦リストを返す。\n",
    "\n",
    "    Parameters\n",
    "    ----------\n",
    "    u : int\n",
    "        ユーザuのID\n",
    "    I : ndarray\n",
    "        アイテム集合\n",
    "\n",
    "    Returns\n",
    "    -------\n",
    "    list\n",
    "        タプル(アイテムID: スコア)を要素にした推薦リスト\n",
    "    \"\"\"\n",
    "    scores = {i: score(u, i) for i in I}\n",
    "    print('scores = ')\n",
    "    pprint.pprint(scores)\n",
    "    rec_list = sorted(scores.items(), key=lambda x: x[1], reverse=True)[:TOP_K]\n",
    "    return rec_list\n",
    "\n",
    "u = 0\n",
    "rec_list = order(u, Iu_not)\n",
    "print('rec_list = ')\n",
    "for i, scr in rec_list:\n",
    "    print('{}: {:.3f}'.format(i, scr))"
   ]
  }
 ],
 "metadata": {
  "kernelspec": {
   "display_name": ".venv",
   "language": "python",
   "name": "python3"
  },
  "language_info": {
   "codemirror_mode": {
    "name": "ipython",
    "version": 3
   },
   "file_extension": ".py",
   "mimetype": "text/x-python",
   "name": "python",
   "nbconvert_exporter": "python",
   "pygments_lexer": "ipython3",
   "version": "3.11.3"
  }
 },
 "nbformat": 4,
 "nbformat_minor": 2
}
