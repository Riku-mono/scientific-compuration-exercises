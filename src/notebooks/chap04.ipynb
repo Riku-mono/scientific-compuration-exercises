{
 "cells": [
  {
   "cell_type": "markdown",
   "metadata": {},
   "source": [
    "# 第4章 k近傍法\n",
    "\n",
    "https://recsyslab.github.io/recsys-python/ja/chap04.html"
   ]
  },
  {
   "cell_type": "markdown",
   "metadata": {},
   "source": [
    "## 準備\n",
    "\n",
    "次のコードを書きなさい。"
   ]
  },
  {
   "cell_type": "code",
   "execution_count": 10,
   "metadata": {},
   "outputs": [],
   "source": [
    "import pprint\n",
    "import numpy as np\n",
    "np.set_printoptions(precision=3)\n",
    "\n",
    "# 上位K件\n",
    "TOP_K = 3\n",
    "# 近傍アイテム数\n",
    "K_ITEMS = 3\n",
    "# しきい値\n",
    "THETA = 0\n",
    "\n",
    "Du = np.array([\n",
    "  [5, 3, +1],\n",
    "  [6, 2, +1],\n",
    "  [4, 1, +1],\n",
    "  [8, 5, -1],\n",
    "  [2, 4, -1],\n",
    "  [3, 6, -1],\n",
    "  [7, 6, -1],\n",
    "  [4, 2, np.nan],\n",
    "  [5, 1, np.nan],\n",
    "  [8, 6, np.nan],\n",
    "  [3, 4, np.nan],\n",
    "  [4, 7, np.nan],\n",
    "  [4, 4, np.nan],\n",
    "])\n",
    "I = np.arange(Du.shape[0])\n",
    "x = Du[:,:-1]\n",
    "ru = Du[:,-1]\n",
    "\n",
    "Iu = I[~np.isnan(ru)]\n",
    "Iup = I[ru==+1]\n",
    "Iun = I[ru==-1]\n",
    "Iu_not = np.setdiff1d(I, Iu)"
   ]
  },
  {
   "cell_type": "markdown",
   "metadata": {},
   "source": [
    "# 距離\n",
    "\n",
    "アイテム$i$の特徴ベクトル$\\boldsymbol{x}_{i}$とアイテム$j$の特徴ベクトル$\\boldsymbol{x}_{j}$のユークリッド距離は次式で定義される。\n",
    "\n",
    "$$\n",
    "\\mathrm{dist}(\\boldsymbol{x}_{i}, \\boldsymbol{x}_{j}) = \\sqrt{\\sum_{k=1}^{d} (x_{j,k} - x_{i,k})^{2}}\n",
    "$$\n",
    "\n",
    "ここで、$d$はベクトルの次元数である。\n",
    "\n",
    "この距離関数を次のコードのとおり定義する。\n",
    "\n",
    "### 関数\n",
    "\n",
    "```python\n",
    "def dist(xi, xj):\n",
    "    \"\"\"\n",
    "    距離関数：アイテムiの特徴ベクトルxiとアイテムjの特徴ベクトルxjのユークリッド距離を返す。\n",
    "\n",
    "    Parameters\n",
    "    ----------\n",
    "    xi : ndarray\n",
    "        アイテムiの特徴ベクトル\n",
    "    xj : ndarray\n",
    "        アイテムjの特徴ベクトル\n",
    "\n",
    "    Returns\n",
    "    -------\n",
    "    float\n",
    "        ユークリッド距離\n",
    "    \"\"\"\n",
    "    【    問01    】\n",
    "    return distance\n",
    "```\n",
    "\n",
    "### コード\n",
    "\n",
    "```python\n",
    "i = 7\n",
    "j = 2\n",
    "print('dist(x{}, x{}) = {:.3f}'.format(i, j, dist(x[i], x[j])))\n",
    "i = 7\n",
    "j = 3\n",
    "print('dist(x{}, x{}) = {:.3f}'.format(i, j, dist(x[i], x[j])))\n",
    "```\n",
    "\n",
    "### 結果\n",
    "\n",
    "```bash\n",
    "dist(x7, x2) = 1.000\n",
    "dist(x7, x3) = 5.000\n",
    "```\n",
    "\n",
    "このとき、関数の仕様を満たすように、次の問いに答えなさい。\n"
   ]
  },
  {
   "cell_type": "markdown",
   "metadata": {},
   "source": [
    "## 01 ユークリッド距離\n",
    "\n",
    "$\\boldsymbol{x}_{i}$と$\\boldsymbol{x}_{j}$のユークリッド距離$\\mathrm{dist}(\\boldsymbol{x}_{i}, \\boldsymbol{x}_{j})$を求めるコードを書きなさい。得られた値を`distance`とすること。"
   ]
  },
  {
   "cell_type": "code",
   "execution_count": 11,
   "metadata": {},
   "outputs": [
    {
     "name": "stdout",
     "output_type": "stream",
     "text": [
      "dist(x7, x2) = 1.000\n",
      "dist(x7, x3) = 5.000\n"
     ]
    }
   ],
   "source": [
    "def dist(xi, xj):\n",
    "    \"\"\"\n",
    "    距離関数：アイテムiの特徴ベクトルxiとアイテムjの特徴ベクトルxjのユークリッド距離を返す。\n",
    "\n",
    "    Parameters\n",
    "    ----------\n",
    "    xi : ndarray\n",
    "        アイテムiの特徴ベクトル\n",
    "    xj : ndarray\n",
    "        アイテムjの特徴ベクトル\n",
    "\n",
    "    Returns\n",
    "    -------\n",
    "    float\n",
    "        ユークリッド距離\n",
    "    \"\"\"\n",
    "    distance = np.sqrt(np.sum((xi - xj)**2))\n",
    "    return distance\n",
    "\n",
    "i = 7\n",
    "j = 2\n",
    "print('dist(x{}, x{}) = {:.3f}'.format(i, j, dist(x[i], x[j])))\n",
    "i = 7\n",
    "j = 3\n",
    "print('dist(x{}, x{}) = {:.3f}'.format(i, j, dist(x[i], x[j])))"
   ]
  },
  {
   "cell_type": "markdown",
   "metadata": {},
   "source": [
    "# 近傍アイテム\n",
    "\n",
    "ユーザ$u$の未評価アイテム集合$\\overline{I}_{u}$の各対象アイテム$i \\in \\overline{I}_{u}$について、ユーザ$u$の評価済みアイテム集合$I_{u}$の中から近傍アイテム集合$I_{i}$を見つける。ここでは、アイテム$i$とのユークリッド距離が最も近傍する$k$個のアイテムをアイテム$i$の近傍アイテム集合$I_{i}$とする。\n"
   ]
  },
  {
   "cell_type": "markdown",
   "metadata": {},
   "source": [
    "## 02 アイテム-アイテム距離行列\n",
    "\n",
    "各対象アイテム$i \\in \\overline{I}_{u}$と各アイテム$j \\in I_{u}$のユークリッド距離$\\mathrm{dist}(\\boldsymbol{x}_{i}, \\boldsymbol{x}_{j})$を要素としたアイテム-アイテム距離行列を`ndarray`として生成するコードを書きなさい。生成した`ndarray`を`D`とすること。"
   ]
  },
  {
   "cell_type": "code",
   "execution_count": 12,
   "metadata": {},
   "outputs": [
    {
     "name": "stdout",
     "output_type": "stream",
     "text": [
      "[0 1 2 3 4 5 6] [3 4 5 6]\n",
      "D = \n",
      "[[1.414 2.    1.    5.    2.828 4.123 5.   ]\n",
      " [2.    1.414 1.    5.    4.243 5.385 5.385]\n",
      " [4.243 4.472 6.403 1.    6.325 5.    1.   ]\n",
      " [2.236 3.606 3.162 5.099 1.    2.    4.472]\n",
      " [4.123 5.385 6.    4.472 3.606 1.414 3.162]\n",
      " [1.414 2.828 3.    4.123 2.    2.236 3.606]]\n"
     ]
    }
   ],
   "source": [
    "D = np.zeros((I.size,I.size))\n",
    "print(Iu,Iun)\n",
    "for i in I:\n",
    "    for j in I:\n",
    "        D[i,j] = dist(x[i], x[j])\n",
    "\n",
    "print('D = \\n{}'.format(D[np.ix_(Iu_not,Iu)]))"
   ]
  },
  {
   "cell_type": "markdown",
   "metadata": {},
   "source": [
    "## 03 距離の昇順に並べ替えたインデックスの配列\n",
    "\n",
    "各アイテム$i \\in I$について、評価済みアイテム集合$I_{u}$を対象に距離の昇順に並べ替えたインデックスの配列を`ndarray`としてまとめて生成するコードを書きなさい。生成した`ndarray`を`Ii`とすること。"
   ]
  },
  {
   "cell_type": "code",
   "execution_count": 13,
   "metadata": {},
   "outputs": [
    {
     "name": "stdout",
     "output_type": "stream",
     "text": [
      "Ii = \n",
      "[[0 1 2 4 3 5 6]\n",
      " [1 0 2 3 6 4 5]\n",
      " [2 0 1 4 5 3 6]\n",
      " [3 6 1 0 5 2 4]\n",
      " [4 5 0 2 1 6 3]\n",
      " [5 4 0 6 1 2 3]\n",
      " [6 3 0 5 1 4 2]\n",
      " [2 0 1 4 5 3 6]\n",
      " [2 1 0 4 3 5 6]\n",
      " [3 6 0 1 5 4 2]\n",
      " [4 5 0 2 1 6 3]\n",
      " [5 6 4 0 3 1 2]\n",
      " [0 4 5 1 2 6 3]]\n"
     ]
    }
   ],
   "source": [
    "Ii = Iu[np.argsort(D[:,Iu])]\n",
    "print('Ii = \\n{}'.format(Ii))"
   ]
  },
  {
   "cell_type": "markdown",
   "metadata": {},
   "source": [
    "## 04 近傍k件のアイテムのインデックス配列\n",
    "\n",
    "`Ii`から`K_ITEMS`列目までを残したインデックスの配列を`ndarray`としてまとめて生成するコードを書きなさい。生成した`ndarray`を`Ii`とすること。"
   ]
  },
  {
   "cell_type": "code",
   "execution_count": 14,
   "metadata": {},
   "outputs": [
    {
     "name": "stdout",
     "output_type": "stream",
     "text": [
      "Ii = \n",
      "[[0 1 2]\n",
      " [1 0 2]\n",
      " [2 0 1]\n",
      " [3 6 1]\n",
      " [4 5 0]\n",
      " [5 4 0]\n",
      " [6 3 0]\n",
      " [2 0 1]\n",
      " [2 1 0]\n",
      " [3 6 0]\n",
      " [4 5 0]\n",
      " [5 6 4]\n",
      " [0 4 5]]\n"
     ]
    }
   ],
   "source": [
    "Ii = Ii[:,:K_ITEMS] \n",
    "print('Ii = \\n{}'.format(Ii))"
   ]
  },
  {
   "cell_type": "markdown",
   "metadata": {},
   "source": [
    "## 05 各対象アイテムの近傍アイテム集合\n",
    "\n",
    "`Ii`から未評価アイテム集合$\\overline{I}_{u}$の各対象アイテム$i \\in \\overline{I}_{u}$について、`(i: Ii[i])`のペアを要素とした辞書を生成するコードを書きなさい。生成した辞書を`Ii`とすること。"
   ]
  },
  {
   "cell_type": "code",
   "execution_count": 15,
   "metadata": {},
   "outputs": [
    {
     "name": "stdout",
     "output_type": "stream",
     "text": [
      "Ii = \n",
      "{7: array([2, 0, 1]),\n",
      " 8: array([2, 1, 0]),\n",
      " 9: array([3, 6, 0]),\n",
      " 10: array([4, 5, 0]),\n",
      " 11: array([5, 6, 4]),\n",
      " 12: array([0, 4, 5])}\n"
     ]
    }
   ],
   "source": [
    "Ii = {i: Ii[i] for i in Iu_not}\n",
    "print('Ii = ')\n",
    "pprint.pprint(Ii)"
   ]
  },
  {
   "cell_type": "markdown",
   "metadata": {},
   "source": [
    "# 嗜好予測（多数決方式）\n",
    "\n",
    "多数決方式によるユーザ$u$のアイテム$i$への予測評価値$\\hat{r}_{u,i}$は次式により定義される。\n",
    "\n",
    "$$\n",
    "\\hat{r}_{u,i} = \n",
    " \\begin{cases}\n",
    "  +1 & (\\mid I_{i}^{+} \\mid > \\mid I_{i}^{-} \\mid) \\\\\n",
    "  -1 & (\\mid I_{i}^{+} \\mid < \\mid I_{i}^{-} \\mid) \\\\\n",
    "  0 & (\\mid I_{i}^{+} \\mid = \\mid I_{i}^{-} \\mid)\n",
    " \\end{cases}\n",
    "$$\n",
    "\n",
    "ここで、$I_{i}^{+}, I_{i}^{-}$はアイテム$i$の近傍アイテム集合$I_{i}$のうち、ユーザ$u$がそれぞれ「好き」、「嫌い」と評価したアイテム集合を表す。この予測関数を次のコードのとおり定義する。\n",
    "\n",
    "### 関数\n",
    "\n",
    "```python\n",
    "def predict1(u, i):\n",
    "    \"\"\"\n",
    "    予測関数（多数決方式）：多数決方式によりユーザuのアイテムiに対する予測評価値を返す。\n",
    "\n",
    "    Parameters\n",
    "    ----------\n",
    "    u : int\n",
    "        ユーザuのID（ダミー）\n",
    "    i : int\n",
    "        アイテムiのID\n",
    "\n",
    "    Returns\n",
    "    -------\n",
    "    float\n",
    "        予測評価値\n",
    "    \"\"\"\n",
    "    【    問06    】\n",
    "    print('I{}+ = {}'.format(i, Iip))\n",
    "    【    問07    】\n",
    "    print('I{}- = {}'.format(i, Iin))\n",
    "    \n",
    "    【    問08    】\n",
    "    return rui\n",
    "```\n",
    "\n",
    "### コード\n",
    "\n",
    "```python\n",
    "u = 0\n",
    "i = 7\n",
    "print('predict1({}, {}) = {:.3f}'.format(u, i, predict1(u, i)))\n",
    "u = 0\n",
    "i = 9\n",
    "print('predict1({}, {}) = {:.3f}'.format(u, i, predict1(u, i)))\n",
    "```\n",
    "\n",
    "### 結果\n",
    "\n",
    "```bash\n",
    "I7+ = [2 0 1]\n",
    "I7- = []\n",
    "predict1(0, 7) = 1.000\n",
    "I9+ = [0]\n",
    "I9- = [3 6]\n",
    "predict1(0, 9) = -1.000\n",
    "```\n",
    "\n",
    "このとき、関数の仕様を満たすように、次の問いに答えなさい。"
   ]
  },
  {
   "cell_type": "markdown",
   "metadata": {},
   "source": [
    "## 06 近傍アイテム集合のうち「好き」と評価したアイテム集合\n",
    "\n",
    "アイテム$i$の近傍アイテム集合$I_{i}$のうち、ユーザ$u$が「好き」と評価したアイテム集合$I_{i}^{+}$を`ndarray`として生成するコードを書きなさい。得られた`ndarray`を`Iip`とすること。"
   ]
  },
  {
   "cell_type": "markdown",
   "metadata": {},
   "source": [
    "## 07 近傍アイテム集合のうち「嫌い」と評価したアイテム集合\n",
    "\n",
    "アイテム$i$の近傍アイテム集合$I_{i}$のうち、ユーザ$u$が「嫌い」と評価したアイテム集合$I_{i}^{-}$を`ndarray`として生成するコードを書きなさい。得られた`ndarray`を`Iin`とすること。"
   ]
  },
  {
   "cell_type": "markdown",
   "metadata": {},
   "source": [
    "## 08 多数決方式による予測評価値\n",
    "\n",
    "多数決方式によるユーザ$u$のアイテム$i$への予測評価値$\\hat{r}_{u,i}$を求めるコードを書きなさい。得られた値を`rui`とすること。"
   ]
  },
  {
   "cell_type": "code",
   "execution_count": 16,
   "metadata": {},
   "outputs": [
    {
     "name": "stdout",
     "output_type": "stream",
     "text": [
      "I7+ = [2 0 1]\n",
      "I7- = []\n",
      "predict1(0, 7) = 1.000\n",
      "I9+ = [0]\n",
      "I9- = [3 6]\n",
      "predict1(0, 9) = -1.000\n"
     ]
    }
   ],
   "source": [
    "def predict1(u, i):\n",
    "    \"\"\"\n",
    "    予測関数（多数決方式）：多数決方式によりユーザuのアイテムiに対する予測評価値を返す。\n",
    "\n",
    "    Parameters\n",
    "    ----------\n",
    "    u : int\n",
    "        ユーザuのID（ダミー）\n",
    "    i : int\n",
    "        アイテムiのID\n",
    "\n",
    "    Returns\n",
    "    -------\n",
    "    float\n",
    "        予測評価値\n",
    "    \"\"\"\n",
    "    Iip = Ii[i][np.isin(Ii[i], Iup)]\n",
    "    print('I{}+ = {}'.format(i, Iip))\n",
    "    Iin = Ii[i][np.isin(Ii[i], Iun)]\n",
    "    print('I{}- = {}'.format(i, Iin))\n",
    "    \n",
    "    rui = 0\n",
    "    if Iip.size > Iin.size:\n",
    "        rui = 1\n",
    "    elif Iip.size < Iin.size:\n",
    "        rui = -1\n",
    "    return rui\n",
    "\n",
    "u = 0\n",
    "i = 7\n",
    "print('predict1({}, {}) = {:.3f}'.format(u, i, predict1(u, i)))\n",
    "u = 0\n",
    "i = 9\n",
    "print('predict1({}, {}) = {:.3f}'.format(u, i, predict1(u, i)))"
   ]
  },
  {
   "cell_type": "markdown",
   "metadata": {},
   "source": [
    "# 嗜好予測（平均方式）\n",
    "\n",
    "平均方式によるユーザ$u$のアイテム$i$への予測評価値$\\hat{r}_{u,i}$は次式により定義される。\n",
    "\n",
    "$$\n",
    "\\hat{r}_{u,i} = \\frac{1}{k} \\sum_{j \\in I_{i}} r_{u,j}\n",
    "$$\n",
    "\n",
    "この予測関数を次のコードのとおり定義する。ここで、`K_ITEMS`は近傍$k$件を表す定数である。\n",
    "\n",
    "### 関数\n",
    "\n",
    "```python\n",
    "def predict2(u, i):\n",
    "    \"\"\"\n",
    "    予測関数（平均方式）：平均方式によりユーザuのアイテムiに対する評価値を予測する。\n",
    "\n",
    "    Parameters\n",
    "    ----------\n",
    "    u : int\n",
    "        ユーザuのID（ダミー）\n",
    "    i : int\n",
    "        アイテムiのID\n",
    "\n",
    "    Returns\n",
    "    -------\n",
    "    float\n",
    "        予測評価値\n",
    "    \"\"\"\n",
    "    【    問09    】\n",
    "    return rui\n",
    "```\n",
    "\n",
    "### コード\n",
    "\n",
    "```python\n",
    "u = 0\n",
    "i = 7\n",
    "print('predict2({}, {}) = {:.3f}'.format(u, i, predict2(u, i)))\n",
    "u = 0\n",
    "i = 9\n",
    "print('predict2({}, {}) = {:.3f}'.format(u, i, predict2(u, i)))\n",
    "```\n",
    "\n",
    "### 結果\n",
    "\n",
    "```bash\n",
    "predict2(0, 7) = 1.000\n",
    "predict2(0, 9) = -0.333\n",
    "```\n",
    "\n",
    "このとき、関数の仕様を満たすように、次の問いに答えなさい。"
   ]
  },
  {
   "cell_type": "markdown",
   "metadata": {},
   "source": [
    "## 09 平均方式による予測評価値\n",
    "\n",
    "平均方式によるユーザ$u$のアイテム$i$への予測評価値$\\hat{r}_{u,i}$を求めるコードを書きなさい。得られた値を`rui`とすること。"
   ]
  },
  {
   "cell_type": "code",
   "execution_count": 17,
   "metadata": {},
   "outputs": [
    {
     "name": "stdout",
     "output_type": "stream",
     "text": [
      "predict2(0, 7) = 1.000\n",
      "predict2(0, 9) = -0.333\n"
     ]
    }
   ],
   "source": [
    "def predict2(u, i):\n",
    "    \"\"\"\n",
    "    予測関数（平均方式）：平均方式によりユーザuのアイテムiに対する評価値を予測する。\n",
    "\n",
    "    Parameters\n",
    "    ----------\n",
    "    u : int\n",
    "        ユーザuのID（ダミー）\n",
    "    i : int\n",
    "        アイテムiのID\n",
    "\n",
    "    Returns\n",
    "    -------\n",
    "    float\n",
    "        予測評価値\n",
    "    \"\"\"\n",
    "    rui = (1 / K_ITEMS) * np.sum([ru[j] for j in Ii[i]])\n",
    "    return rui\n",
    "\n",
    "u = 0\n",
    "i = 7\n",
    "print('predict2({}, {}) = {:.3f}'.format(u, i, predict2(u, i)))\n",
    "u = 0\n",
    "i = 9\n",
    "print('predict2({}, {}) = {:.3f}'.format(u, i, predict2(u, i)))"
   ]
  },
  {
   "cell_type": "markdown",
   "metadata": {},
   "source": [
    "# 推薦\n",
    "\n",
    "スコア関数$\\mathrm{score}(u, i)$はユーザ$u$がアイテム$i$を好む程度をスコアとして返す関数であり、次式のように定義される。\n",
    "\n",
    "$$\n",
    "\\mathrm{score}(u, i) = \\hat{r}_{u,i}\n",
    "$$\n",
    "\n",
    "このスコア関数を次のコードのとおり定義する。\n",
    "\n",
    "### 関数\n",
    "\n",
    "```python\n",
    "def score(u, i):\n",
    "    \"\"\"\n",
    "    スコア関数：ユーザuのアイテムiに対するスコアを返す。\n",
    "\n",
    "    Parameters\n",
    "    ----------\n",
    "    u : int\n",
    "        ユーザuのID\n",
    "    i : int\n",
    "        アイテムiのID\n",
    "\n",
    "    Returns\n",
    "    -------\n",
    "    float\n",
    "        スコア\n",
    "    \"\"\"\n",
    "    return predict2(u, i)\n",
    "```\n",
    "\n",
    "順序付け関数$\\mathrm{order}(u, I)$は、アイテム集合$I$が与えられたとき、ユーザ$u$向けの推薦リストを返す関数である。ここでは、スコア上位$K$件のアイテム集合を推薦リストとして返すものとする。ただし、$\\mathrm{score}(u, i) < \\theta$となるアイテム$$i$$は推薦リストから除外する。この順序付け関数を次のコードのとおり定義する。\n",
    "\n",
    "### 関数\n",
    "\n",
    "```python\n",
    "def order(u, I):\n",
    "    \"\"\"\n",
    "    順序付け関数：アイテム集合Iにおいて、ユーザu向けの推薦リストを返す。\n",
    "\n",
    "    Parameters\n",
    "    ----------\n",
    "    u : int\n",
    "        ユーザuのID\n",
    "    I : ndarray\n",
    "        アイテム集合\n",
    "\n",
    "    Returns\n",
    "    -------\n",
    "    list\n",
    "        タプル(アイテムID: スコア)を要素にした推薦リスト\n",
    "    \"\"\"\n",
    "    scores = {i: score(u, i) for i in I}\n",
    "    【    問10    】\n",
    "    rec_list = sorted(scores.items(), key=lambda x:x[1], reverse=True)[:TOP_K]\n",
    "    return rec_list\n",
    "```\n",
    "\n",
    "このとき、関数の仕様を満たすように、次の問いに答えなさい。"
   ]
  },
  {
   "cell_type": "markdown",
   "metadata": {},
   "source": [
    "## 10 推薦リスト\n",
    "\n",
    "`scores`から`score(u, i) < THETA`となるペアを除いた辞書を生成するコードを書きなさい。生成した辞書を`scores`とすること。"
   ]
  },
  {
   "cell_type": "code",
   "execution_count": 18,
   "metadata": {},
   "outputs": [
    {
     "name": "stdout",
     "output_type": "stream",
     "text": [
      "rec_list = \n",
      "7: 1.000\n",
      "8: 1.000\n"
     ]
    }
   ],
   "source": [
    "def score(u, i):\n",
    "    \"\"\"\n",
    "    スコア関数：ユーザuのアイテムiに対するスコアを返す。\n",
    "\n",
    "    Parameters\n",
    "    ----------\n",
    "    u : int\n",
    "        ユーザuのID\n",
    "    i : int\n",
    "        アイテムiのID\n",
    "\n",
    "    Returns\n",
    "    -------\n",
    "    float\n",
    "        スコア\n",
    "    \"\"\"\n",
    "    return predict2(u, i)\n",
    "\n",
    "def order(u, I):\n",
    "    \"\"\"\n",
    "    順序付け関数：アイテム集合Iにおいて、ユーザu向けの推薦リストを返す。\n",
    "\n",
    "    Parameters\n",
    "    ----------\n",
    "    u : int\n",
    "        ユーザuのID\n",
    "    I : ndarray\n",
    "        アイテム集合\n",
    "\n",
    "    Returns\n",
    "    -------\n",
    "    list\n",
    "        タプル(アイテムID: スコア)を要素にした推薦リスト\n",
    "    \"\"\"\n",
    "    scores = {i: score(u, i) for i in I}\n",
    "    scores = {i:scr for i,scr in scores.items() if scr >= THETA}\n",
    "    rec_list = sorted(scores.items(), key=lambda x:x[1], reverse=True)[:TOP_K]\n",
    "    return rec_list\n",
    "\n",
    "u = 0\n",
    "rec_list = order(u, Iu_not)\n",
    "print('rec_list = ')\n",
    "for i, scr in rec_list:\n",
    "    print('{}: {:.3f}'.format(i, scr))"
   ]
  }
 ],
 "metadata": {
  "kernelspec": {
   "display_name": ".venv",
   "language": "python",
   "name": "python3"
  },
  "language_info": {
   "codemirror_mode": {
    "name": "ipython",
    "version": 3
   },
   "file_extension": ".py",
   "mimetype": "text/x-python",
   "name": "python",
   "nbconvert_exporter": "python",
   "pygments_lexer": "ipython3",
   "version": "3.11.3"
  }
 },
 "nbformat": 4,
 "nbformat_minor": 2
}
